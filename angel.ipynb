{
 "cells": [
  {
   "cell_type": "code",
   "execution_count": 1,
   "metadata": {},
   "outputs": [],
   "source": [
    "import pandas as pd\n",
    "import plotly.express as px"
   ]
  },
  {
   "cell_type": "code",
   "execution_count": 2,
   "metadata": {},
   "outputs": [
    {
     "data": {
      "text/html": [
       "<div>\n",
       "<style scoped>\n",
       "    .dataframe tbody tr th:only-of-type {\n",
       "        vertical-align: middle;\n",
       "    }\n",
       "\n",
       "    .dataframe tbody tr th {\n",
       "        vertical-align: top;\n",
       "    }\n",
       "\n",
       "    .dataframe thead th {\n",
       "        text-align: right;\n",
       "    }\n",
       "</style>\n",
       "<table border=\"1\" class=\"dataframe\">\n",
       "  <thead>\n",
       "    <tr style=\"text-align: right;\">\n",
       "      <th></th>\n",
       "      <th>rango_salarial</th>\n",
       "      <th>asegurados</th>\n",
       "      <th>no_trabajadores</th>\n",
       "      <th>año</th>\n",
       "      <th>mes</th>\n",
       "      <th>fecha</th>\n",
       "      <th>municipio</th>\n",
       "      <th>sector_economico_2</th>\n",
       "      <th>sector_economico_4</th>\n",
       "      <th>tamaño_patronal</th>\n",
       "      <th>sexo</th>\n",
       "      <th>rango_edad</th>\n",
       "      <th>rango_salarial_descripcion</th>\n",
       "    </tr>\n",
       "  </thead>\n",
       "  <tbody>\n",
       "    <tr>\n",
       "      <th>0</th>\n",
       "      <td>W2</td>\n",
       "      <td>6</td>\n",
       "      <td>0</td>\n",
       "      <td>2006</td>\n",
       "      <td>1</td>\n",
       "      <td>2006-01-01</td>\n",
       "      <td>SAN LUIS RÍO COLORADO</td>\n",
       "      <td>Agricultura</td>\n",
       "      <td>Agricultura</td>\n",
       "      <td>Con un puesto de trabajo</td>\n",
       "      <td>Hombre</td>\n",
       "      <td>Mayor o igual a 55 y menor a 60 años de edad</td>\n",
       "      <td>mayor a 1 y hasta 2 veces el salario mínimo</td>\n",
       "    </tr>\n",
       "    <tr>\n",
       "      <th>1</th>\n",
       "      <td>W2</td>\n",
       "      <td>6</td>\n",
       "      <td>0</td>\n",
       "      <td>2006</td>\n",
       "      <td>1</td>\n",
       "      <td>2006-01-01</td>\n",
       "      <td>SAN LUIS RÍO COLORADO</td>\n",
       "      <td>Agricultura</td>\n",
       "      <td>Agricultura</td>\n",
       "      <td>Con un puesto de trabajo</td>\n",
       "      <td>Hombre</td>\n",
       "      <td>Mayor o igual a 60 y menor a 65 años de edad</td>\n",
       "      <td>mayor a 1 y hasta 2 veces el salario mínimo</td>\n",
       "    </tr>\n",
       "    <tr>\n",
       "      <th>2</th>\n",
       "      <td>W2</td>\n",
       "      <td>3</td>\n",
       "      <td>0</td>\n",
       "      <td>2006</td>\n",
       "      <td>1</td>\n",
       "      <td>2006-01-01</td>\n",
       "      <td>SAN LUIS RÍO COLORADO</td>\n",
       "      <td>Agricultura</td>\n",
       "      <td>Agricultura</td>\n",
       "      <td>Con un puesto de trabajo</td>\n",
       "      <td>Hombre</td>\n",
       "      <td>Mayor o igual a 70 y menor a 75 años de edad</td>\n",
       "      <td>mayor a 1 y hasta 2 veces el salario mínimo</td>\n",
       "    </tr>\n",
       "    <tr>\n",
       "      <th>3</th>\n",
       "      <td>W2</td>\n",
       "      <td>6</td>\n",
       "      <td>0</td>\n",
       "      <td>2006</td>\n",
       "      <td>1</td>\n",
       "      <td>2006-01-01</td>\n",
       "      <td>SAN LUIS RÍO COLORADO</td>\n",
       "      <td>Agricultura</td>\n",
       "      <td>Agricultura</td>\n",
       "      <td>Con un puesto de trabajo</td>\n",
       "      <td>Hombre</td>\n",
       "      <td>Mayor o igual a 30 y menor a 35 años de edad</td>\n",
       "      <td>mayor a 1 y hasta 2 veces el salario mínimo</td>\n",
       "    </tr>\n",
       "    <tr>\n",
       "      <th>4</th>\n",
       "      <td>W2</td>\n",
       "      <td>5</td>\n",
       "      <td>0</td>\n",
       "      <td>2006</td>\n",
       "      <td>1</td>\n",
       "      <td>2006-01-01</td>\n",
       "      <td>SAN LUIS RÍO COLORADO</td>\n",
       "      <td>Agricultura</td>\n",
       "      <td>Agricultura</td>\n",
       "      <td>Con un puesto de trabajo</td>\n",
       "      <td>Hombre</td>\n",
       "      <td>Mayor o igual a 35 y menor a 40 años de edad</td>\n",
       "      <td>mayor a 1 y hasta 2 veces el salario mínimo</td>\n",
       "    </tr>\n",
       "  </tbody>\n",
       "</table>\n",
       "</div>"
      ],
      "text/plain": [
       "  rango_salarial  asegurados  no_trabajadores   año  mes       fecha  \\\n",
       "0             W2           6                0  2006    1  2006-01-01   \n",
       "1             W2           6                0  2006    1  2006-01-01   \n",
       "2             W2           3                0  2006    1  2006-01-01   \n",
       "3             W2           6                0  2006    1  2006-01-01   \n",
       "4             W2           5                0  2006    1  2006-01-01   \n",
       "\n",
       "               municipio sector_economico_2 sector_economico_4  \\\n",
       "0  SAN LUIS RÍO COLORADO        Agricultura        Agricultura   \n",
       "1  SAN LUIS RÍO COLORADO        Agricultura        Agricultura   \n",
       "2  SAN LUIS RÍO COLORADO        Agricultura        Agricultura   \n",
       "3  SAN LUIS RÍO COLORADO        Agricultura        Agricultura   \n",
       "4  SAN LUIS RÍO COLORADO        Agricultura        Agricultura   \n",
       "\n",
       "            tamaño_patronal    sexo  \\\n",
       "0  Con un puesto de trabajo  Hombre   \n",
       "1  Con un puesto de trabajo  Hombre   \n",
       "2  Con un puesto de trabajo  Hombre   \n",
       "3  Con un puesto de trabajo  Hombre   \n",
       "4  Con un puesto de trabajo  Hombre   \n",
       "\n",
       "                                     rango_edad  \\\n",
       "0  Mayor o igual a 55 y menor a 60 años de edad   \n",
       "1  Mayor o igual a 60 y menor a 65 años de edad   \n",
       "2  Mayor o igual a 70 y menor a 75 años de edad   \n",
       "3  Mayor o igual a 30 y menor a 35 años de edad   \n",
       "4  Mayor o igual a 35 y menor a 40 años de edad   \n",
       "\n",
       "                     rango_salarial_descripcion  \n",
       "0   mayor a 1 y hasta 2 veces el salario mínimo  \n",
       "1   mayor a 1 y hasta 2 veces el salario mínimo  \n",
       "2   mayor a 1 y hasta 2 veces el salario mínimo  \n",
       "3   mayor a 1 y hasta 2 veces el salario mínimo  \n",
       "4   mayor a 1 y hasta 2 veces el salario mínimo  "
      ]
     },
     "execution_count": 2,
     "metadata": {},
     "output_type": "execute_result"
    }
   ],
   "source": [
    "imss = pd.read_csv('tidy/tidy_imss.csv')\n",
    "imss.head()"
   ]
  },
  {
   "cell_type": "code",
   "execution_count": 4,
   "metadata": {},
   "outputs": [
    {
     "data": {
      "text/html": [
       "<div>\n",
       "<style scoped>\n",
       "    .dataframe tbody tr th:only-of-type {\n",
       "        vertical-align: middle;\n",
       "    }\n",
       "\n",
       "    .dataframe tbody tr th {\n",
       "        vertical-align: top;\n",
       "    }\n",
       "\n",
       "    .dataframe thead th {\n",
       "        text-align: right;\n",
       "    }\n",
       "</style>\n",
       "<table border=\"1\" class=\"dataframe\">\n",
       "  <thead>\n",
       "    <tr style=\"text-align: right;\">\n",
       "      <th></th>\n",
       "      <th>fecha</th>\n",
       "      <th>rango_edad</th>\n",
       "      <th>sector_economico_2</th>\n",
       "      <th>asegurados</th>\n",
       "    </tr>\n",
       "  </thead>\n",
       "  <tbody>\n",
       "    <tr>\n",
       "      <th>8227</th>\n",
       "      <td>2022-12-01</td>\n",
       "      <td>Mayor o igual a 65 y menor a 70 años de edad</td>\n",
       "      <td>Ganadería</td>\n",
       "      <td>201</td>\n",
       "    </tr>\n",
       "    <tr>\n",
       "      <th>8228</th>\n",
       "      <td>2022-12-01</td>\n",
       "      <td>Mayor o igual a 65 y menor a 70 años de edad</td>\n",
       "      <td>Pesca</td>\n",
       "      <td>83</td>\n",
       "    </tr>\n",
       "    <tr>\n",
       "      <th>8229</th>\n",
       "      <td>2022-12-01</td>\n",
       "      <td>Mayor o igual a 70 y menor a 75 años de edad</td>\n",
       "      <td>Agricultura</td>\n",
       "      <td>290</td>\n",
       "    </tr>\n",
       "    <tr>\n",
       "      <th>8230</th>\n",
       "      <td>2022-12-01</td>\n",
       "      <td>Mayor o igual a 70 y menor a 75 años de edad</td>\n",
       "      <td>Ganadería</td>\n",
       "      <td>65</td>\n",
       "    </tr>\n",
       "    <tr>\n",
       "      <th>8231</th>\n",
       "      <td>2022-12-01</td>\n",
       "      <td>Mayor o igual a 70 y menor a 75 años de edad</td>\n",
       "      <td>Pesca</td>\n",
       "      <td>25</td>\n",
       "    </tr>\n",
       "  </tbody>\n",
       "</table>\n",
       "</div>"
      ],
      "text/plain": [
       "           fecha                                    rango_edad  \\\n",
       "8227  2022-12-01  Mayor o igual a 65 y menor a 70 años de edad   \n",
       "8228  2022-12-01  Mayor o igual a 65 y menor a 70 años de edad   \n",
       "8229  2022-12-01  Mayor o igual a 70 y menor a 75 años de edad   \n",
       "8230  2022-12-01  Mayor o igual a 70 y menor a 75 años de edad   \n",
       "8231  2022-12-01  Mayor o igual a 70 y menor a 75 años de edad   \n",
       "\n",
       "     sector_economico_2  asegurados  \n",
       "8227          Ganadería         201  \n",
       "8228              Pesca          83  \n",
       "8229        Agricultura         290  \n",
       "8230          Ganadería          65  \n",
       "8231              Pesca          25  "
      ]
     },
     "execution_count": 4,
     "metadata": {},
     "output_type": "execute_result"
    }
   ],
   "source": [
    "# Grafica de lineas que explica la generacion de empleos para cada sector economico dependiendo el rango de edad a traves del tiempo\n",
    "empleos = imss[['fecha', 'rango_edad', 'sector_economico_2', 'asegurados']].groupby(['fecha', 'rango_edad', 'sector_economico_2']).sum().reset_index()\n",
    "empleos.tail()"
   ]
  },
  {
   "cell_type": "code",
   "execution_count": 5,
   "metadata": {},
   "outputs": [],
   "source": [
    "# Definir el mapeo de reetiquetado\n",
    "mapeo = {'Mayor o igual a 15 y menor a 20 años de edad': 'Mayor o igual a 15 y menor a 25 años de edad',\n",
    "         'Mayor o igual a 20 y menor a 25 años de edad': 'Mayor o igual a 15 y menor a 25 años de edad',\n",
    "         'Mayor o igual a 25 y menor a 30 años de edad': 'Mayor o igual a 25 y menor a 45 años de edad',\n",
    "         'Mayor o igual a 30 y menor a 35 años de edad': 'Mayor o igual a 25 y menor a 45 años de edad',\n",
    "         'Mayor o igual a 35 y menor a 40 años de edad': 'Mayor o igual a 25 y menor a 45 años de edad',\n",
    "         'Mayor o igual a 40 y menor a 45 años de edad': 'Mayor o igual a 25 y menor a 45 años de edad',\n",
    "         'Mayor o igual a 45 y menor a 50 años de edad': 'Mayor o igual a 45 y menor a 65 años de edad',\n",
    "         'Mayor o igual a 50 y menor a 55 años de edad': 'Mayor o igual a 45 y menor a 65 años de edad',\n",
    "         'Mayor o igual a 55 y menor a 60 años de edad': 'Mayor o igual a 45 y menor a 65 años de edad',\n",
    "         'Mayor o igual a 60 y menor a 65 años de edad': 'Mayor o igual a 45 y menor a 65 años de edad',\n",
    "         'Mayor o igual a 65 y menor a 70 años de edad': 'Mayor o igual a 65 años de edad',\n",
    "         'Mayor o igual a 70 y menor a 75 años de edad': 'Mayor o igual a 65 años de edad',\n",
    "         '75 o más años de edad': 'Mayor o igual a 65 años de edad'}\n",
    "\n",
    "# Reetiquetar la columna 'rango_edad'\n",
    "empleos['rango_edad'] = empleos['rango_edad'].replace(mapeo)"
   ]
  },
  {
   "cell_type": "code",
   "execution_count": 6,
   "metadata": {},
   "outputs": [
    {
     "data": {
      "text/html": [
       "<div>\n",
       "<style scoped>\n",
       "    .dataframe tbody tr th:only-of-type {\n",
       "        vertical-align: middle;\n",
       "    }\n",
       "\n",
       "    .dataframe tbody tr th {\n",
       "        vertical-align: top;\n",
       "    }\n",
       "\n",
       "    .dataframe thead th {\n",
       "        text-align: right;\n",
       "    }\n",
       "</style>\n",
       "<table border=\"1\" class=\"dataframe\">\n",
       "  <thead>\n",
       "    <tr style=\"text-align: right;\">\n",
       "      <th></th>\n",
       "      <th>fecha</th>\n",
       "      <th>rango_edad</th>\n",
       "      <th>sector_economico_2</th>\n",
       "      <th>asegurados</th>\n",
       "    </tr>\n",
       "  </thead>\n",
       "  <tbody>\n",
       "    <tr>\n",
       "      <th>2746</th>\n",
       "      <td>2022-12-01</td>\n",
       "      <td>Mayor o igual a 45 y menor a 65 años de edad</td>\n",
       "      <td>Ganadería</td>\n",
       "      <td>4931</td>\n",
       "    </tr>\n",
       "    <tr>\n",
       "      <th>2747</th>\n",
       "      <td>2022-12-01</td>\n",
       "      <td>Mayor o igual a 45 y menor a 65 años de edad</td>\n",
       "      <td>Pesca</td>\n",
       "      <td>1921</td>\n",
       "    </tr>\n",
       "    <tr>\n",
       "      <th>2748</th>\n",
       "      <td>2022-12-01</td>\n",
       "      <td>Mayor o igual a 65 años de edad</td>\n",
       "      <td>Agricultura</td>\n",
       "      <td>1140</td>\n",
       "    </tr>\n",
       "    <tr>\n",
       "      <th>2749</th>\n",
       "      <td>2022-12-01</td>\n",
       "      <td>Mayor o igual a 65 años de edad</td>\n",
       "      <td>Ganadería</td>\n",
       "      <td>298</td>\n",
       "    </tr>\n",
       "    <tr>\n",
       "      <th>2750</th>\n",
       "      <td>2022-12-01</td>\n",
       "      <td>Mayor o igual a 65 años de edad</td>\n",
       "      <td>Pesca</td>\n",
       "      <td>121</td>\n",
       "    </tr>\n",
       "  </tbody>\n",
       "</table>\n",
       "</div>"
      ],
      "text/plain": [
       "           fecha                                    rango_edad  \\\n",
       "2746  2022-12-01  Mayor o igual a 45 y menor a 65 años de edad   \n",
       "2747  2022-12-01  Mayor o igual a 45 y menor a 65 años de edad   \n",
       "2748  2022-12-01               Mayor o igual a 65 años de edad   \n",
       "2749  2022-12-01               Mayor o igual a 65 años de edad   \n",
       "2750  2022-12-01               Mayor o igual a 65 años de edad   \n",
       "\n",
       "     sector_economico_2  asegurados  \n",
       "2746          Ganadería        4931  \n",
       "2747              Pesca        1921  \n",
       "2748        Agricultura        1140  \n",
       "2749          Ganadería         298  \n",
       "2750              Pesca         121  "
      ]
     },
     "execution_count": 6,
     "metadata": {},
     "output_type": "execute_result"
    }
   ],
   "source": [
    "empleos = empleos.groupby(['fecha', 'rango_edad', 'sector_economico_2']).sum().reset_index()\n",
    "empleos.tail()"
   ]
  },
  {
   "cell_type": "code",
   "execution_count": 7,
   "metadata": {},
   "outputs": [
    {
     "data": {
      "application/vnd.plotly.v1+json": {
       "config": {
        "plotlyServerURL": "https://plot.ly"
       },
       "data": [
        {
         "hovertemplate": "rango_edad=Mayor o igual a 15 y menor a 25 años de edad<br>sector_economico_2=Agricultura<br>fecha=%{x}<br>asegurados=%{y}<extra></extra>",
         "legendgroup": "Mayor o igual a 15 y menor a 25 años de edad",
         "line": {
          "color": "#636efa",
          "dash": "solid"
         },
         "marker": {
          "symbol": "circle"
         },
         "mode": "lines",
         "name": "Mayor o igual a 15 y menor a 25 años de edad",
         "showlegend": true,
         "type": "scattergl",
         "x": [
          "2006-01-01",
          "2006-02-01",
          "2006-03-01",
          "2006-04-01",
          "2006-05-01",
          "2006-06-01",
          "2006-07-01",
          "2006-08-01",
          "2006-09-01",
          "2006-10-01",
          "2006-11-01",
          "2006-12-01",
          "2007-01-01",
          "2007-02-01",
          "2007-03-01",
          "2007-04-01",
          "2007-05-01",
          "2007-06-01",
          "2007-07-01",
          "2007-08-01",
          "2007-09-01",
          "2007-10-01",
          "2007-11-01",
          "2007-12-01",
          "2008-01-01",
          "2008-02-01",
          "2008-03-01",
          "2008-04-01",
          "2008-05-01",
          "2008-06-01",
          "2008-07-01",
          "2008-08-01",
          "2008-09-01",
          "2008-11-01",
          "2008-12-01",
          "2009-01-01",
          "2009-02-01",
          "2009-03-01",
          "2009-04-01",
          "2009-05-01",
          "2009-06-01",
          "2009-07-01",
          "2009-08-01",
          "2009-09-01",
          "2009-10-01",
          "2009-11-01",
          "2009-12-01",
          "2010-01-01",
          "2010-02-01",
          "2010-03-01",
          "2010-04-01",
          "2010-05-01",
          "2010-06-01",
          "2010-07-01",
          "2010-08-01",
          "2010-09-01",
          "2010-10-01",
          "2010-11-01",
          "2010-12-01",
          "2011-01-01",
          "2011-02-01",
          "2011-03-01",
          "2011-04-01",
          "2011-05-01",
          "2011-06-01",
          "2011-07-01",
          "2011-08-01",
          "2011-09-01",
          "2011-10-01",
          "2011-11-01",
          "2011-12-01",
          "2012-01-01",
          "2012-02-01",
          "2012-03-01",
          "2012-04-01",
          "2012-05-01",
          "2012-06-01",
          "2012-07-01",
          "2012-08-01",
          "2012-09-01",
          "2012-10-01",
          "2012-11-01",
          "2012-12-01",
          "2013-01-01",
          "2013-02-01",
          "2013-03-01",
          "2013-04-01",
          "2013-05-01",
          "2013-06-01",
          "2013-07-01",
          "2013-08-01",
          "2013-09-01",
          "2013-10-01",
          "2013-11-01",
          "2013-12-01",
          "2014-01-01",
          "2014-02-01",
          "2014-03-01",
          "2014-04-01",
          "2014-05-01",
          "2014-06-01",
          "2014-07-01",
          "2014-08-01",
          "2014-09-01",
          "2014-10-01",
          "2014-11-01",
          "2014-12-01",
          "2015-01-01",
          "2015-02-01",
          "2015-03-01",
          "2015-04-01",
          "2015-05-01",
          "2015-06-01",
          "2015-07-01",
          "2015-08-01",
          "2015-09-01",
          "2015-10-01",
          "2015-11-01",
          "2015-12-01",
          "2016-01-01",
          "2016-02-01",
          "2016-03-01",
          "2016-04-01",
          "2016-05-01",
          "2016-06-01",
          "2016-07-01",
          "2016-08-01",
          "2016-09-01",
          "2016-10-01",
          "2016-11-01",
          "2016-12-01",
          "2017-01-01",
          "2017-02-01",
          "2017-03-01",
          "2017-04-01",
          "2017-05-01",
          "2017-06-01",
          "2017-07-01",
          "2017-08-01",
          "2017-09-01",
          "2017-10-01",
          "2017-11-01",
          "2017-12-01",
          "2018-01-01",
          "2018-02-01",
          "2018-03-01",
          "2018-04-01",
          "2018-05-01",
          "2018-06-01",
          "2018-07-01",
          "2018-08-01",
          "2018-09-01",
          "2018-10-01",
          "2018-11-01",
          "2018-12-01",
          "2019-01-01",
          "2019-02-01",
          "2019-03-01",
          "2019-04-01",
          "2019-05-01",
          "2019-06-01",
          "2019-07-01",
          "2019-08-01",
          "2019-09-01",
          "2019-10-01",
          "2019-11-01",
          "2019-12-01",
          "2020-01-01",
          "2020-02-01",
          "2020-03-01",
          "2020-04-01",
          "2020-05-01",
          "2020-06-01",
          "2020-07-01",
          "2020-08-01",
          "2020-09-01",
          "2020-10-01",
          "2020-11-01",
          "2020-12-01",
          "2021-01-01",
          "2021-02-01",
          "2021-03-01",
          "2021-04-01",
          "2021-05-01",
          "2021-06-01",
          "2021-07-01",
          "2021-08-01",
          "2021-09-01",
          "2021-10-01",
          "2021-11-01",
          "2021-12-01",
          "2022-01-01",
          "2022-02-01",
          "2022-03-01",
          "2022-04-01",
          "2022-05-01",
          "2022-06-01",
          "2022-07-01",
          "2022-08-01",
          "2022-09-01",
          "2022-10-01",
          "2022-11-01",
          "2022-12-01"
         ],
         "xaxis": "x3",
         "y": [
          6168,
          6333,
          4299,
          4806,
          4294,
          2838,
          2290,
          1956,
          2121,
          2683,
          3466,
          3605,
          6068,
          6801,
          4593,
          4949,
          5228,
          3395,
          2302,
          2181,
          2476,
          2475,
          2883,
          3293,
          6920,
          6782,
          4901,
          5326,
          4509,
          2586,
          1983,
          1803,
          1872,
          2542,
          3141,
          4493,
          5880,
          5881,
          4238,
          4715,
          3130,
          1774,
          2078,
          2682,
          2815,
          3359,
          3591,
          6278,
          6054,
          6987,
          5764,
          5714,
          4125,
          2536,
          2144,
          2354,
          3077,
          3628,
          4738,
          4904,
          4974,
          5440,
          4947,
          4965,
          3672,
          2305,
          2569,
          3063,
          3372,
          4119,
          4075,
          5503,
          8084,
          9261,
          7754,
          5731,
          3964,
          2553,
          2450,
          2408,
          3640,
          5227,
          4840,
          5042,
          6273,
          7818,
          6184,
          5942,
          4495,
          2885,
          2419,
          3105,
          4344,
          5612,
          5206,
          5817,
          9640,
          11192,
          8164,
          6594,
          4911,
          2239,
          2251,
          2964,
          4053,
          4466,
          5409,
          4855,
          7535,
          5975,
          5568,
          6090,
          4422,
          3262,
          3198,
          3873,
          4883,
          6006,
          5457,
          6887,
          6802,
          7903,
          8358,
          6792,
          4546,
          3398,
          3571,
          4653,
          5700,
          7338,
          6465,
          6711,
          9658,
          13167,
          8543,
          8264,
          5543,
          3670,
          4081,
          5254,
          7671,
          6744,
          7073,
          8665,
          8737,
          14196,
          9364,
          9368,
          6441,
          4397,
          4356,
          6902,
          8072,
          8156,
          7678,
          8154,
          9595,
          13561,
          10131,
          9350,
          8412,
          5540,
          5991,
          6827,
          8488,
          6964,
          7340,
          9296,
          13312,
          11480,
          10289,
          9806,
          7857,
          4812,
          4504,
          6867,
          8287,
          7202,
          6489,
          9329,
          11647,
          13656,
          10707,
          10177,
          8449,
          4143,
          4581,
          7301,
          7744,
          8483,
          7369,
          9326,
          13225,
          11280,
          10523,
          8719,
          6457,
          5026,
          5359,
          8281,
          7751,
          7023,
          6445
         ],
         "yaxis": "y3"
        },
        {
         "hovertemplate": "rango_edad=Mayor o igual a 15 y menor a 25 años de edad<br>sector_economico_2=Ganadería<br>fecha=%{x}<br>asegurados=%{y}<extra></extra>",
         "legendgroup": "Mayor o igual a 15 y menor a 25 años de edad",
         "line": {
          "color": "#636efa",
          "dash": "solid"
         },
         "marker": {
          "symbol": "circle"
         },
         "mode": "lines",
         "name": "Mayor o igual a 15 y menor a 25 años de edad",
         "showlegend": false,
         "type": "scattergl",
         "x": [
          "2006-01-01",
          "2006-02-01",
          "2006-03-01",
          "2006-04-01",
          "2006-05-01",
          "2006-06-01",
          "2006-07-01",
          "2006-08-01",
          "2006-09-01",
          "2006-10-01",
          "2006-11-01",
          "2006-12-01",
          "2007-01-01",
          "2007-02-01",
          "2007-03-01",
          "2007-04-01",
          "2007-05-01",
          "2007-06-01",
          "2007-07-01",
          "2007-08-01",
          "2007-09-01",
          "2007-10-01",
          "2007-11-01",
          "2007-12-01",
          "2008-01-01",
          "2008-02-01",
          "2008-03-01",
          "2008-04-01",
          "2008-05-01",
          "2008-06-01",
          "2008-07-01",
          "2008-08-01",
          "2008-09-01",
          "2008-11-01",
          "2008-12-01",
          "2009-01-01",
          "2009-02-01",
          "2009-03-01",
          "2009-04-01",
          "2009-05-01",
          "2009-06-01",
          "2009-07-01",
          "2009-08-01",
          "2009-09-01",
          "2009-10-01",
          "2009-11-01",
          "2009-12-01",
          "2010-01-01",
          "2010-02-01",
          "2010-03-01",
          "2010-04-01",
          "2010-05-01",
          "2010-06-01",
          "2010-07-01",
          "2010-08-01",
          "2010-09-01",
          "2010-10-01",
          "2010-11-01",
          "2010-12-01",
          "2011-01-01",
          "2011-02-01",
          "2011-03-01",
          "2011-04-01",
          "2011-05-01",
          "2011-06-01",
          "2011-07-01",
          "2011-08-01",
          "2011-09-01",
          "2011-10-01",
          "2011-11-01",
          "2011-12-01",
          "2012-01-01",
          "2012-02-01",
          "2012-03-01",
          "2012-04-01",
          "2012-05-01",
          "2012-06-01",
          "2012-07-01",
          "2012-08-01",
          "2012-09-01",
          "2012-10-01",
          "2012-11-01",
          "2012-12-01",
          "2013-01-01",
          "2013-02-01",
          "2013-03-01",
          "2013-04-01",
          "2013-05-01",
          "2013-06-01",
          "2013-07-01",
          "2013-08-01",
          "2013-09-01",
          "2013-10-01",
          "2013-11-01",
          "2013-12-01",
          "2014-01-01",
          "2014-02-01",
          "2014-03-01",
          "2014-04-01",
          "2014-05-01",
          "2014-06-01",
          "2014-07-01",
          "2014-08-01",
          "2014-09-01",
          "2014-10-01",
          "2014-11-01",
          "2014-12-01",
          "2015-01-01",
          "2015-02-01",
          "2015-03-01",
          "2015-04-01",
          "2015-05-01",
          "2015-06-01",
          "2015-07-01",
          "2015-08-01",
          "2015-09-01",
          "2015-10-01",
          "2015-11-01",
          "2015-12-01",
          "2016-01-01",
          "2016-02-01",
          "2016-03-01",
          "2016-04-01",
          "2016-05-01",
          "2016-06-01",
          "2016-07-01",
          "2016-08-01",
          "2016-09-01",
          "2016-10-01",
          "2016-11-01",
          "2016-12-01",
          "2017-01-01",
          "2017-02-01",
          "2017-03-01",
          "2017-04-01",
          "2017-05-01",
          "2017-06-01",
          "2017-07-01",
          "2017-08-01",
          "2017-09-01",
          "2017-10-01",
          "2017-11-01",
          "2017-12-01",
          "2018-01-01",
          "2018-02-01",
          "2018-03-01",
          "2018-04-01",
          "2018-05-01",
          "2018-06-01",
          "2018-07-01",
          "2018-08-01",
          "2018-09-01",
          "2018-10-01",
          "2018-11-01",
          "2018-12-01",
          "2019-01-01",
          "2019-02-01",
          "2019-03-01",
          "2019-04-01",
          "2019-05-01",
          "2019-06-01",
          "2019-07-01",
          "2019-08-01",
          "2019-09-01",
          "2019-10-01",
          "2019-11-01",
          "2019-12-01",
          "2020-01-01",
          "2020-02-01",
          "2020-03-01",
          "2020-04-01",
          "2020-05-01",
          "2020-06-01",
          "2020-07-01",
          "2020-08-01",
          "2020-09-01",
          "2020-10-01",
          "2020-11-01",
          "2020-12-01",
          "2021-01-01",
          "2021-02-01",
          "2021-03-01",
          "2021-04-01",
          "2021-05-01",
          "2021-06-01",
          "2021-07-01",
          "2021-08-01",
          "2021-09-01",
          "2021-10-01",
          "2021-11-01",
          "2021-12-01",
          "2022-01-01",
          "2022-02-01",
          "2022-03-01",
          "2022-04-01",
          "2022-05-01",
          "2022-06-01",
          "2022-07-01",
          "2022-08-01",
          "2022-09-01",
          "2022-10-01",
          "2022-11-01",
          "2022-12-01"
         ],
         "xaxis": "x2",
         "y": [
          1229,
          1263,
          1307,
          1343,
          1441,
          1442,
          1398,
          1468,
          1493,
          1575,
          1434,
          1429,
          1176,
          1058,
          1275,
          1169,
          1290,
          1248,
          1285,
          1318,
          1529,
          1545,
          1461,
          1279,
          1233,
          1060,
          1218,
          1232,
          1152,
          1252,
          1234,
          1219,
          1287,
          1389,
          1460,
          1004,
          1045,
          1090,
          1141,
          1264,
          1159,
          1197,
          1206,
          1228,
          1252,
          1362,
          1365,
          1111,
          1085,
          1127,
          1129,
          1187,
          1123,
          1092,
          1096,
          1162,
          1223,
          1285,
          1172,
          996,
          1032,
          1095,
          1152,
          1211,
          1063,
          1128,
          1100,
          1156,
          1205,
          1185,
          1222,
          1015,
          1092,
          1165,
          1057,
          1087,
          1213,
          1178,
          1203,
          1244,
          1282,
          1335,
          1426,
          1206,
          1254,
          1115,
          1208,
          1238,
          1245,
          1125,
          1154,
          1198,
          1286,
          1378,
          1416,
          1117,
          1167,
          1234,
          1299,
          1368,
          1395,
          1291,
          1296,
          1398,
          1483,
          1537,
          1562,
          1285,
          1327,
          1247,
          1266,
          1267,
          1321,
          1218,
          1220,
          1312,
          1343,
          1408,
          1408,
          1395,
          1384,
          1270,
          1282,
          1307,
          1310,
          1354,
          1344,
          1381,
          1315,
          1344,
          1343,
          1238,
          1241,
          1230,
          1259,
          1265,
          1233,
          1257,
          1291,
          1306,
          1356,
          1376,
          1356,
          1331,
          1322,
          1361,
          1400,
          1434,
          1396,
          1369,
          1376,
          1371,
          1387,
          1436,
          1409,
          1381,
          1392,
          1406,
          1405,
          1437,
          1346,
          1369,
          1365,
          1402,
          1450,
          1455,
          1434,
          1462,
          1470,
          1499,
          1602,
          1591,
          1487,
          1509,
          1481,
          1490,
          1505,
          1514,
          1507,
          1412,
          1407,
          1419,
          1470,
          1456,
          1488,
          1360,
          1386,
          1400,
          1392,
          1350,
          1300,
          1304,
          1610,
          1334,
          1324,
          1322,
          1310,
          1307,
          1664,
          1657,
          1598,
          1199,
          1622
         ],
         "yaxis": "y2"
        },
        {
         "hovertemplate": "rango_edad=Mayor o igual a 15 y menor a 25 años de edad<br>sector_economico_2=Pesca<br>fecha=%{x}<br>asegurados=%{y}<extra></extra>",
         "legendgroup": "Mayor o igual a 15 y menor a 25 años de edad",
         "line": {
          "color": "#636efa",
          "dash": "solid"
         },
         "marker": {
          "symbol": "circle"
         },
         "mode": "lines",
         "name": "Mayor o igual a 15 y menor a 25 años de edad",
         "showlegend": false,
         "type": "scattergl",
         "x": [
          "2006-01-01",
          "2006-02-01",
          "2006-03-01",
          "2006-04-01",
          "2006-05-01",
          "2006-06-01",
          "2006-07-01",
          "2006-08-01",
          "2006-09-01",
          "2006-10-01",
          "2006-11-01",
          "2006-12-01",
          "2007-01-01",
          "2007-02-01",
          "2007-03-01",
          "2007-04-01",
          "2007-05-01",
          "2007-06-01",
          "2007-07-01",
          "2007-08-01",
          "2007-09-01",
          "2007-10-01",
          "2007-11-01",
          "2007-12-01",
          "2008-01-01",
          "2008-02-01",
          "2008-03-01",
          "2008-04-01",
          "2008-05-01",
          "2008-06-01",
          "2008-07-01",
          "2008-08-01",
          "2008-09-01",
          "2008-11-01",
          "2008-12-01",
          "2009-01-01",
          "2009-02-01",
          "2009-03-01",
          "2009-04-01",
          "2009-05-01",
          "2009-06-01",
          "2009-07-01",
          "2009-08-01",
          "2009-09-01",
          "2009-10-01",
          "2009-11-01",
          "2009-12-01",
          "2010-01-01",
          "2010-02-01",
          "2010-03-01",
          "2010-04-01",
          "2010-05-01",
          "2010-06-01",
          "2010-07-01",
          "2010-08-01",
          "2010-09-01",
          "2010-10-01",
          "2010-11-01",
          "2010-12-01",
          "2011-01-01",
          "2011-02-01",
          "2011-03-01",
          "2011-04-01",
          "2011-05-01",
          "2011-06-01",
          "2011-07-01",
          "2011-08-01",
          "2011-09-01",
          "2011-10-01",
          "2011-11-01",
          "2011-12-01",
          "2012-01-01",
          "2012-02-01",
          "2012-03-01",
          "2012-04-01",
          "2012-05-01",
          "2012-06-01",
          "2012-07-01",
          "2012-08-01",
          "2012-09-01",
          "2012-10-01",
          "2012-11-01",
          "2012-12-01",
          "2013-01-01",
          "2013-02-01",
          "2013-03-01",
          "2013-04-01",
          "2013-05-01",
          "2013-06-01",
          "2013-07-01",
          "2013-08-01",
          "2013-09-01",
          "2013-10-01",
          "2013-11-01",
          "2013-12-01",
          "2014-01-01",
          "2014-02-01",
          "2014-03-01",
          "2014-04-01",
          "2014-05-01",
          "2014-06-01",
          "2014-07-01",
          "2014-08-01",
          "2014-09-01",
          "2014-10-01",
          "2014-11-01",
          "2014-12-01",
          "2015-01-01",
          "2015-02-01",
          "2015-03-01",
          "2015-04-01",
          "2015-05-01",
          "2015-06-01",
          "2015-07-01",
          "2015-08-01",
          "2015-09-01",
          "2015-10-01",
          "2015-11-01",
          "2015-12-01",
          "2016-01-01",
          "2016-02-01",
          "2016-03-01",
          "2016-04-01",
          "2016-05-01",
          "2016-06-01",
          "2016-07-01",
          "2016-08-01",
          "2016-09-01",
          "2016-10-01",
          "2016-11-01",
          "2016-12-01",
          "2017-01-01",
          "2017-02-01",
          "2017-03-01",
          "2017-04-01",
          "2017-05-01",
          "2017-06-01",
          "2017-07-01",
          "2017-08-01",
          "2017-09-01",
          "2017-10-01",
          "2017-11-01",
          "2017-12-01",
          "2018-01-01",
          "2018-02-01",
          "2018-03-01",
          "2018-04-01",
          "2018-05-01",
          "2018-06-01",
          "2018-07-01",
          "2018-08-01",
          "2018-09-01",
          "2018-10-01",
          "2018-11-01",
          "2018-12-01",
          "2019-01-01",
          "2019-02-01",
          "2019-03-01",
          "2019-04-01",
          "2019-05-01",
          "2019-06-01",
          "2019-07-01",
          "2019-08-01",
          "2019-09-01",
          "2019-10-01",
          "2019-11-01",
          "2019-12-01",
          "2020-01-01",
          "2020-02-01",
          "2020-03-01",
          "2020-04-01",
          "2020-05-01",
          "2020-06-01",
          "2020-07-01",
          "2020-08-01",
          "2020-09-01",
          "2020-10-01",
          "2020-11-01",
          "2020-12-01",
          "2021-01-01",
          "2021-02-01",
          "2021-03-01",
          "2021-04-01",
          "2021-05-01",
          "2021-06-01",
          "2021-07-01",
          "2021-08-01",
          "2021-09-01",
          "2021-10-01",
          "2021-11-01",
          "2021-12-01",
          "2022-01-01",
          "2022-02-01",
          "2022-03-01",
          "2022-04-01",
          "2022-05-01",
          "2022-06-01",
          "2022-07-01",
          "2022-08-01",
          "2022-09-01",
          "2022-10-01",
          "2022-11-01",
          "2022-12-01"
         ],
         "xaxis": "x",
         "y": [
          280,
          295,
          420,
          466,
          578,
          668,
          813,
          875,
          1071,
          988,
          468,
          273,
          224,
          278,
          355,
          387,
          417,
          524,
          598,
          622,
          795,
          730,
          315,
          217,
          204,
          276,
          361,
          476,
          522,
          695,
          896,
          1125,
          1175,
          587,
          278,
          251,
          294,
          385,
          508,
          617,
          709,
          890,
          996,
          1234,
          1075,
          340,
          265,
          228,
          273,
          415,
          531,
          588,
          671,
          870,
          787,
          1020,
          432,
          294,
          238,
          181,
          266,
          341,
          455,
          560,
          641,
          1083,
          976,
          759,
          444,
          409,
          202,
          192,
          240,
          341,
          473,
          497,
          594,
          595,
          637,
          765,
          252,
          223,
          214,
          211,
          247,
          290,
          437,
          483,
          581,
          328,
          268,
          285,
          215,
          202,
          201,
          177,
          235,
          285,
          371,
          428,
          493,
          495,
          489,
          546,
          433,
          340,
          263,
          301,
          364,
          418,
          551,
          549,
          632,
          693,
          639,
          662,
          601,
          414,
          299,
          411,
          486,
          548,
          588,
          618,
          736,
          767,
          709,
          697,
          584,
          400,
          292,
          452,
          560,
          603,
          626,
          735,
          851,
          966,
          914,
          930,
          778,
          562,
          359,
          476,
          600,
          687,
          777,
          884,
          1027,
          1109,
          1092,
          1104,
          995,
          724,
          437,
          537,
          648,
          695,
          742,
          744,
          897,
          1100,
          949,
          1007,
          872,
          595,
          398,
          524,
          634,
          687,
          626,
          723,
          862,
          988,
          922,
          949,
          785,
          492,
          363,
          525,
          669,
          728,
          734,
          758,
          888,
          1054,
          951,
          980,
          870,
          457,
          311,
          526,
          684,
          738,
          745,
          803,
          935,
          1032,
          961,
          900,
          816,
          527,
          305
         ],
         "yaxis": "y"
        },
        {
         "hovertemplate": "rango_edad=Mayor o igual a 25 y menor a 45 años de edad<br>sector_economico_2=Agricultura<br>fecha=%{x}<br>asegurados=%{y}<extra></extra>",
         "legendgroup": "Mayor o igual a 25 y menor a 45 años de edad",
         "line": {
          "color": "#EF553B",
          "dash": "solid"
         },
         "marker": {
          "symbol": "circle"
         },
         "mode": "lines",
         "name": "Mayor o igual a 25 y menor a 45 años de edad",
         "showlegend": true,
         "type": "scattergl",
         "x": [
          "2006-01-01",
          "2006-02-01",
          "2006-03-01",
          "2006-04-01",
          "2006-05-01",
          "2006-06-01",
          "2006-07-01",
          "2006-08-01",
          "2006-09-01",
          "2006-10-01",
          "2006-11-01",
          "2006-12-01",
          "2007-01-01",
          "2007-02-01",
          "2007-03-01",
          "2007-04-01",
          "2007-05-01",
          "2007-06-01",
          "2007-07-01",
          "2007-08-01",
          "2007-09-01",
          "2007-10-01",
          "2007-11-01",
          "2007-12-01",
          "2008-01-01",
          "2008-02-01",
          "2008-03-01",
          "2008-04-01",
          "2008-05-01",
          "2008-06-01",
          "2008-07-01",
          "2008-08-01",
          "2008-09-01",
          "2008-11-01",
          "2008-12-01",
          "2009-01-01",
          "2009-02-01",
          "2009-03-01",
          "2009-04-01",
          "2009-05-01",
          "2009-06-01",
          "2009-07-01",
          "2009-08-01",
          "2009-09-01",
          "2009-10-01",
          "2009-11-01",
          "2009-12-01",
          "2010-01-01",
          "2010-02-01",
          "2010-03-01",
          "2010-04-01",
          "2010-05-01",
          "2010-06-01",
          "2010-07-01",
          "2010-08-01",
          "2010-09-01",
          "2010-10-01",
          "2010-11-01",
          "2010-12-01",
          "2011-01-01",
          "2011-02-01",
          "2011-03-01",
          "2011-04-01",
          "2011-05-01",
          "2011-06-01",
          "2011-07-01",
          "2011-08-01",
          "2011-09-01",
          "2011-10-01",
          "2011-11-01",
          "2011-12-01",
          "2012-01-01",
          "2012-02-01",
          "2012-03-01",
          "2012-04-01",
          "2012-05-01",
          "2012-06-01",
          "2012-07-01",
          "2012-08-01",
          "2012-09-01",
          "2012-10-01",
          "2012-11-01",
          "2012-12-01",
          "2013-01-01",
          "2013-02-01",
          "2013-03-01",
          "2013-04-01",
          "2013-05-01",
          "2013-06-01",
          "2013-07-01",
          "2013-08-01",
          "2013-09-01",
          "2013-10-01",
          "2013-11-01",
          "2013-12-01",
          "2014-01-01",
          "2014-02-01",
          "2014-03-01",
          "2014-04-01",
          "2014-05-01",
          "2014-06-01",
          "2014-07-01",
          "2014-08-01",
          "2014-09-01",
          "2014-10-01",
          "2014-11-01",
          "2014-12-01",
          "2015-01-01",
          "2015-02-01",
          "2015-03-01",
          "2015-04-01",
          "2015-05-01",
          "2015-06-01",
          "2015-07-01",
          "2015-08-01",
          "2015-09-01",
          "2015-10-01",
          "2015-11-01",
          "2015-12-01",
          "2016-01-01",
          "2016-02-01",
          "2016-03-01",
          "2016-04-01",
          "2016-05-01",
          "2016-06-01",
          "2016-07-01",
          "2016-08-01",
          "2016-09-01",
          "2016-10-01",
          "2016-11-01",
          "2016-12-01",
          "2017-01-01",
          "2017-02-01",
          "2017-03-01",
          "2017-04-01",
          "2017-05-01",
          "2017-06-01",
          "2017-07-01",
          "2017-08-01",
          "2017-09-01",
          "2017-10-01",
          "2017-11-01",
          "2017-12-01",
          "2018-01-01",
          "2018-02-01",
          "2018-03-01",
          "2018-04-01",
          "2018-05-01",
          "2018-06-01",
          "2018-07-01",
          "2018-08-01",
          "2018-09-01",
          "2018-10-01",
          "2018-11-01",
          "2018-12-01",
          "2019-01-01",
          "2019-02-01",
          "2019-03-01",
          "2019-04-01",
          "2019-05-01",
          "2019-06-01",
          "2019-07-01",
          "2019-08-01",
          "2019-09-01",
          "2019-10-01",
          "2019-11-01",
          "2019-12-01",
          "2020-01-01",
          "2020-02-01",
          "2020-03-01",
          "2020-04-01",
          "2020-05-01",
          "2020-06-01",
          "2020-07-01",
          "2020-08-01",
          "2020-09-01",
          "2020-10-01",
          "2020-11-01",
          "2020-12-01",
          "2021-01-01",
          "2021-02-01",
          "2021-03-01",
          "2021-04-01",
          "2021-05-01",
          "2021-06-01",
          "2021-07-01",
          "2021-08-01",
          "2021-09-01",
          "2021-10-01",
          "2021-11-01",
          "2021-12-01",
          "2022-01-01",
          "2022-02-01",
          "2022-03-01",
          "2022-04-01",
          "2022-05-01",
          "2022-06-01",
          "2022-07-01",
          "2022-08-01",
          "2022-09-01",
          "2022-10-01",
          "2022-11-01",
          "2022-12-01"
         ],
         "xaxis": "x3",
         "y": [
          12124,
          12628,
          10982,
          11481,
          10971,
          8865,
          7777,
          7602,
          7758,
          8769,
          9791,
          9844,
          12913,
          13804,
          12032,
          12351,
          12666,
          10118,
          8408,
          8300,
          8522,
          9124,
          9663,
          9805,
          13868,
          13875,
          12720,
          13224,
          11659,
          9431,
          8189,
          7988,
          8151,
          9202,
          9859,
          11573,
          12935,
          13826,
          11936,
          12074,
          10154,
          8037,
          8352,
          9354,
          10080,
          11405,
          11426,
          14396,
          14602,
          15541,
          14854,
          14117,
          11555,
          9654,
          9053,
          9417,
          10725,
          11903,
          12177,
          13275,
          14028,
          14852,
          13948,
          13995,
          12210,
          9994,
          11024,
          11772,
          11740,
          13005,
          12853,
          15946,
          18310,
          19880,
          17446,
          15090,
          12825,
          10267,
          10455,
          10360,
          12426,
          14528,
          13941,
          15860,
          17191,
          18843,
          16960,
          16151,
          14023,
          11278,
          10580,
          11726,
          13397,
          15498,
          14473,
          16884,
          21163,
          23588,
          19720,
          17732,
          14566,
          10449,
          10497,
          11683,
          13070,
          13680,
          14649,
          15409,
          20020,
          17338,
          16688,
          17489,
          15656,
          12616,
          12392,
          13456,
          14961,
          17180,
          15275,
          18242,
          18526,
          20545,
          21112,
          19082,
          14655,
          12846,
          13298,
          14800,
          16435,
          19726,
          17503,
          17808,
          22003,
          26029,
          20841,
          20416,
          16720,
          13359,
          14014,
          15246,
          18513,
          17903,
          18008,
          20184,
          21436,
          27235,
          21038,
          21613,
          17833,
          14390,
          14162,
          18028,
          19264,
          19760,
          18923,
          21031,
          22962,
          27333,
          23275,
          22318,
          21318,
          17249,
          16975,
          17366,
          20267,
          17954,
          19589,
          22129,
          27326,
          24044,
          23980,
          23094,
          19892,
          15660,
          14892,
          18579,
          20055,
          18793,
          18209,
          20973,
          24345,
          26870,
          23897,
          22602,
          20808,
          14216,
          14698,
          18512,
          18512,
          20090,
          17964,
          21691,
          25780,
          24777,
          22932,
          20659,
          18516,
          16113,
          16270,
          20008,
          18524,
          18472,
          17544
         ],
         "yaxis": "y3"
        },
        {
         "hovertemplate": "rango_edad=Mayor o igual a 25 y menor a 45 años de edad<br>sector_economico_2=Ganadería<br>fecha=%{x}<br>asegurados=%{y}<extra></extra>",
         "legendgroup": "Mayor o igual a 25 y menor a 45 años de edad",
         "line": {
          "color": "#EF553B",
          "dash": "solid"
         },
         "marker": {
          "symbol": "circle"
         },
         "mode": "lines",
         "name": "Mayor o igual a 25 y menor a 45 años de edad",
         "showlegend": false,
         "type": "scattergl",
         "x": [
          "2006-01-01",
          "2006-02-01",
          "2006-03-01",
          "2006-04-01",
          "2006-05-01",
          "2006-06-01",
          "2006-07-01",
          "2006-08-01",
          "2006-09-01",
          "2006-10-01",
          "2006-11-01",
          "2006-12-01",
          "2007-01-01",
          "2007-02-01",
          "2007-03-01",
          "2007-04-01",
          "2007-05-01",
          "2007-06-01",
          "2007-07-01",
          "2007-08-01",
          "2007-09-01",
          "2007-10-01",
          "2007-11-01",
          "2007-12-01",
          "2008-01-01",
          "2008-02-01",
          "2008-03-01",
          "2008-04-01",
          "2008-05-01",
          "2008-06-01",
          "2008-07-01",
          "2008-08-01",
          "2008-09-01",
          "2008-11-01",
          "2008-12-01",
          "2009-01-01",
          "2009-02-01",
          "2009-03-01",
          "2009-04-01",
          "2009-05-01",
          "2009-06-01",
          "2009-07-01",
          "2009-08-01",
          "2009-09-01",
          "2009-10-01",
          "2009-11-01",
          "2009-12-01",
          "2010-01-01",
          "2010-02-01",
          "2010-03-01",
          "2010-04-01",
          "2010-05-01",
          "2010-06-01",
          "2010-07-01",
          "2010-08-01",
          "2010-09-01",
          "2010-10-01",
          "2010-11-01",
          "2010-12-01",
          "2011-01-01",
          "2011-02-01",
          "2011-03-01",
          "2011-04-01",
          "2011-05-01",
          "2011-06-01",
          "2011-07-01",
          "2011-08-01",
          "2011-09-01",
          "2011-10-01",
          "2011-11-01",
          "2011-12-01",
          "2012-01-01",
          "2012-02-01",
          "2012-03-01",
          "2012-04-01",
          "2012-05-01",
          "2012-06-01",
          "2012-07-01",
          "2012-08-01",
          "2012-09-01",
          "2012-10-01",
          "2012-11-01",
          "2012-12-01",
          "2013-01-01",
          "2013-02-01",
          "2013-03-01",
          "2013-04-01",
          "2013-05-01",
          "2013-06-01",
          "2013-07-01",
          "2013-08-01",
          "2013-09-01",
          "2013-10-01",
          "2013-11-01",
          "2013-12-01",
          "2014-01-01",
          "2014-02-01",
          "2014-03-01",
          "2014-04-01",
          "2014-05-01",
          "2014-06-01",
          "2014-07-01",
          "2014-08-01",
          "2014-09-01",
          "2014-10-01",
          "2014-11-01",
          "2014-12-01",
          "2015-01-01",
          "2015-02-01",
          "2015-03-01",
          "2015-04-01",
          "2015-05-01",
          "2015-06-01",
          "2015-07-01",
          "2015-08-01",
          "2015-09-01",
          "2015-10-01",
          "2015-11-01",
          "2015-12-01",
          "2016-01-01",
          "2016-02-01",
          "2016-03-01",
          "2016-04-01",
          "2016-05-01",
          "2016-06-01",
          "2016-07-01",
          "2016-08-01",
          "2016-09-01",
          "2016-10-01",
          "2016-11-01",
          "2016-12-01",
          "2017-01-01",
          "2017-02-01",
          "2017-03-01",
          "2017-04-01",
          "2017-05-01",
          "2017-06-01",
          "2017-07-01",
          "2017-08-01",
          "2017-09-01",
          "2017-10-01",
          "2017-11-01",
          "2017-12-01",
          "2018-01-01",
          "2018-02-01",
          "2018-03-01",
          "2018-04-01",
          "2018-05-01",
          "2018-06-01",
          "2018-07-01",
          "2018-08-01",
          "2018-09-01",
          "2018-10-01",
          "2018-11-01",
          "2018-12-01",
          "2019-01-01",
          "2019-02-01",
          "2019-03-01",
          "2019-04-01",
          "2019-05-01",
          "2019-06-01",
          "2019-07-01",
          "2019-08-01",
          "2019-09-01",
          "2019-10-01",
          "2019-11-01",
          "2019-12-01",
          "2020-01-01",
          "2020-02-01",
          "2020-03-01",
          "2020-04-01",
          "2020-05-01",
          "2020-06-01",
          "2020-07-01",
          "2020-08-01",
          "2020-09-01",
          "2020-10-01",
          "2020-11-01",
          "2020-12-01",
          "2021-01-01",
          "2021-02-01",
          "2021-03-01",
          "2021-04-01",
          "2021-05-01",
          "2021-06-01",
          "2021-07-01",
          "2021-08-01",
          "2021-09-01",
          "2021-10-01",
          "2021-11-01",
          "2021-12-01",
          "2022-01-01",
          "2022-02-01",
          "2022-03-01",
          "2022-04-01",
          "2022-05-01",
          "2022-06-01",
          "2022-07-01",
          "2022-08-01",
          "2022-09-01",
          "2022-10-01",
          "2022-11-01",
          "2022-12-01"
         ],
         "xaxis": "x2",
         "y": [
          5731,
          5767,
          5738,
          5750,
          5850,
          5840,
          5836,
          5977,
          5893,
          5962,
          5779,
          5676,
          5790,
          5623,
          5777,
          5712,
          5923,
          5841,
          5865,
          5954,
          5961,
          5958,
          5813,
          5535,
          5712,
          5589,
          5713,
          5780,
          5654,
          5707,
          5636,
          5643,
          5685,
          5780,
          5808,
          5464,
          5526,
          5635,
          5736,
          5867,
          5628,
          5667,
          5732,
          5808,
          5833,
          5958,
          5893,
          5516,
          5453,
          5524,
          5730,
          5780,
          5620,
          5569,
          5678,
          5756,
          5790,
          5865,
          5632,
          5707,
          5759,
          5851,
          5936,
          6029,
          5758,
          5809,
          5860,
          5910,
          5952,
          5951,
          5882,
          5872,
          5964,
          6000,
          5788,
          5803,
          5883,
          5798,
          5799,
          5819,
          5872,
          5918,
          5939,
          6021,
          6094,
          5784,
          5940,
          6031,
          6015,
          5696,
          5694,
          5703,
          5859,
          5980,
          6006,
          5763,
          5862,
          5932,
          6018,
          6137,
          6213,
          5816,
          5838,
          6103,
          6180,
          6241,
          6251,
          6295,
          6376,
          6097,
          6222,
          6143,
          6178,
          5875,
          5899,
          5973,
          5998,
          6027,
          5980,
          5989,
          5996,
          5762,
          5742,
          5786,
          5825,
          5909,
          5930,
          6001,
          5970,
          5987,
          5992,
          5812,
          5805,
          5898,
          5947,
          5956,
          5778,
          5787,
          5882,
          5987,
          6050,
          6122,
          6108,
          6136,
          6162,
          6208,
          6255,
          6090,
          5851,
          5857,
          5883,
          5920,
          6006,
          6076,
          6089,
          6164,
          6197,
          6279,
          6238,
          6319,
          5959,
          5998,
          5949,
          6029,
          6097,
          6143,
          6142,
          6409,
          6410,
          6456,
          6588,
          6576,
          6213,
          6189,
          6134,
          6176,
          6251,
          6252,
          6237,
          6075,
          5991,
          5911,
          5928,
          5886,
          5927,
          5058,
          5187,
          5357,
          5393,
          5379,
          5325,
          5392,
          6035,
          5357,
          5323,
          5294,
          5280,
          5308,
          5813,
          5784,
          5784,
          5036,
          5838
         ],
         "yaxis": "y2"
        },
        {
         "hovertemplate": "rango_edad=Mayor o igual a 25 y menor a 45 años de edad<br>sector_economico_2=Pesca<br>fecha=%{x}<br>asegurados=%{y}<extra></extra>",
         "legendgroup": "Mayor o igual a 25 y menor a 45 años de edad",
         "line": {
          "color": "#EF553B",
          "dash": "solid"
         },
         "marker": {
          "symbol": "circle"
         },
         "mode": "lines",
         "name": "Mayor o igual a 25 y menor a 45 años de edad",
         "showlegend": false,
         "type": "scattergl",
         "x": [
          "2006-01-01",
          "2006-02-01",
          "2006-03-01",
          "2006-04-01",
          "2006-05-01",
          "2006-06-01",
          "2006-07-01",
          "2006-08-01",
          "2006-09-01",
          "2006-10-01",
          "2006-11-01",
          "2006-12-01",
          "2007-01-01",
          "2007-02-01",
          "2007-03-01",
          "2007-04-01",
          "2007-05-01",
          "2007-06-01",
          "2007-07-01",
          "2007-08-01",
          "2007-09-01",
          "2007-10-01",
          "2007-11-01",
          "2007-12-01",
          "2008-01-01",
          "2008-02-01",
          "2008-03-01",
          "2008-04-01",
          "2008-05-01",
          "2008-06-01",
          "2008-07-01",
          "2008-08-01",
          "2008-09-01",
          "2008-11-01",
          "2008-12-01",
          "2009-01-01",
          "2009-02-01",
          "2009-03-01",
          "2009-04-01",
          "2009-05-01",
          "2009-06-01",
          "2009-07-01",
          "2009-08-01",
          "2009-09-01",
          "2009-10-01",
          "2009-11-01",
          "2009-12-01",
          "2010-01-01",
          "2010-02-01",
          "2010-03-01",
          "2010-04-01",
          "2010-05-01",
          "2010-06-01",
          "2010-07-01",
          "2010-08-01",
          "2010-09-01",
          "2010-10-01",
          "2010-11-01",
          "2010-12-01",
          "2011-01-01",
          "2011-02-01",
          "2011-03-01",
          "2011-04-01",
          "2011-05-01",
          "2011-06-01",
          "2011-07-01",
          "2011-08-01",
          "2011-09-01",
          "2011-10-01",
          "2011-11-01",
          "2011-12-01",
          "2012-01-01",
          "2012-02-01",
          "2012-03-01",
          "2012-04-01",
          "2012-05-01",
          "2012-06-01",
          "2012-07-01",
          "2012-08-01",
          "2012-09-01",
          "2012-10-01",
          "2012-11-01",
          "2012-12-01",
          "2013-01-01",
          "2013-02-01",
          "2013-03-01",
          "2013-04-01",
          "2013-05-01",
          "2013-06-01",
          "2013-07-01",
          "2013-08-01",
          "2013-09-01",
          "2013-10-01",
          "2013-11-01",
          "2013-12-01",
          "2014-01-01",
          "2014-02-01",
          "2014-03-01",
          "2014-04-01",
          "2014-05-01",
          "2014-06-01",
          "2014-07-01",
          "2014-08-01",
          "2014-09-01",
          "2014-10-01",
          "2014-11-01",
          "2014-12-01",
          "2015-01-01",
          "2015-02-01",
          "2015-03-01",
          "2015-04-01",
          "2015-05-01",
          "2015-06-01",
          "2015-07-01",
          "2015-08-01",
          "2015-09-01",
          "2015-10-01",
          "2015-11-01",
          "2015-12-01",
          "2016-01-01",
          "2016-02-01",
          "2016-03-01",
          "2016-04-01",
          "2016-05-01",
          "2016-06-01",
          "2016-07-01",
          "2016-08-01",
          "2016-09-01",
          "2016-10-01",
          "2016-11-01",
          "2016-12-01",
          "2017-01-01",
          "2017-02-01",
          "2017-03-01",
          "2017-04-01",
          "2017-05-01",
          "2017-06-01",
          "2017-07-01",
          "2017-08-01",
          "2017-09-01",
          "2017-10-01",
          "2017-11-01",
          "2017-12-01",
          "2018-01-01",
          "2018-02-01",
          "2018-03-01",
          "2018-04-01",
          "2018-05-01",
          "2018-06-01",
          "2018-07-01",
          "2018-08-01",
          "2018-09-01",
          "2018-10-01",
          "2018-11-01",
          "2018-12-01",
          "2019-01-01",
          "2019-02-01",
          "2019-03-01",
          "2019-04-01",
          "2019-05-01",
          "2019-06-01",
          "2019-07-01",
          "2019-08-01",
          "2019-09-01",
          "2019-10-01",
          "2019-11-01",
          "2019-12-01",
          "2020-01-01",
          "2020-02-01",
          "2020-03-01",
          "2020-04-01",
          "2020-05-01",
          "2020-06-01",
          "2020-07-01",
          "2020-08-01",
          "2020-09-01",
          "2020-10-01",
          "2020-11-01",
          "2020-12-01",
          "2021-01-01",
          "2021-02-01",
          "2021-03-01",
          "2021-04-01",
          "2021-05-01",
          "2021-06-01",
          "2021-07-01",
          "2021-08-01",
          "2021-09-01",
          "2021-10-01",
          "2021-11-01",
          "2021-12-01",
          "2022-01-01",
          "2022-02-01",
          "2022-03-01",
          "2022-04-01",
          "2022-05-01",
          "2022-06-01",
          "2022-07-01",
          "2022-08-01",
          "2022-09-01",
          "2022-10-01",
          "2022-11-01",
          "2022-12-01"
         ],
         "xaxis": "x",
         "y": [
          2285,
          2249,
          2220,
          2435,
          2609,
          2778,
          2899,
          3135,
          4153,
          3940,
          2904,
          2113,
          2240,
          2280,
          2123,
          2315,
          2317,
          2528,
          2706,
          2911,
          3786,
          3596,
          2460,
          2051,
          2117,
          2240,
          2290,
          2559,
          2779,
          3106,
          3457,
          3923,
          4499,
          3196,
          2200,
          2326,
          2309,
          2401,
          2660,
          2875,
          3154,
          3577,
          3679,
          4676,
          4096,
          2498,
          2170,
          2256,
          2425,
          2554,
          2772,
          2976,
          3205,
          3424,
          3256,
          4046,
          2591,
          2286,
          2033,
          1997,
          2241,
          2278,
          2671,
          2876,
          3263,
          4028,
          3808,
          3674,
          2716,
          2570,
          1970,
          2070,
          2125,
          2276,
          2639,
          2783,
          2941,
          2996,
          3091,
          3720,
          2170,
          1963,
          1803,
          1873,
          1960,
          1981,
          2375,
          2468,
          2729,
          2162,
          1857,
          2189,
          1980,
          1839,
          1694,
          1735,
          1770,
          1728,
          1996,
          2154,
          2367,
          2299,
          2252,
          2714,
          2462,
          2169,
          1909,
          2069,
          2218,
          2143,
          2413,
          2446,
          2576,
          2732,
          2653,
          3008,
          2811,
          2300,
          1936,
          2176,
          2375,
          2376,
          2525,
          2569,
          2824,
          2799,
          2751,
          3013,
          2898,
          2417,
          2105,
          2379,
          2638,
          2658,
          2642,
          2828,
          3006,
          3227,
          3182,
          3491,
          3253,
          2747,
          2203,
          2518,
          2739,
          2854,
          3163,
          3375,
          3568,
          3782,
          3722,
          4116,
          3879,
          3216,
          2385,
          2727,
          2951,
          3012,
          2996,
          3076,
          3284,
          3641,
          3487,
          3815,
          3592,
          2853,
          2249,
          2641,
          2876,
          2874,
          2731,
          2865,
          3149,
          3207,
          3135,
          3488,
          3147,
          2478,
          2110,
          2500,
          2773,
          2850,
          2910,
          2927,
          3097,
          3374,
          3224,
          3422,
          3216,
          2354,
          1971,
          2488,
          2846,
          2910,
          2928,
          3120,
          3273,
          3521,
          3570,
          3597,
          3368,
          2595,
          1958
         ],
         "yaxis": "y"
        },
        {
         "hovertemplate": "rango_edad=Mayor o igual a 45 y menor a 65 años de edad<br>sector_economico_2=Agricultura<br>fecha=%{x}<br>asegurados=%{y}<extra></extra>",
         "legendgroup": "Mayor o igual a 45 y menor a 65 años de edad",
         "line": {
          "color": "#00cc96",
          "dash": "solid"
         },
         "marker": {
          "symbol": "circle"
         },
         "mode": "lines",
         "name": "Mayor o igual a 45 y menor a 65 años de edad",
         "showlegend": true,
         "type": "scattergl",
         "x": [
          "2006-01-01",
          "2006-02-01",
          "2006-03-01",
          "2006-04-01",
          "2006-05-01",
          "2006-06-01",
          "2006-07-01",
          "2006-08-01",
          "2006-09-01",
          "2006-10-01",
          "2006-11-01",
          "2006-12-01",
          "2007-01-01",
          "2007-02-01",
          "2007-03-01",
          "2007-04-01",
          "2007-05-01",
          "2007-06-01",
          "2007-07-01",
          "2007-08-01",
          "2007-09-01",
          "2007-10-01",
          "2007-11-01",
          "2007-12-01",
          "2008-01-01",
          "2008-02-01",
          "2008-03-01",
          "2008-04-01",
          "2008-05-01",
          "2008-06-01",
          "2008-07-01",
          "2008-08-01",
          "2008-09-01",
          "2008-11-01",
          "2008-12-01",
          "2009-01-01",
          "2009-02-01",
          "2009-03-01",
          "2009-04-01",
          "2009-05-01",
          "2009-06-01",
          "2009-07-01",
          "2009-08-01",
          "2009-09-01",
          "2009-10-01",
          "2009-11-01",
          "2009-12-01",
          "2010-01-01",
          "2010-02-01",
          "2010-03-01",
          "2010-04-01",
          "2010-05-01",
          "2010-06-01",
          "2010-07-01",
          "2010-08-01",
          "2010-09-01",
          "2010-10-01",
          "2010-11-01",
          "2010-12-01",
          "2011-01-01",
          "2011-02-01",
          "2011-03-01",
          "2011-04-01",
          "2011-05-01",
          "2011-06-01",
          "2011-07-01",
          "2011-08-01",
          "2011-09-01",
          "2011-10-01",
          "2011-11-01",
          "2011-12-01",
          "2012-01-01",
          "2012-02-01",
          "2012-03-01",
          "2012-04-01",
          "2012-05-01",
          "2012-06-01",
          "2012-07-01",
          "2012-08-01",
          "2012-09-01",
          "2012-10-01",
          "2012-11-01",
          "2012-12-01",
          "2013-01-01",
          "2013-02-01",
          "2013-03-01",
          "2013-04-01",
          "2013-05-01",
          "2013-06-01",
          "2013-07-01",
          "2013-08-01",
          "2013-09-01",
          "2013-10-01",
          "2013-11-01",
          "2013-12-01",
          "2014-01-01",
          "2014-02-01",
          "2014-03-01",
          "2014-04-01",
          "2014-05-01",
          "2014-06-01",
          "2014-07-01",
          "2014-08-01",
          "2014-09-01",
          "2014-10-01",
          "2014-11-01",
          "2014-12-01",
          "2015-01-01",
          "2015-02-01",
          "2015-03-01",
          "2015-04-01",
          "2015-05-01",
          "2015-06-01",
          "2015-07-01",
          "2015-08-01",
          "2015-09-01",
          "2015-10-01",
          "2015-11-01",
          "2015-12-01",
          "2016-01-01",
          "2016-02-01",
          "2016-03-01",
          "2016-04-01",
          "2016-05-01",
          "2016-06-01",
          "2016-07-01",
          "2016-08-01",
          "2016-09-01",
          "2016-10-01",
          "2016-11-01",
          "2016-12-01",
          "2017-01-01",
          "2017-02-01",
          "2017-03-01",
          "2017-04-01",
          "2017-05-01",
          "2017-06-01",
          "2017-07-01",
          "2017-08-01",
          "2017-09-01",
          "2017-10-01",
          "2017-11-01",
          "2017-12-01",
          "2018-01-01",
          "2018-02-01",
          "2018-03-01",
          "2018-04-01",
          "2018-05-01",
          "2018-06-01",
          "2018-07-01",
          "2018-08-01",
          "2018-09-01",
          "2018-10-01",
          "2018-11-01",
          "2018-12-01",
          "2019-01-01",
          "2019-02-01",
          "2019-03-01",
          "2019-04-01",
          "2019-05-01",
          "2019-06-01",
          "2019-07-01",
          "2019-08-01",
          "2019-09-01",
          "2019-10-01",
          "2019-11-01",
          "2019-12-01",
          "2020-01-01",
          "2020-02-01",
          "2020-03-01",
          "2020-04-01",
          "2020-05-01",
          "2020-06-01",
          "2020-07-01",
          "2020-08-01",
          "2020-09-01",
          "2020-10-01",
          "2020-11-01",
          "2020-12-01",
          "2021-01-01",
          "2021-02-01",
          "2021-03-01",
          "2021-04-01",
          "2021-05-01",
          "2021-06-01",
          "2021-07-01",
          "2021-08-01",
          "2021-09-01",
          "2021-10-01",
          "2021-11-01",
          "2021-12-01",
          "2022-01-01",
          "2022-02-01",
          "2022-03-01",
          "2022-04-01",
          "2022-05-01",
          "2022-06-01",
          "2022-07-01",
          "2022-08-01",
          "2022-09-01",
          "2022-10-01",
          "2022-11-01",
          "2022-12-01"
         ],
         "xaxis": "x3",
         "y": [
          6229,
          6439,
          6210,
          6460,
          6232,
          5384,
          5004,
          5001,
          5091,
          5488,
          5977,
          5838,
          6918,
          7206,
          6908,
          6966,
          6890,
          5901,
          5376,
          5391,
          5489,
          5866,
          6150,
          6156,
          7290,
          7402,
          7296,
          7455,
          6843,
          6081,
          5617,
          5553,
          5626,
          6137,
          6207,
          6845,
          7316,
          7553,
          7124,
          6948,
          6449,
          5666,
          5683,
          6006,
          6332,
          6868,
          6867,
          7802,
          8009,
          8245,
          8213,
          7793,
          7009,
          6327,
          6166,
          6280,
          6761,
          7288,
          7207,
          7888,
          8186,
          8481,
          8236,
          8092,
          7439,
          6693,
          7061,
          7384,
          7423,
          7830,
          7634,
          9083,
          9604,
          9840,
          9287,
          8595,
          7900,
          6986,
          6923,
          6989,
          7729,
          8382,
          8161,
          9298,
          9503,
          9896,
          9651,
          9262,
          8711,
          7692,
          7302,
          7781,
          8362,
          9138,
          8714,
          9976,
          10805,
          11545,
          10394,
          10060,
          9029,
          7526,
          7532,
          7927,
          8401,
          8715,
          8960,
          9775,
          10990,
          10348,
          10225,
          10169,
          9862,
          8702,
          8527,
          8805,
          9335,
          10194,
          9469,
          10831,
          11011,
          11610,
          11947,
          11113,
          9612,
          8953,
          9141,
          9602,
          10203,
          11314,
          10634,
          10792,
          11967,
          12847,
          11720,
          11355,
          10296,
          9316,
          9574,
          9872,
          10775,
          10872,
          10958,
          11568,
          12198,
          13265,
          11907,
          12092,
          10792,
          9985,
          9842,
          10971,
          11246,
          11767,
          11462,
          12594,
          12684,
          13626,
          13095,
          12590,
          12371,
          11108,
          10889,
          10876,
          11899,
          11199,
          12215,
          13006,
          14244,
          13338,
          13614,
          12988,
          11953,
          10792,
          10428,
          11656,
          11950,
          11854,
          11737,
          12326,
          13449,
          13960,
          13587,
          12871,
          12668,
          10572,
          10757,
          11965,
          12009,
          12709,
          11766,
          13008,
          13887,
          13899,
          13670,
          12675,
          12526,
          11530,
          11580,
          12776,
          12198,
          12366,
          12040
         ],
         "yaxis": "y3"
        },
        {
         "hovertemplate": "rango_edad=Mayor o igual a 45 y menor a 65 años de edad<br>sector_economico_2=Ganadería<br>fecha=%{x}<br>asegurados=%{y}<extra></extra>",
         "legendgroup": "Mayor o igual a 45 y menor a 65 años de edad",
         "line": {
          "color": "#00cc96",
          "dash": "solid"
         },
         "marker": {
          "symbol": "circle"
         },
         "mode": "lines",
         "name": "Mayor o igual a 45 y menor a 65 años de edad",
         "showlegend": false,
         "type": "scattergl",
         "x": [
          "2006-01-01",
          "2006-02-01",
          "2006-03-01",
          "2006-04-01",
          "2006-05-01",
          "2006-06-01",
          "2006-07-01",
          "2006-08-01",
          "2006-09-01",
          "2006-10-01",
          "2006-11-01",
          "2006-12-01",
          "2007-01-01",
          "2007-02-01",
          "2007-03-01",
          "2007-04-01",
          "2007-05-01",
          "2007-06-01",
          "2007-07-01",
          "2007-08-01",
          "2007-09-01",
          "2007-10-01",
          "2007-11-01",
          "2007-12-01",
          "2008-01-01",
          "2008-02-01",
          "2008-03-01",
          "2008-04-01",
          "2008-05-01",
          "2008-06-01",
          "2008-07-01",
          "2008-08-01",
          "2008-09-01",
          "2008-11-01",
          "2008-12-01",
          "2009-01-01",
          "2009-02-01",
          "2009-03-01",
          "2009-04-01",
          "2009-05-01",
          "2009-06-01",
          "2009-07-01",
          "2009-08-01",
          "2009-09-01",
          "2009-10-01",
          "2009-11-01",
          "2009-12-01",
          "2010-01-01",
          "2010-02-01",
          "2010-03-01",
          "2010-04-01",
          "2010-05-01",
          "2010-06-01",
          "2010-07-01",
          "2010-08-01",
          "2010-09-01",
          "2010-10-01",
          "2010-11-01",
          "2010-12-01",
          "2011-01-01",
          "2011-02-01",
          "2011-03-01",
          "2011-04-01",
          "2011-05-01",
          "2011-06-01",
          "2011-07-01",
          "2011-08-01",
          "2011-09-01",
          "2011-10-01",
          "2011-11-01",
          "2011-12-01",
          "2012-01-01",
          "2012-02-01",
          "2012-03-01",
          "2012-04-01",
          "2012-05-01",
          "2012-06-01",
          "2012-07-01",
          "2012-08-01",
          "2012-09-01",
          "2012-10-01",
          "2012-11-01",
          "2012-12-01",
          "2013-01-01",
          "2013-02-01",
          "2013-03-01",
          "2013-04-01",
          "2013-05-01",
          "2013-06-01",
          "2013-07-01",
          "2013-08-01",
          "2013-09-01",
          "2013-10-01",
          "2013-11-01",
          "2013-12-01",
          "2014-01-01",
          "2014-02-01",
          "2014-03-01",
          "2014-04-01",
          "2014-05-01",
          "2014-06-01",
          "2014-07-01",
          "2014-08-01",
          "2014-09-01",
          "2014-10-01",
          "2014-11-01",
          "2014-12-01",
          "2015-01-01",
          "2015-02-01",
          "2015-03-01",
          "2015-04-01",
          "2015-05-01",
          "2015-06-01",
          "2015-07-01",
          "2015-08-01",
          "2015-09-01",
          "2015-10-01",
          "2015-11-01",
          "2015-12-01",
          "2016-01-01",
          "2016-02-01",
          "2016-03-01",
          "2016-04-01",
          "2016-05-01",
          "2016-06-01",
          "2016-07-01",
          "2016-08-01",
          "2016-09-01",
          "2016-10-01",
          "2016-11-01",
          "2016-12-01",
          "2017-01-01",
          "2017-02-01",
          "2017-03-01",
          "2017-04-01",
          "2017-05-01",
          "2017-06-01",
          "2017-07-01",
          "2017-08-01",
          "2017-09-01",
          "2017-10-01",
          "2017-11-01",
          "2017-12-01",
          "2018-01-01",
          "2018-02-01",
          "2018-03-01",
          "2018-04-01",
          "2018-05-01",
          "2018-06-01",
          "2018-07-01",
          "2018-08-01",
          "2018-09-01",
          "2018-10-01",
          "2018-11-01",
          "2018-12-01",
          "2019-01-01",
          "2019-02-01",
          "2019-03-01",
          "2019-04-01",
          "2019-05-01",
          "2019-06-01",
          "2019-07-01",
          "2019-08-01",
          "2019-09-01",
          "2019-10-01",
          "2019-11-01",
          "2019-12-01",
          "2020-01-01",
          "2020-02-01",
          "2020-03-01",
          "2020-04-01",
          "2020-05-01",
          "2020-06-01",
          "2020-07-01",
          "2020-08-01",
          "2020-09-01",
          "2020-10-01",
          "2020-11-01",
          "2020-12-01",
          "2021-01-01",
          "2021-02-01",
          "2021-03-01",
          "2021-04-01",
          "2021-05-01",
          "2021-06-01",
          "2021-07-01",
          "2021-08-01",
          "2021-09-01",
          "2021-10-01",
          "2021-11-01",
          "2021-12-01",
          "2022-01-01",
          "2022-02-01",
          "2022-03-01",
          "2022-04-01",
          "2022-05-01",
          "2022-06-01",
          "2022-07-01",
          "2022-08-01",
          "2022-09-01",
          "2022-10-01",
          "2022-11-01",
          "2022-12-01"
         ],
         "xaxis": "x2",
         "y": [
          3063,
          3050,
          3070,
          3051,
          3085,
          3101,
          3080,
          3111,
          3049,
          3097,
          3006,
          2936,
          3161,
          3104,
          3148,
          3099,
          3156,
          3134,
          3101,
          3111,
          3134,
          3140,
          3048,
          2969,
          3192,
          3123,
          3129,
          3142,
          3089,
          3121,
          3087,
          3090,
          3101,
          3121,
          3106,
          3188,
          3216,
          3216,
          3223,
          3251,
          3144,
          3151,
          3151,
          3141,
          3140,
          3149,
          3118,
          3112,
          3122,
          3155,
          3327,
          3341,
          3260,
          3225,
          3262,
          3261,
          3249,
          3296,
          3214,
          3466,
          3486,
          3478,
          3521,
          3518,
          3390,
          3382,
          3396,
          3393,
          3399,
          3422,
          3387,
          3629,
          3643,
          3645,
          3566,
          3561,
          3598,
          3520,
          3480,
          3502,
          3516,
          3521,
          3537,
          3790,
          3794,
          3646,
          3685,
          3737,
          3732,
          3569,
          3550,
          3522,
          3563,
          3592,
          3613,
          3834,
          3859,
          3871,
          3932,
          3930,
          3962,
          3791,
          3797,
          3881,
          3937,
          3993,
          3970,
          4220,
          4252,
          4157,
          4181,
          4179,
          4173,
          4033,
          4063,
          4097,
          4090,
          4091,
          4084,
          4172,
          4212,
          4122,
          4129,
          4124,
          4137,
          4154,
          4143,
          4173,
          4170,
          4214,
          4247,
          4226,
          4254,
          4213,
          4245,
          4282,
          4168,
          4198,
          4267,
          4297,
          4357,
          4398,
          4428,
          4462,
          4506,
          4569,
          4583,
          4507,
          4397,
          4422,
          4460,
          4510,
          4548,
          4602,
          4567,
          4624,
          4621,
          4659,
          4664,
          4685,
          4514,
          4596,
          4571,
          4610,
          4658,
          4709,
          4718,
          4842,
          4900,
          4920,
          4972,
          4965,
          4779,
          4748,
          4770,
          4797,
          4844,
          4864,
          4916,
          4836,
          4809,
          4810,
          4827,
          4871,
          4903,
          4491,
          4577,
          4627,
          4637,
          4645,
          4646,
          4724,
          4970,
          4742,
          4752,
          4727,
          4727,
          4709,
          4866,
          4816,
          4849,
          4548,
          4931
         ],
         "yaxis": "y2"
        },
        {
         "hovertemplate": "rango_edad=Mayor o igual a 45 y menor a 65 años de edad<br>sector_economico_2=Pesca<br>fecha=%{x}<br>asegurados=%{y}<extra></extra>",
         "legendgroup": "Mayor o igual a 45 y menor a 65 años de edad",
         "line": {
          "color": "#00cc96",
          "dash": "solid"
         },
         "marker": {
          "symbol": "circle"
         },
         "mode": "lines",
         "name": "Mayor o igual a 45 y menor a 65 años de edad",
         "showlegend": false,
         "type": "scattergl",
         "x": [
          "2006-01-01",
          "2006-02-01",
          "2006-03-01",
          "2006-04-01",
          "2006-05-01",
          "2006-06-01",
          "2006-07-01",
          "2006-08-01",
          "2006-09-01",
          "2006-10-01",
          "2006-11-01",
          "2006-12-01",
          "2007-01-01",
          "2007-02-01",
          "2007-03-01",
          "2007-04-01",
          "2007-05-01",
          "2007-06-01",
          "2007-07-01",
          "2007-08-01",
          "2007-09-01",
          "2007-10-01",
          "2007-11-01",
          "2007-12-01",
          "2008-01-01",
          "2008-02-01",
          "2008-03-01",
          "2008-04-01",
          "2008-05-01",
          "2008-06-01",
          "2008-07-01",
          "2008-08-01",
          "2008-09-01",
          "2008-11-01",
          "2008-12-01",
          "2009-01-01",
          "2009-02-01",
          "2009-03-01",
          "2009-04-01",
          "2009-05-01",
          "2009-06-01",
          "2009-07-01",
          "2009-08-01",
          "2009-09-01",
          "2009-10-01",
          "2009-11-01",
          "2009-12-01",
          "2010-01-01",
          "2010-02-01",
          "2010-03-01",
          "2010-04-01",
          "2010-05-01",
          "2010-06-01",
          "2010-07-01",
          "2010-08-01",
          "2010-09-01",
          "2010-10-01",
          "2010-11-01",
          "2010-12-01",
          "2011-01-01",
          "2011-02-01",
          "2011-03-01",
          "2011-04-01",
          "2011-05-01",
          "2011-06-01",
          "2011-07-01",
          "2011-08-01",
          "2011-09-01",
          "2011-10-01",
          "2011-11-01",
          "2011-12-01",
          "2012-01-01",
          "2012-02-01",
          "2012-03-01",
          "2012-04-01",
          "2012-05-01",
          "2012-06-01",
          "2012-07-01",
          "2012-08-01",
          "2012-09-01",
          "2012-10-01",
          "2012-11-01",
          "2012-12-01",
          "2013-01-01",
          "2013-02-01",
          "2013-03-01",
          "2013-04-01",
          "2013-05-01",
          "2013-06-01",
          "2013-07-01",
          "2013-08-01",
          "2013-09-01",
          "2013-10-01",
          "2013-11-01",
          "2013-12-01",
          "2014-01-01",
          "2014-02-01",
          "2014-03-01",
          "2014-04-01",
          "2014-05-01",
          "2014-06-01",
          "2014-07-01",
          "2014-08-01",
          "2014-09-01",
          "2014-10-01",
          "2014-11-01",
          "2014-12-01",
          "2015-01-01",
          "2015-02-01",
          "2015-03-01",
          "2015-04-01",
          "2015-05-01",
          "2015-06-01",
          "2015-07-01",
          "2015-08-01",
          "2015-09-01",
          "2015-10-01",
          "2015-11-01",
          "2015-12-01",
          "2016-01-01",
          "2016-02-01",
          "2016-03-01",
          "2016-04-01",
          "2016-05-01",
          "2016-06-01",
          "2016-07-01",
          "2016-08-01",
          "2016-09-01",
          "2016-10-01",
          "2016-11-01",
          "2016-12-01",
          "2017-01-01",
          "2017-02-01",
          "2017-03-01",
          "2017-04-01",
          "2017-05-01",
          "2017-06-01",
          "2017-07-01",
          "2017-08-01",
          "2017-09-01",
          "2017-10-01",
          "2017-11-01",
          "2017-12-01",
          "2018-01-01",
          "2018-02-01",
          "2018-03-01",
          "2018-04-01",
          "2018-05-01",
          "2018-06-01",
          "2018-07-01",
          "2018-08-01",
          "2018-09-01",
          "2018-10-01",
          "2018-11-01",
          "2018-12-01",
          "2019-01-01",
          "2019-02-01",
          "2019-03-01",
          "2019-04-01",
          "2019-05-01",
          "2019-06-01",
          "2019-07-01",
          "2019-08-01",
          "2019-09-01",
          "2019-10-01",
          "2019-11-01",
          "2019-12-01",
          "2020-01-01",
          "2020-02-01",
          "2020-03-01",
          "2020-04-01",
          "2020-05-01",
          "2020-06-01",
          "2020-07-01",
          "2020-08-01",
          "2020-09-01",
          "2020-10-01",
          "2020-11-01",
          "2020-12-01",
          "2021-01-01",
          "2021-02-01",
          "2021-03-01",
          "2021-04-01",
          "2021-05-01",
          "2021-06-01",
          "2021-07-01",
          "2021-08-01",
          "2021-09-01",
          "2021-10-01",
          "2021-11-01",
          "2021-12-01",
          "2022-01-01",
          "2022-02-01",
          "2022-03-01",
          "2022-04-01",
          "2022-05-01",
          "2022-06-01",
          "2022-07-01",
          "2022-08-01",
          "2022-09-01",
          "2022-10-01",
          "2022-11-01",
          "2022-12-01"
         ],
         "xaxis": "x",
         "y": [
          1314,
          1223,
          1052,
          1132,
          1225,
          1264,
          1260,
          1316,
          1915,
          1843,
          1469,
          1154,
          1332,
          1340,
          1112,
          1127,
          1168,
          1241,
          1267,
          1323,
          1891,
          1813,
          1478,
          1241,
          1352,
          1371,
          1235,
          1298,
          1348,
          1455,
          1507,
          1641,
          2183,
          1721,
          1348,
          1539,
          1431,
          1327,
          1398,
          1475,
          1565,
          1638,
          1635,
          2281,
          2013,
          1560,
          1410,
          1556,
          1535,
          1448,
          1489,
          1572,
          1628,
          1646,
          1602,
          2138,
          1645,
          1554,
          1361,
          1488,
          1499,
          1328,
          1457,
          1549,
          1713,
          1891,
          1804,
          2150,
          1887,
          1815,
          1476,
          1647,
          1533,
          1430,
          1576,
          1616,
          1669,
          1772,
          1748,
          2306,
          1720,
          1581,
          1451,
          1615,
          1571,
          1376,
          1520,
          1548,
          1648,
          1508,
          1360,
          1898,
          1804,
          1741,
          1578,
          1651,
          1600,
          1371,
          1488,
          1568,
          1621,
          1565,
          1509,
          2145,
          2030,
          1918,
          1737,
          1951,
          1910,
          1657,
          1725,
          1766,
          1827,
          1814,
          1783,
          2306,
          2261,
          2021,
          1800,
          1894,
          1939,
          1716,
          1780,
          1806,
          1879,
          1829,
          1887,
          2444,
          2442,
          2207,
          1999,
          2202,
          2221,
          2030,
          1956,
          1956,
          2059,
          2184,
          2167,
          2753,
          2647,
          2384,
          2055,
          2178,
          2262,
          2081,
          2246,
          2299,
          2426,
          2475,
          2539,
          3082,
          2932,
          2523,
          2014,
          2231,
          2365,
          2216,
          2216,
          2236,
          2344,
          2495,
          2388,
          3018,
          2907,
          2516,
          2076,
          2388,
          2439,
          2232,
          2110,
          2200,
          2289,
          2270,
          2313,
          2825,
          2645,
          2223,
          1836,
          2135,
          2267,
          2178,
          2231,
          2274,
          2390,
          2511,
          2461,
          2853,
          2756,
          2232,
          1973,
          2308,
          2541,
          2461,
          2458,
          2563,
          2679,
          2756,
          2806,
          3114,
          2939,
          2435,
          1921
         ],
         "yaxis": "y"
        },
        {
         "hovertemplate": "rango_edad=Mayor o igual a 65 años de edad<br>sector_economico_2=Agricultura<br>fecha=%{x}<br>asegurados=%{y}<extra></extra>",
         "legendgroup": "Mayor o igual a 65 años de edad",
         "line": {
          "color": "#ab63fa",
          "dash": "solid"
         },
         "marker": {
          "symbol": "circle"
         },
         "mode": "lines",
         "name": "Mayor o igual a 65 años de edad",
         "showlegend": true,
         "type": "scattergl",
         "x": [
          "2006-01-01",
          "2006-02-01",
          "2006-03-01",
          "2006-04-01",
          "2006-05-01",
          "2006-06-01",
          "2006-07-01",
          "2006-08-01",
          "2006-09-01",
          "2006-10-01",
          "2006-11-01",
          "2006-12-01",
          "2007-01-01",
          "2007-02-01",
          "2007-03-01",
          "2007-04-01",
          "2007-05-01",
          "2007-06-01",
          "2007-07-01",
          "2007-08-01",
          "2007-09-01",
          "2007-10-01",
          "2007-11-01",
          "2007-12-01",
          "2008-01-01",
          "2008-02-01",
          "2008-03-01",
          "2008-04-01",
          "2008-05-01",
          "2008-06-01",
          "2008-07-01",
          "2008-08-01",
          "2008-09-01",
          "2008-11-01",
          "2008-12-01",
          "2009-01-01",
          "2009-02-01",
          "2009-03-01",
          "2009-04-01",
          "2009-05-01",
          "2009-06-01",
          "2009-07-01",
          "2009-08-01",
          "2009-09-01",
          "2009-10-01",
          "2009-11-01",
          "2009-12-01",
          "2010-01-01",
          "2010-02-01",
          "2010-03-01",
          "2010-04-01",
          "2010-05-01",
          "2010-06-01",
          "2010-07-01",
          "2010-08-01",
          "2010-09-01",
          "2010-10-01",
          "2010-11-01",
          "2010-12-01",
          "2011-01-01",
          "2011-02-01",
          "2011-03-01",
          "2011-04-01",
          "2011-05-01",
          "2011-06-01",
          "2011-07-01",
          "2011-08-01",
          "2011-09-01",
          "2011-10-01",
          "2011-11-01",
          "2011-12-01",
          "2012-01-01",
          "2012-02-01",
          "2012-03-01",
          "2012-04-01",
          "2012-05-01",
          "2012-06-01",
          "2012-07-01",
          "2012-08-01",
          "2012-09-01",
          "2012-10-01",
          "2012-11-01",
          "2012-12-01",
          "2013-01-01",
          "2013-02-01",
          "2013-03-01",
          "2013-04-01",
          "2013-05-01",
          "2013-06-01",
          "2013-07-01",
          "2013-08-01",
          "2013-09-01",
          "2013-10-01",
          "2013-11-01",
          "2013-12-01",
          "2014-01-01",
          "2014-02-01",
          "2014-03-01",
          "2014-04-01",
          "2014-05-01",
          "2014-06-01",
          "2014-07-01",
          "2014-08-01",
          "2014-09-01",
          "2014-10-01",
          "2014-11-01",
          "2014-12-01",
          "2015-01-01",
          "2015-02-01",
          "2015-03-01",
          "2015-04-01",
          "2015-05-01",
          "2015-06-01",
          "2015-07-01",
          "2015-08-01",
          "2015-09-01",
          "2015-10-01",
          "2015-11-01",
          "2015-12-01",
          "2016-01-01",
          "2016-02-01",
          "2016-03-01",
          "2016-04-01",
          "2016-05-01",
          "2016-06-01",
          "2016-07-01",
          "2016-08-01",
          "2016-09-01",
          "2016-10-01",
          "2016-11-01",
          "2016-12-01",
          "2017-01-01",
          "2017-02-01",
          "2017-03-01",
          "2017-04-01",
          "2017-05-01",
          "2017-06-01",
          "2017-07-01",
          "2017-08-01",
          "2017-09-01",
          "2017-10-01",
          "2017-11-01",
          "2017-12-01",
          "2018-01-01",
          "2018-02-01",
          "2018-03-01",
          "2018-04-01",
          "2018-05-01",
          "2018-06-01",
          "2018-07-01",
          "2018-08-01",
          "2018-09-01",
          "2018-10-01",
          "2018-11-01",
          "2018-12-01",
          "2019-01-01",
          "2019-02-01",
          "2019-03-01",
          "2019-04-01",
          "2019-05-01",
          "2019-06-01",
          "2019-07-01",
          "2019-08-01",
          "2019-09-01",
          "2019-10-01",
          "2019-11-01",
          "2019-12-01",
          "2020-01-01",
          "2020-02-01",
          "2020-03-01",
          "2020-04-01",
          "2020-05-01",
          "2020-06-01",
          "2020-07-01",
          "2020-08-01",
          "2020-09-01",
          "2020-10-01",
          "2020-11-01",
          "2020-12-01",
          "2021-01-01",
          "2021-02-01",
          "2021-03-01",
          "2021-04-01",
          "2021-05-01",
          "2021-06-01",
          "2021-07-01",
          "2021-08-01",
          "2021-09-01",
          "2021-10-01",
          "2021-11-01",
          "2021-12-01",
          "2022-01-01",
          "2022-02-01",
          "2022-03-01",
          "2022-04-01",
          "2022-05-01",
          "2022-06-01",
          "2022-07-01",
          "2022-08-01",
          "2022-09-01",
          "2022-10-01",
          "2022-11-01",
          "2022-12-01"
         ],
         "xaxis": "x3",
         "y": [
          667,
          661,
          666,
          694,
          659,
          556,
          529,
          513,
          527,
          559,
          590,
          574,
          737,
          782,
          778,
          762,
          749,
          635,
          600,
          576,
          578,
          601,
          635,
          644,
          817,
          820,
          809,
          815,
          715,
          650,
          605,
          572,
          609,
          874,
          654,
          714,
          752,
          743,
          708,
          645,
          621,
          525,
          545,
          568,
          629,
          688,
          678,
          853,
          851,
          826,
          818,
          750,
          697,
          647,
          609,
          621,
          672,
          716,
          680,
          839,
          872,
          888,
          845,
          817,
          717,
          654,
          668,
          729,
          716,
          759,
          714,
          958,
          982,
          986,
          940,
          891,
          818,
          722,
          684,
          693,
          757,
          763,
          757,
          977,
          946,
          995,
          998,
          942,
          860,
          765,
          716,
          750,
          800,
          850,
          808,
          1040,
          1052,
          1179,
          1039,
          1009,
          898,
          725,
          718,
          748,
          778,
          787,
          820,
          951,
          1080,
          1051,
          1036,
          985,
          1017,
          856,
          843,
          876,
          936,
          1030,
          934,
          1151,
          1120,
          1168,
          1150,
          1103,
          904,
          879,
          875,
          913,
          975,
          1107,
          1021,
          1074,
          1198,
          1211,
          1113,
          1103,
          1797,
          906,
          910,
          939,
          1032,
          1062,
          1106,
          1188,
          1249,
          1264,
          1141,
          1168,
          1031,
          964,
          937,
          1040,
          1064,
          1119,
          1107,
          1310,
          1225,
          1281,
          1271,
          1180,
          1167,
          1092,
          1023,
          1020,
          1131,
          1051,
          1240,
          1297,
          1352,
          1272,
          1316,
          1251,
          1128,
          1035,
          984,
          1067,
          1121,
          1138,
          1184,
          1150,
          1290,
          1260,
          1329,
          1173,
          1192,
          1021,
          1053,
          1112,
          1129,
          1181,
          1090,
          1205,
          1205,
          1286,
          1246,
          1124,
          1147,
          1047,
          1059,
          1154,
          1094,
          1161,
          1140
         ],
         "yaxis": "y3"
        },
        {
         "hovertemplate": "rango_edad=Mayor o igual a 65 años de edad<br>sector_economico_2=Ganadería<br>fecha=%{x}<br>asegurados=%{y}<extra></extra>",
         "legendgroup": "Mayor o igual a 65 años de edad",
         "line": {
          "color": "#ab63fa",
          "dash": "solid"
         },
         "marker": {
          "symbol": "circle"
         },
         "mode": "lines",
         "name": "Mayor o igual a 65 años de edad",
         "showlegend": false,
         "type": "scattergl",
         "x": [
          "2006-01-01",
          "2006-02-01",
          "2006-03-01",
          "2006-04-01",
          "2006-05-01",
          "2006-06-01",
          "2006-07-01",
          "2006-08-01",
          "2006-09-01",
          "2006-10-01",
          "2006-11-01",
          "2006-12-01",
          "2007-01-01",
          "2007-02-01",
          "2007-03-01",
          "2007-04-01",
          "2007-05-01",
          "2007-06-01",
          "2007-07-01",
          "2007-08-01",
          "2007-09-01",
          "2007-10-01",
          "2007-11-01",
          "2007-12-01",
          "2008-01-01",
          "2008-02-01",
          "2008-03-01",
          "2008-04-01",
          "2008-05-01",
          "2008-06-01",
          "2008-07-01",
          "2008-08-01",
          "2008-09-01",
          "2008-11-01",
          "2008-12-01",
          "2009-01-01",
          "2009-02-01",
          "2009-03-01",
          "2009-04-01",
          "2009-05-01",
          "2009-06-01",
          "2009-07-01",
          "2009-08-01",
          "2009-09-01",
          "2009-10-01",
          "2009-11-01",
          "2009-12-01",
          "2010-01-01",
          "2010-02-01",
          "2010-03-01",
          "2010-04-01",
          "2010-05-01",
          "2010-06-01",
          "2010-07-01",
          "2010-08-01",
          "2010-09-01",
          "2010-10-01",
          "2010-11-01",
          "2010-12-01",
          "2011-01-01",
          "2011-02-01",
          "2011-03-01",
          "2011-04-01",
          "2011-05-01",
          "2011-06-01",
          "2011-07-01",
          "2011-08-01",
          "2011-09-01",
          "2011-10-01",
          "2011-11-01",
          "2011-12-01",
          "2012-01-01",
          "2012-02-01",
          "2012-03-01",
          "2012-04-01",
          "2012-05-01",
          "2012-06-01",
          "2012-07-01",
          "2012-08-01",
          "2012-09-01",
          "2012-10-01",
          "2012-11-01",
          "2012-12-01",
          "2013-01-01",
          "2013-02-01",
          "2013-03-01",
          "2013-04-01",
          "2013-05-01",
          "2013-06-01",
          "2013-07-01",
          "2013-08-01",
          "2013-09-01",
          "2013-10-01",
          "2013-11-01",
          "2013-12-01",
          "2014-01-01",
          "2014-02-01",
          "2014-03-01",
          "2014-04-01",
          "2014-05-01",
          "2014-06-01",
          "2014-07-01",
          "2014-08-01",
          "2014-09-01",
          "2014-10-01",
          "2014-11-01",
          "2014-12-01",
          "2015-01-01",
          "2015-02-01",
          "2015-03-01",
          "2015-04-01",
          "2015-05-01",
          "2015-06-01",
          "2015-07-01",
          "2015-08-01",
          "2015-09-01",
          "2015-10-01",
          "2015-11-01",
          "2015-12-01",
          "2016-01-01",
          "2016-02-01",
          "2016-03-01",
          "2016-04-01",
          "2016-05-01",
          "2016-06-01",
          "2016-07-01",
          "2016-08-01",
          "2016-09-01",
          "2016-10-01",
          "2016-11-01",
          "2016-12-01",
          "2017-01-01",
          "2017-02-01",
          "2017-03-01",
          "2017-04-01",
          "2017-05-01",
          "2017-06-01",
          "2017-07-01",
          "2017-08-01",
          "2017-09-01",
          "2017-10-01",
          "2017-11-01",
          "2017-12-01",
          "2018-01-01",
          "2018-02-01",
          "2018-03-01",
          "2018-04-01",
          "2018-05-01",
          "2018-06-01",
          "2018-07-01",
          "2018-08-01",
          "2018-09-01",
          "2018-10-01",
          "2018-11-01",
          "2018-12-01",
          "2019-01-01",
          "2019-02-01",
          "2019-03-01",
          "2019-04-01",
          "2019-05-01",
          "2019-06-01",
          "2019-07-01",
          "2019-08-01",
          "2019-09-01",
          "2019-10-01",
          "2019-11-01",
          "2019-12-01",
          "2020-01-01",
          "2020-02-01",
          "2020-03-01",
          "2020-04-01",
          "2020-05-01",
          "2020-06-01",
          "2020-07-01",
          "2020-08-01",
          "2020-09-01",
          "2020-10-01",
          "2020-11-01",
          "2020-12-01",
          "2021-01-01",
          "2021-02-01",
          "2021-03-01",
          "2021-04-01",
          "2021-05-01",
          "2021-06-01",
          "2021-07-01",
          "2021-08-01",
          "2021-09-01",
          "2021-10-01",
          "2021-11-01",
          "2021-12-01",
          "2022-01-01",
          "2022-02-01",
          "2022-03-01",
          "2022-04-01",
          "2022-05-01",
          "2022-06-01",
          "2022-07-01",
          "2022-08-01",
          "2022-09-01",
          "2022-10-01",
          "2022-11-01",
          "2022-12-01"
         ],
         "xaxis": "x2",
         "y": [
          275,
          269,
          260,
          261,
          252,
          251,
          231,
          236,
          235,
          243,
          231,
          222,
          263,
          250,
          244,
          245,
          245,
          224,
          224,
          227,
          221,
          223,
          218,
          202,
          230,
          229,
          231,
          229,
          222,
          216,
          211,
          200,
          198,
          198,
          201,
          227,
          221,
          225,
          222,
          216,
          208,
          207,
          204,
          212,
          218,
          218,
          213,
          235,
          238,
          240,
          236,
          228,
          213,
          211,
          202,
          199,
          199,
          197,
          195,
          218,
          212,
          210,
          211,
          205,
          199,
          200,
          202,
          200,
          193,
          195,
          193,
          226,
          222,
          223,
          220,
          216,
          212,
          212,
          210,
          207,
          208,
          199,
          195,
          227,
          221,
          208,
          211,
          212,
          209,
          208,
          206,
          203,
          200,
          199,
          204,
          240,
          230,
          236,
          234,
          227,
          219,
          204,
          198,
          198,
          201,
          202,
          193,
          245,
          248,
          241,
          240,
          244,
          244,
          232,
          225,
          223,
          220,
          215,
          219,
          232,
          230,
          218,
          227,
          232,
          233,
          238,
          232,
          234,
          229,
          231,
          240,
          250,
          253,
          250,
          258,
          258,
          252,
          251,
          248,
          244,
          241,
          247,
          251,
          262,
          254,
          252,
          257,
          258,
          244,
          243,
          247,
          247,
          243,
          255,
          259,
          271,
          279,
          274,
          266,
          276,
          267,
          263,
          263,
          267,
          265,
          264,
          272,
          276,
          268,
          264,
          263,
          265,
          263,
          260,
          259,
          263,
          263,
          259,
          255,
          244,
          240,
          237,
          227,
          239,
          230,
          236,
          239,
          249,
          251,
          251,
          253,
          264,
          293,
          273,
          268,
          268,
          260,
          268,
          286,
          290,
          297,
          272,
          298
         ],
         "yaxis": "y2"
        },
        {
         "hovertemplate": "rango_edad=Mayor o igual a 65 años de edad<br>sector_economico_2=Pesca<br>fecha=%{x}<br>asegurados=%{y}<extra></extra>",
         "legendgroup": "Mayor o igual a 65 años de edad",
         "line": {
          "color": "#ab63fa",
          "dash": "solid"
         },
         "marker": {
          "symbol": "circle"
         },
         "mode": "lines",
         "name": "Mayor o igual a 65 años de edad",
         "showlegend": false,
         "type": "scattergl",
         "x": [
          "2006-01-01",
          "2006-02-01",
          "2006-03-01",
          "2006-04-01",
          "2006-05-01",
          "2006-06-01",
          "2006-07-01",
          "2006-08-01",
          "2006-09-01",
          "2006-10-01",
          "2006-11-01",
          "2006-12-01",
          "2007-01-01",
          "2007-02-01",
          "2007-03-01",
          "2007-04-01",
          "2007-05-01",
          "2007-06-01",
          "2007-07-01",
          "2007-08-01",
          "2007-09-01",
          "2007-10-01",
          "2007-11-01",
          "2007-12-01",
          "2008-01-01",
          "2008-02-01",
          "2008-03-01",
          "2008-04-01",
          "2008-05-01",
          "2008-06-01",
          "2008-07-01",
          "2008-08-01",
          "2008-09-01",
          "2008-11-01",
          "2008-12-01",
          "2009-01-01",
          "2009-02-01",
          "2009-03-01",
          "2009-04-01",
          "2009-05-01",
          "2009-06-01",
          "2009-07-01",
          "2009-08-01",
          "2009-09-01",
          "2009-10-01",
          "2009-11-01",
          "2009-12-01",
          "2010-01-01",
          "2010-02-01",
          "2010-03-01",
          "2010-04-01",
          "2010-05-01",
          "2010-06-01",
          "2010-07-01",
          "2010-08-01",
          "2010-09-01",
          "2010-10-01",
          "2010-11-01",
          "2010-12-01",
          "2011-01-01",
          "2011-02-01",
          "2011-03-01",
          "2011-04-01",
          "2011-05-01",
          "2011-06-01",
          "2011-07-01",
          "2011-08-01",
          "2011-09-01",
          "2011-10-01",
          "2011-11-01",
          "2011-12-01",
          "2012-01-01",
          "2012-02-01",
          "2012-03-01",
          "2012-04-01",
          "2012-05-01",
          "2012-06-01",
          "2012-07-01",
          "2012-08-01",
          "2012-09-01",
          "2012-10-01",
          "2012-11-01",
          "2012-12-01",
          "2013-01-01",
          "2013-02-01",
          "2013-03-01",
          "2013-04-01",
          "2013-05-01",
          "2013-06-01",
          "2013-07-01",
          "2013-08-01",
          "2013-09-01",
          "2013-10-01",
          "2013-11-01",
          "2013-12-01",
          "2014-01-01",
          "2014-02-01",
          "2014-03-01",
          "2014-04-01",
          "2014-05-01",
          "2014-06-01",
          "2014-07-01",
          "2014-08-01",
          "2014-09-01",
          "2014-10-01",
          "2014-11-01",
          "2014-12-01",
          "2015-01-01",
          "2015-02-01",
          "2015-03-01",
          "2015-04-01",
          "2015-05-01",
          "2015-06-01",
          "2015-07-01",
          "2015-08-01",
          "2015-09-01",
          "2015-10-01",
          "2015-11-01",
          "2015-12-01",
          "2016-01-01",
          "2016-02-01",
          "2016-03-01",
          "2016-04-01",
          "2016-05-01",
          "2016-06-01",
          "2016-07-01",
          "2016-08-01",
          "2016-09-01",
          "2016-10-01",
          "2016-11-01",
          "2016-12-01",
          "2017-01-01",
          "2017-02-01",
          "2017-03-01",
          "2017-04-01",
          "2017-05-01",
          "2017-06-01",
          "2017-07-01",
          "2017-08-01",
          "2017-09-01",
          "2017-10-01",
          "2017-11-01",
          "2017-12-01",
          "2018-01-01",
          "2018-02-01",
          "2018-03-01",
          "2018-04-01",
          "2018-05-01",
          "2018-06-01",
          "2018-07-01",
          "2018-08-01",
          "2018-09-01",
          "2018-10-01",
          "2018-11-01",
          "2018-12-01",
          "2019-01-01",
          "2019-02-01",
          "2019-03-01",
          "2019-04-01",
          "2019-05-01",
          "2019-06-01",
          "2019-07-01",
          "2019-08-01",
          "2019-09-01",
          "2019-10-01",
          "2019-11-01",
          "2019-12-01",
          "2020-01-01",
          "2020-02-01",
          "2020-03-01",
          "2020-04-01",
          "2020-05-01",
          "2020-06-01",
          "2020-07-01",
          "2020-08-01",
          "2020-09-01",
          "2020-10-01",
          "2020-11-01",
          "2020-12-01",
          "2021-01-01",
          "2021-02-01",
          "2021-03-01",
          "2021-04-01",
          "2021-05-01",
          "2021-06-01",
          "2021-07-01",
          "2021-08-01",
          "2021-09-01",
          "2021-10-01",
          "2021-11-01",
          "2021-12-01",
          "2022-01-01",
          "2022-02-01",
          "2022-03-01",
          "2022-04-01",
          "2022-05-01",
          "2022-06-01",
          "2022-07-01",
          "2022-08-01",
          "2022-09-01",
          "2022-10-01",
          "2022-11-01",
          "2022-12-01"
         ],
         "xaxis": "x",
         "y": [
          65,
          52,
          55,
          57,
          68,
          75,
          71,
          68,
          88,
          89,
          67,
          47,
          54,
          51,
          54,
          49,
          46,
          48,
          52,
          57,
          69,
          60,
          43,
          34,
          47,
          48,
          54,
          61,
          64,
          61,
          62,
          77,
          94,
          60,
          41,
          56,
          55,
          54,
          60,
          60,
          64,
          63,
          73,
          104,
          95,
          47,
          44,
          66,
          60,
          67,
          68,
          71,
          76,
          77,
          75,
          90,
          60,
          53,
          49,
          60,
          62,
          62,
          72,
          77,
          72,
          82,
          73,
          84,
          72,
          66,
          53,
          72,
          69,
          68,
          73,
          70,
          68,
          76,
          83,
          98,
          67,
          67,
          67,
          89,
          82,
          76,
          85,
          87,
          88,
          77,
          72,
          89,
          84,
          80,
          87,
          105,
          105,
          88,
          88,
          87,
          91,
          89,
          85,
          103,
          97,
          93,
          88,
          115,
          105,
          96,
          102,
          97,
          101,
          102,
          96,
          115,
          116,
          101,
          88,
          98,
          101,
          86,
          86,
          91,
          86,
          97,
          102,
          126,
          117,
          117,
          113,
          127,
          125,
          111,
          101,
          100,
          114,
          120,
          123,
          164,
          161,
          149,
          126,
          142,
          147,
          135,
          152,
          145,
          155,
          163,
          158,
          211,
          184,
          171,
          132,
          148,
          161,
          166,
          157,
          160,
          162,
          169,
          173,
          221,
          196,
          173,
          135,
          154,
          156,
          133,
          127,
          129,
          123,
          115,
          113,
          157,
          140,
          109,
          96,
          102,
          108,
          104,
          99,
          112,
          123,
          137,
          144,
          176,
          155,
          127,
          106,
          129,
          130,
          129,
          130,
          133,
          146,
          144,
          164,
          203,
          184,
          148,
          121
         ],
         "yaxis": "y"
        },
        {
         "hovertemplate": "rango_edad=Menores de 15 años de edad<br>sector_economico_2=Agricultura<br>fecha=%{x}<br>asegurados=%{y}<extra></extra>",
         "legendgroup": "Menores de 15 años de edad",
         "line": {
          "color": "#FFA15A",
          "dash": "solid"
         },
         "marker": {
          "symbol": "circle"
         },
         "mode": "lines",
         "name": "Menores de 15 años de edad",
         "showlegend": true,
         "type": "scattergl",
         "x": [
          "2006-01-01",
          "2006-02-01",
          "2006-03-01",
          "2006-04-01",
          "2006-05-01",
          "2006-06-01",
          "2006-07-01",
          "2006-08-01",
          "2006-09-01",
          "2006-10-01",
          "2006-11-01",
          "2006-12-01",
          "2007-01-01",
          "2007-02-01",
          "2007-03-01",
          "2007-04-01",
          "2007-05-01",
          "2007-06-01",
          "2007-07-01",
          "2007-08-01",
          "2007-09-01",
          "2007-10-01",
          "2007-11-01",
          "2007-12-01",
          "2008-01-01",
          "2008-02-01",
          "2008-03-01",
          "2008-04-01",
          "2008-05-01",
          "2008-06-01",
          "2008-07-01",
          "2008-08-01",
          "2008-09-01",
          "2008-11-01",
          "2008-12-01",
          "2009-01-01",
          "2009-02-01",
          "2009-03-01",
          "2009-04-01",
          "2009-05-01",
          "2009-06-01",
          "2009-07-01",
          "2009-08-01",
          "2009-09-01",
          "2009-10-01",
          "2009-11-01",
          "2009-12-01",
          "2010-01-01",
          "2010-02-01",
          "2010-03-01",
          "2010-04-01",
          "2010-05-01",
          "2010-06-01",
          "2010-07-01",
          "2010-08-01",
          "2010-09-01",
          "2010-10-01",
          "2010-11-01",
          "2010-12-01",
          "2011-01-01",
          "2011-02-01",
          "2011-03-01",
          "2011-04-01",
          "2011-05-01",
          "2011-06-01",
          "2011-07-01",
          "2011-08-01",
          "2011-09-01",
          "2011-10-01",
          "2011-11-01",
          "2011-12-01",
          "2012-01-01",
          "2012-02-01",
          "2012-03-01",
          "2012-04-01",
          "2012-05-01",
          "2012-06-01",
          "2012-08-01",
          "2012-09-01",
          "2012-10-01",
          "2012-11-01",
          "2012-12-01",
          "2013-01-01",
          "2013-02-01",
          "2013-03-01",
          "2013-04-01",
          "2013-05-01",
          "2013-06-01",
          "2013-07-01",
          "2013-08-01",
          "2013-09-01",
          "2013-10-01",
          "2013-11-01",
          "2013-12-01",
          "2014-01-01",
          "2014-02-01",
          "2014-03-01",
          "2014-04-01",
          "2014-05-01",
          "2014-07-01",
          "2014-09-01",
          "2014-10-01",
          "2014-11-01",
          "2014-12-01",
          "2015-01-01",
          "2015-02-01",
          "2015-03-01",
          "2015-04-01",
          "2015-05-01",
          "2015-06-01",
          "2015-07-01",
          "2015-08-01",
          "2015-09-01",
          "2015-11-01",
          "2015-12-01",
          "2016-03-01",
          "2016-04-01",
          "2016-05-01",
          "2016-12-01",
          "2017-01-01",
          "2017-02-01",
          "2017-03-01",
          "2017-04-01",
          "2017-05-01",
          "2017-06-01",
          "2018-01-01",
          "2018-02-01",
          "2018-03-01",
          "2018-05-01",
          "2018-06-01",
          "2018-07-01",
          "2018-08-01",
          "2018-09-01",
          "2018-10-01",
          "2018-11-01",
          "2019-03-01",
          "2019-06-01",
          "2019-07-01",
          "2019-08-01",
          "2019-12-01",
          "2020-01-01",
          "2020-02-01",
          "2020-03-01",
          "2020-05-01",
          "2020-09-01",
          "2020-10-01",
          "2020-11-01",
          "2021-01-01",
          "2021-02-01",
          "2021-03-01",
          "2021-04-01",
          "2021-05-01",
          "2021-06-01",
          "2021-07-01",
          "2021-08-01",
          "2021-10-01",
          "2022-01-01",
          "2022-02-01"
         ],
         "xaxis": "x3",
         "y": [
          65,
          76,
          71,
          101,
          73,
          49,
          43,
          34,
          26,
          53,
          74,
          68,
          50,
          56,
          55,
          56,
          50,
          35,
          18,
          17,
          37,
          39,
          47,
          51,
          48,
          47,
          40,
          39,
          24,
          20,
          15,
          11,
          11,
          20,
          18,
          7,
          6,
          10,
          10,
          10,
          14,
          8,
          5,
          26,
          14,
          16,
          16,
          8,
          7,
          8,
          10,
          12,
          8,
          3,
          3,
          2,
          6,
          5,
          10,
          8,
          6,
          7,
          8,
          7,
          4,
          6,
          8,
          9,
          6,
          9,
          7,
          2,
          2,
          5,
          1,
          7,
          5,
          4,
          1,
          3,
          8,
          8,
          4,
          7,
          3,
          8,
          5,
          5,
          3,
          4,
          6,
          5,
          8,
          8,
          2,
          6,
          5,
          3,
          2,
          1,
          1,
          2,
          5,
          4,
          3,
          4,
          5,
          4,
          4,
          3,
          1,
          1,
          1,
          4,
          2,
          1,
          1,
          1,
          5,
          4,
          3,
          2,
          4,
          2,
          1,
          1,
          1,
          1,
          3,
          1,
          1,
          1,
          3,
          2,
          2,
          1,
          3,
          1,
          1,
          1,
          2,
          1,
          1,
          1,
          2,
          2,
          2,
          1,
          2,
          1,
          1,
          1,
          6,
          1,
          1,
          1,
          1,
          1
         ],
         "yaxis": "y3"
        },
        {
         "hovertemplate": "rango_edad=Menores de 15 años de edad<br>sector_economico_2=Ganadería<br>fecha=%{x}<br>asegurados=%{y}<extra></extra>",
         "legendgroup": "Menores de 15 años de edad",
         "line": {
          "color": "#FFA15A",
          "dash": "solid"
         },
         "marker": {
          "symbol": "circle"
         },
         "mode": "lines",
         "name": "Menores de 15 años de edad",
         "showlegend": false,
         "type": "scattergl",
         "x": [
          "2006-01-01",
          "2006-02-01",
          "2006-03-01",
          "2006-04-01",
          "2006-05-01",
          "2006-06-01",
          "2006-07-01",
          "2006-08-01",
          "2006-09-01",
          "2006-10-01",
          "2006-11-01",
          "2006-12-01",
          "2007-01-01",
          "2007-03-01",
          "2007-04-01",
          "2007-05-01",
          "2007-06-01",
          "2007-07-01",
          "2007-08-01",
          "2007-09-01",
          "2007-10-01",
          "2007-11-01",
          "2007-12-01",
          "2008-03-01",
          "2008-04-01",
          "2008-06-01",
          "2008-08-01",
          "2008-09-01",
          "2008-11-01",
          "2008-12-01",
          "2009-01-01",
          "2009-02-01",
          "2009-03-01",
          "2009-04-01",
          "2009-05-01",
          "2009-06-01",
          "2009-09-01",
          "2009-10-01",
          "2010-02-01",
          "2010-06-01",
          "2010-07-01",
          "2010-08-01",
          "2010-09-01",
          "2010-10-01",
          "2010-11-01",
          "2012-02-01",
          "2012-03-01",
          "2012-04-01",
          "2012-05-01",
          "2012-06-01",
          "2012-07-01",
          "2012-08-01",
          "2012-09-01",
          "2012-10-01",
          "2012-11-01",
          "2012-12-01",
          "2013-01-01",
          "2013-02-01",
          "2013-03-01",
          "2013-04-01",
          "2013-05-01",
          "2013-06-01",
          "2013-07-01",
          "2013-08-01",
          "2013-09-01",
          "2013-10-01",
          "2013-11-01",
          "2013-12-01",
          "2014-01-01",
          "2014-02-01",
          "2014-03-01",
          "2014-04-01",
          "2014-05-01",
          "2014-06-01",
          "2014-07-01",
          "2014-08-01",
          "2014-09-01",
          "2014-10-01",
          "2014-11-01",
          "2014-12-01",
          "2015-01-01",
          "2015-02-01",
          "2015-03-01",
          "2015-04-01",
          "2015-05-01",
          "2015-06-01",
          "2015-07-01",
          "2015-08-01",
          "2015-09-01",
          "2015-10-01",
          "2015-11-01"
         ],
         "xaxis": "x2",
         "y": [
          5,
          5,
          6,
          7,
          7,
          7,
          6,
          7,
          8,
          9,
          7,
          7,
          1,
          3,
          2,
          3,
          2,
          1,
          2,
          8,
          5,
          5,
          2,
          2,
          2,
          1,
          1,
          1,
          4,
          4,
          2,
          2,
          3,
          2,
          2,
          1,
          1,
          1,
          1,
          1,
          1,
          2,
          2,
          1,
          1,
          1,
          1,
          1,
          1,
          2,
          1,
          1,
          1,
          2,
          3,
          3,
          3,
          3,
          1,
          2,
          2,
          2,
          1,
          2,
          2,
          2,
          4,
          5,
          1,
          1,
          1,
          1,
          1,
          1,
          1,
          1,
          1,
          1,
          1,
          1,
          1,
          1,
          1,
          1,
          1,
          1,
          1,
          1,
          1,
          1,
          1
         ],
         "yaxis": "y2"
        },
        {
         "hovertemplate": "rango_edad=Menores de 15 años de edad<br>sector_economico_2=Pesca<br>fecha=%{x}<br>asegurados=%{y}<extra></extra>",
         "legendgroup": "Menores de 15 años de edad",
         "line": {
          "color": "#FFA15A",
          "dash": "solid"
         },
         "marker": {
          "symbol": "circle"
         },
         "mode": "lines",
         "name": "Menores de 15 años de edad",
         "showlegend": false,
         "type": "scattergl",
         "x": [
          "2006-07-01",
          "2006-08-01",
          "2006-09-01",
          "2007-02-01",
          "2007-03-01",
          "2007-04-01",
          "2007-05-01",
          "2007-06-01",
          "2007-07-01",
          "2007-08-01",
          "2007-09-01",
          "2007-10-01",
          "2007-11-01",
          "2008-03-01",
          "2008-04-01",
          "2008-05-01",
          "2008-06-01",
          "2008-07-01",
          "2008-08-01",
          "2008-09-01",
          "2009-02-01",
          "2009-06-01",
          "2010-02-01",
          "2011-01-01",
          "2011-02-01",
          "2012-05-01",
          "2012-06-01",
          "2012-07-01",
          "2012-08-01",
          "2012-09-01",
          "2012-10-01",
          "2013-03-01",
          "2013-04-01",
          "2013-05-01",
          "2013-06-01",
          "2013-07-01",
          "2013-08-01",
          "2014-07-01",
          "2014-08-01",
          "2014-09-01",
          "2015-02-01",
          "2015-03-01",
          "2015-04-01",
          "2015-05-01",
          "2015-06-01",
          "2015-07-01",
          "2015-08-01",
          "2015-09-01",
          "2019-02-01",
          "2019-03-01",
          "2019-06-01",
          "2019-07-01",
          "2020-05-01",
          "2020-06-01",
          "2020-07-01",
          "2020-08-01",
          "2021-07-01",
          "2021-08-01",
          "2021-09-01",
          "2022-01-01",
          "2022-02-01",
          "2022-03-01",
          "2022-04-01",
          "2022-06-01",
          "2022-07-01",
          "2022-08-01"
         ],
         "xaxis": "x",
         "y": [
          1,
          4,
          1,
          1,
          1,
          1,
          1,
          1,
          1,
          1,
          1,
          1,
          1,
          2,
          1,
          1,
          1,
          1,
          2,
          1,
          1,
          1,
          1,
          1,
          2,
          1,
          2,
          1,
          2,
          2,
          1,
          1,
          1,
          1,
          1,
          2,
          1,
          1,
          1,
          1,
          1,
          1,
          1,
          1,
          1,
          1,
          1,
          1,
          1,
          1,
          1,
          1,
          1,
          1,
          1,
          1,
          1,
          1,
          1,
          1,
          1,
          1,
          1,
          1,
          1,
          1
         ],
         "yaxis": "y"
        }
       ],
       "layout": {
        "annotations": [
         {
          "font": {},
          "showarrow": false,
          "text": "sector_economico_2=Pesca",
          "x": 0.5,
          "xanchor": "center",
          "xref": "paper",
          "y": 0.2866666666666666,
          "yanchor": "bottom",
          "yref": "paper"
         },
         {
          "font": {},
          "showarrow": false,
          "text": "sector_economico_2=Ganadería",
          "x": 0.5,
          "xanchor": "center",
          "xref": "paper",
          "y": 0.6433333333333333,
          "yanchor": "bottom",
          "yref": "paper"
         },
         {
          "font": {},
          "showarrow": false,
          "text": "sector_economico_2=Agricultura",
          "x": 0.5,
          "xanchor": "center",
          "xref": "paper",
          "y": 0.9999999999999999,
          "yanchor": "bottom",
          "yref": "paper"
         }
        ],
        "legend": {
         "title": {
          "text": "rango_edad"
         },
         "tracegroupgap": 0
        },
        "template": {
         "data": {
          "bar": [
           {
            "error_x": {
             "color": "#2a3f5f"
            },
            "error_y": {
             "color": "#2a3f5f"
            },
            "marker": {
             "line": {
              "color": "#E5ECF6",
              "width": 0.5
             },
             "pattern": {
              "fillmode": "overlay",
              "size": 10,
              "solidity": 0.2
             }
            },
            "type": "bar"
           }
          ],
          "barpolar": [
           {
            "marker": {
             "line": {
              "color": "#E5ECF6",
              "width": 0.5
             },
             "pattern": {
              "fillmode": "overlay",
              "size": 10,
              "solidity": 0.2
             }
            },
            "type": "barpolar"
           }
          ],
          "carpet": [
           {
            "aaxis": {
             "endlinecolor": "#2a3f5f",
             "gridcolor": "white",
             "linecolor": "white",
             "minorgridcolor": "white",
             "startlinecolor": "#2a3f5f"
            },
            "baxis": {
             "endlinecolor": "#2a3f5f",
             "gridcolor": "white",
             "linecolor": "white",
             "minorgridcolor": "white",
             "startlinecolor": "#2a3f5f"
            },
            "type": "carpet"
           }
          ],
          "choropleth": [
           {
            "colorbar": {
             "outlinewidth": 0,
             "ticks": ""
            },
            "type": "choropleth"
           }
          ],
          "contour": [
           {
            "colorbar": {
             "outlinewidth": 0,
             "ticks": ""
            },
            "colorscale": [
             [
              0,
              "#0d0887"
             ],
             [
              0.1111111111111111,
              "#46039f"
             ],
             [
              0.2222222222222222,
              "#7201a8"
             ],
             [
              0.3333333333333333,
              "#9c179e"
             ],
             [
              0.4444444444444444,
              "#bd3786"
             ],
             [
              0.5555555555555556,
              "#d8576b"
             ],
             [
              0.6666666666666666,
              "#ed7953"
             ],
             [
              0.7777777777777778,
              "#fb9f3a"
             ],
             [
              0.8888888888888888,
              "#fdca26"
             ],
             [
              1,
              "#f0f921"
             ]
            ],
            "type": "contour"
           }
          ],
          "contourcarpet": [
           {
            "colorbar": {
             "outlinewidth": 0,
             "ticks": ""
            },
            "type": "contourcarpet"
           }
          ],
          "heatmap": [
           {
            "colorbar": {
             "outlinewidth": 0,
             "ticks": ""
            },
            "colorscale": [
             [
              0,
              "#0d0887"
             ],
             [
              0.1111111111111111,
              "#46039f"
             ],
             [
              0.2222222222222222,
              "#7201a8"
             ],
             [
              0.3333333333333333,
              "#9c179e"
             ],
             [
              0.4444444444444444,
              "#bd3786"
             ],
             [
              0.5555555555555556,
              "#d8576b"
             ],
             [
              0.6666666666666666,
              "#ed7953"
             ],
             [
              0.7777777777777778,
              "#fb9f3a"
             ],
             [
              0.8888888888888888,
              "#fdca26"
             ],
             [
              1,
              "#f0f921"
             ]
            ],
            "type": "heatmap"
           }
          ],
          "heatmapgl": [
           {
            "colorbar": {
             "outlinewidth": 0,
             "ticks": ""
            },
            "colorscale": [
             [
              0,
              "#0d0887"
             ],
             [
              0.1111111111111111,
              "#46039f"
             ],
             [
              0.2222222222222222,
              "#7201a8"
             ],
             [
              0.3333333333333333,
              "#9c179e"
             ],
             [
              0.4444444444444444,
              "#bd3786"
             ],
             [
              0.5555555555555556,
              "#d8576b"
             ],
             [
              0.6666666666666666,
              "#ed7953"
             ],
             [
              0.7777777777777778,
              "#fb9f3a"
             ],
             [
              0.8888888888888888,
              "#fdca26"
             ],
             [
              1,
              "#f0f921"
             ]
            ],
            "type": "heatmapgl"
           }
          ],
          "histogram": [
           {
            "marker": {
             "pattern": {
              "fillmode": "overlay",
              "size": 10,
              "solidity": 0.2
             }
            },
            "type": "histogram"
           }
          ],
          "histogram2d": [
           {
            "colorbar": {
             "outlinewidth": 0,
             "ticks": ""
            },
            "colorscale": [
             [
              0,
              "#0d0887"
             ],
             [
              0.1111111111111111,
              "#46039f"
             ],
             [
              0.2222222222222222,
              "#7201a8"
             ],
             [
              0.3333333333333333,
              "#9c179e"
             ],
             [
              0.4444444444444444,
              "#bd3786"
             ],
             [
              0.5555555555555556,
              "#d8576b"
             ],
             [
              0.6666666666666666,
              "#ed7953"
             ],
             [
              0.7777777777777778,
              "#fb9f3a"
             ],
             [
              0.8888888888888888,
              "#fdca26"
             ],
             [
              1,
              "#f0f921"
             ]
            ],
            "type": "histogram2d"
           }
          ],
          "histogram2dcontour": [
           {
            "colorbar": {
             "outlinewidth": 0,
             "ticks": ""
            },
            "colorscale": [
             [
              0,
              "#0d0887"
             ],
             [
              0.1111111111111111,
              "#46039f"
             ],
             [
              0.2222222222222222,
              "#7201a8"
             ],
             [
              0.3333333333333333,
              "#9c179e"
             ],
             [
              0.4444444444444444,
              "#bd3786"
             ],
             [
              0.5555555555555556,
              "#d8576b"
             ],
             [
              0.6666666666666666,
              "#ed7953"
             ],
             [
              0.7777777777777778,
              "#fb9f3a"
             ],
             [
              0.8888888888888888,
              "#fdca26"
             ],
             [
              1,
              "#f0f921"
             ]
            ],
            "type": "histogram2dcontour"
           }
          ],
          "mesh3d": [
           {
            "colorbar": {
             "outlinewidth": 0,
             "ticks": ""
            },
            "type": "mesh3d"
           }
          ],
          "parcoords": [
           {
            "line": {
             "colorbar": {
              "outlinewidth": 0,
              "ticks": ""
             }
            },
            "type": "parcoords"
           }
          ],
          "pie": [
           {
            "automargin": true,
            "type": "pie"
           }
          ],
          "scatter": [
           {
            "fillpattern": {
             "fillmode": "overlay",
             "size": 10,
             "solidity": 0.2
            },
            "type": "scatter"
           }
          ],
          "scatter3d": [
           {
            "line": {
             "colorbar": {
              "outlinewidth": 0,
              "ticks": ""
             }
            },
            "marker": {
             "colorbar": {
              "outlinewidth": 0,
              "ticks": ""
             }
            },
            "type": "scatter3d"
           }
          ],
          "scattercarpet": [
           {
            "marker": {
             "colorbar": {
              "outlinewidth": 0,
              "ticks": ""
             }
            },
            "type": "scattercarpet"
           }
          ],
          "scattergeo": [
           {
            "marker": {
             "colorbar": {
              "outlinewidth": 0,
              "ticks": ""
             }
            },
            "type": "scattergeo"
           }
          ],
          "scattergl": [
           {
            "marker": {
             "colorbar": {
              "outlinewidth": 0,
              "ticks": ""
             }
            },
            "type": "scattergl"
           }
          ],
          "scattermapbox": [
           {
            "marker": {
             "colorbar": {
              "outlinewidth": 0,
              "ticks": ""
             }
            },
            "type": "scattermapbox"
           }
          ],
          "scatterpolar": [
           {
            "marker": {
             "colorbar": {
              "outlinewidth": 0,
              "ticks": ""
             }
            },
            "type": "scatterpolar"
           }
          ],
          "scatterpolargl": [
           {
            "marker": {
             "colorbar": {
              "outlinewidth": 0,
              "ticks": ""
             }
            },
            "type": "scatterpolargl"
           }
          ],
          "scatterternary": [
           {
            "marker": {
             "colorbar": {
              "outlinewidth": 0,
              "ticks": ""
             }
            },
            "type": "scatterternary"
           }
          ],
          "surface": [
           {
            "colorbar": {
             "outlinewidth": 0,
             "ticks": ""
            },
            "colorscale": [
             [
              0,
              "#0d0887"
             ],
             [
              0.1111111111111111,
              "#46039f"
             ],
             [
              0.2222222222222222,
              "#7201a8"
             ],
             [
              0.3333333333333333,
              "#9c179e"
             ],
             [
              0.4444444444444444,
              "#bd3786"
             ],
             [
              0.5555555555555556,
              "#d8576b"
             ],
             [
              0.6666666666666666,
              "#ed7953"
             ],
             [
              0.7777777777777778,
              "#fb9f3a"
             ],
             [
              0.8888888888888888,
              "#fdca26"
             ],
             [
              1,
              "#f0f921"
             ]
            ],
            "type": "surface"
           }
          ],
          "table": [
           {
            "cells": {
             "fill": {
              "color": "#EBF0F8"
             },
             "line": {
              "color": "white"
             }
            },
            "header": {
             "fill": {
              "color": "#C8D4E3"
             },
             "line": {
              "color": "white"
             }
            },
            "type": "table"
           }
          ]
         },
         "layout": {
          "annotationdefaults": {
           "arrowcolor": "#2a3f5f",
           "arrowhead": 0,
           "arrowwidth": 1
          },
          "autotypenumbers": "strict",
          "coloraxis": {
           "colorbar": {
            "outlinewidth": 0,
            "ticks": ""
           }
          },
          "colorscale": {
           "diverging": [
            [
             0,
             "#8e0152"
            ],
            [
             0.1,
             "#c51b7d"
            ],
            [
             0.2,
             "#de77ae"
            ],
            [
             0.3,
             "#f1b6da"
            ],
            [
             0.4,
             "#fde0ef"
            ],
            [
             0.5,
             "#f7f7f7"
            ],
            [
             0.6,
             "#e6f5d0"
            ],
            [
             0.7,
             "#b8e186"
            ],
            [
             0.8,
             "#7fbc41"
            ],
            [
             0.9,
             "#4d9221"
            ],
            [
             1,
             "#276419"
            ]
           ],
           "sequential": [
            [
             0,
             "#0d0887"
            ],
            [
             0.1111111111111111,
             "#46039f"
            ],
            [
             0.2222222222222222,
             "#7201a8"
            ],
            [
             0.3333333333333333,
             "#9c179e"
            ],
            [
             0.4444444444444444,
             "#bd3786"
            ],
            [
             0.5555555555555556,
             "#d8576b"
            ],
            [
             0.6666666666666666,
             "#ed7953"
            ],
            [
             0.7777777777777778,
             "#fb9f3a"
            ],
            [
             0.8888888888888888,
             "#fdca26"
            ],
            [
             1,
             "#f0f921"
            ]
           ],
           "sequentialminus": [
            [
             0,
             "#0d0887"
            ],
            [
             0.1111111111111111,
             "#46039f"
            ],
            [
             0.2222222222222222,
             "#7201a8"
            ],
            [
             0.3333333333333333,
             "#9c179e"
            ],
            [
             0.4444444444444444,
             "#bd3786"
            ],
            [
             0.5555555555555556,
             "#d8576b"
            ],
            [
             0.6666666666666666,
             "#ed7953"
            ],
            [
             0.7777777777777778,
             "#fb9f3a"
            ],
            [
             0.8888888888888888,
             "#fdca26"
            ],
            [
             1,
             "#f0f921"
            ]
           ]
          },
          "colorway": [
           "#636efa",
           "#EF553B",
           "#00cc96",
           "#ab63fa",
           "#FFA15A",
           "#19d3f3",
           "#FF6692",
           "#B6E880",
           "#FF97FF",
           "#FECB52"
          ],
          "font": {
           "color": "#2a3f5f"
          },
          "geo": {
           "bgcolor": "white",
           "lakecolor": "white",
           "landcolor": "#E5ECF6",
           "showlakes": true,
           "showland": true,
           "subunitcolor": "white"
          },
          "hoverlabel": {
           "align": "left"
          },
          "hovermode": "closest",
          "mapbox": {
           "style": "light"
          },
          "paper_bgcolor": "white",
          "plot_bgcolor": "#E5ECF6",
          "polar": {
           "angularaxis": {
            "gridcolor": "white",
            "linecolor": "white",
            "ticks": ""
           },
           "bgcolor": "#E5ECF6",
           "radialaxis": {
            "gridcolor": "white",
            "linecolor": "white",
            "ticks": ""
           }
          },
          "scene": {
           "xaxis": {
            "backgroundcolor": "#E5ECF6",
            "gridcolor": "white",
            "gridwidth": 2,
            "linecolor": "white",
            "showbackground": true,
            "ticks": "",
            "zerolinecolor": "white"
           },
           "yaxis": {
            "backgroundcolor": "#E5ECF6",
            "gridcolor": "white",
            "gridwidth": 2,
            "linecolor": "white",
            "showbackground": true,
            "ticks": "",
            "zerolinecolor": "white"
           },
           "zaxis": {
            "backgroundcolor": "#E5ECF6",
            "gridcolor": "white",
            "gridwidth": 2,
            "linecolor": "white",
            "showbackground": true,
            "ticks": "",
            "zerolinecolor": "white"
           }
          },
          "shapedefaults": {
           "line": {
            "color": "#2a3f5f"
           }
          },
          "ternary": {
           "aaxis": {
            "gridcolor": "white",
            "linecolor": "white",
            "ticks": ""
           },
           "baxis": {
            "gridcolor": "white",
            "linecolor": "white",
            "ticks": ""
           },
           "bgcolor": "#E5ECF6",
           "caxis": {
            "gridcolor": "white",
            "linecolor": "white",
            "ticks": ""
           }
          },
          "title": {
           "x": 0.05
          },
          "xaxis": {
           "automargin": true,
           "gridcolor": "white",
           "linecolor": "white",
           "ticks": "",
           "title": {
            "standoff": 15
           },
           "zerolinecolor": "white",
           "zerolinewidth": 2
          },
          "yaxis": {
           "automargin": true,
           "gridcolor": "white",
           "linecolor": "white",
           "ticks": "",
           "title": {
            "standoff": 15
           },
           "zerolinecolor": "white",
           "zerolinewidth": 2
          }
         }
        },
        "title": {
         "text": "Asegurados por sector económico y rango de edad"
        },
        "xaxis": {
         "anchor": "y",
         "domain": [
          0,
          1
         ],
         "title": {
          "text": "fecha"
         }
        },
        "xaxis2": {
         "anchor": "y2",
         "domain": [
          0,
          1
         ],
         "matches": "x",
         "showticklabels": false
        },
        "xaxis3": {
         "anchor": "y3",
         "domain": [
          0,
          1
         ],
         "matches": "x",
         "showticklabels": false
        },
        "yaxis": {
         "anchor": "x",
         "domain": [
          0,
          0.2866666666666666
         ],
         "title": {
          "text": "asegurados"
         }
        },
        "yaxis2": {
         "anchor": "x2",
         "domain": [
          0.35666666666666663,
          0.6433333333333333
         ],
         "title": {
          "text": "asegurados"
         }
        },
        "yaxis3": {
         "anchor": "x3",
         "domain": [
          0.7133333333333333,
          0.9999999999999999
         ],
         "title": {
          "text": "asegurados"
         }
        }
       }
      }
     },
     "metadata": {},
     "output_type": "display_data"
    }
   ],
   "source": [
    "# Grafica de lineas para cada sector economico dependiendo la edad a traves del tiempo\n",
    "fig = px.line(empleos, x='fecha', y='asegurados', color='rango_edad', facet_col='sector_economico_2', facet_col_wrap=1, title='Asegurados por sector económico y rango de edad')\n",
    "fig.update_yaxes(matches=None)\n",
    "fig.show()"
   ]
  },
  {
   "cell_type": "code",
   "execution_count": 11,
   "metadata": {},
   "outputs": [
    {
     "data": {
      "text/html": [
       "<div>\n",
       "<style scoped>\n",
       "    .dataframe tbody tr th:only-of-type {\n",
       "        vertical-align: middle;\n",
       "    }\n",
       "\n",
       "    .dataframe tbody tr th {\n",
       "        vertical-align: top;\n",
       "    }\n",
       "\n",
       "    .dataframe thead th {\n",
       "        text-align: right;\n",
       "    }\n",
       "</style>\n",
       "<table border=\"1\" class=\"dataframe\">\n",
       "  <thead>\n",
       "    <tr style=\"text-align: right;\">\n",
       "      <th></th>\n",
       "      <th>ANO</th>\n",
       "      <th>SECTOR</th>\n",
       "      <th>CVE_DDR</th>\n",
       "      <th>CVE_MUN</th>\n",
       "      <th>ESPECIE_CULTIVO</th>\n",
       "      <th>TIPO</th>\n",
       "      <th>PRODTON</th>\n",
       "      <th>VALPROD</th>\n",
       "    </tr>\n",
       "  </thead>\n",
       "  <tbody>\n",
       "    <tr>\n",
       "      <th>0</th>\n",
       "      <td>2006-01-01</td>\n",
       "      <td>Agricultura</td>\n",
       "      <td>142</td>\n",
       "      <td>1</td>\n",
       "      <td>Ajo</td>\n",
       "      <td>Hortalizas</td>\n",
       "      <td>156.0</td>\n",
       "      <td>1560.00</td>\n",
       "    </tr>\n",
       "    <tr>\n",
       "      <th>1</th>\n",
       "      <td>2006-01-01</td>\n",
       "      <td>Agricultura</td>\n",
       "      <td>142</td>\n",
       "      <td>1</td>\n",
       "      <td>Avena forrajera en verde</td>\n",
       "      <td>Plantas forrajeras</td>\n",
       "      <td>925.0</td>\n",
       "      <td>323.75</td>\n",
       "    </tr>\n",
       "    <tr>\n",
       "      <th>2</th>\n",
       "      <td>2006-01-01</td>\n",
       "      <td>Agricultura</td>\n",
       "      <td>142</td>\n",
       "      <td>1</td>\n",
       "      <td>Cebada forrajera en verde</td>\n",
       "      <td>Plantas forrajeras</td>\n",
       "      <td>4760.0</td>\n",
       "      <td>1666.00</td>\n",
       "    </tr>\n",
       "    <tr>\n",
       "      <th>3</th>\n",
       "      <td>2006-01-01</td>\n",
       "      <td>Agricultura</td>\n",
       "      <td>142</td>\n",
       "      <td>1</td>\n",
       "      <td>Rye grass en verde</td>\n",
       "      <td>Plantas forrajeras</td>\n",
       "      <td>3705.0</td>\n",
       "      <td>1482.00</td>\n",
       "    </tr>\n",
       "    <tr>\n",
       "      <th>4</th>\n",
       "      <td>2006-01-01</td>\n",
       "      <td>Agricultura</td>\n",
       "      <td>141</td>\n",
       "      <td>2</td>\n",
       "      <td>Avena forrajera en verde</td>\n",
       "      <td>Plantas forrajeras</td>\n",
       "      <td>1000.0</td>\n",
       "      <td>750.00</td>\n",
       "    </tr>\n",
       "  </tbody>\n",
       "</table>\n",
       "</div>"
      ],
      "text/plain": [
       "          ANO       SECTOR  CVE_DDR  CVE_MUN            ESPECIE_CULTIVO  \\\n",
       "0  2006-01-01  Agricultura      142        1                        Ajo   \n",
       "1  2006-01-01  Agricultura      142        1   Avena forrajera en verde   \n",
       "2  2006-01-01  Agricultura      142        1  Cebada forrajera en verde   \n",
       "3  2006-01-01  Agricultura      142        1         Rye grass en verde   \n",
       "4  2006-01-01  Agricultura      141        2   Avena forrajera en verde   \n",
       "\n",
       "                 TIPO  PRODTON  VALPROD  \n",
       "0          Hortalizas    156.0  1560.00  \n",
       "1  Plantas forrajeras    925.0   323.75  \n",
       "2  Plantas forrajeras   4760.0  1666.00  \n",
       "3  Plantas forrajeras   3705.0  1482.00  \n",
       "4  Plantas forrajeras   1000.0   750.00  "
      ]
     },
     "execution_count": 11,
     "metadata": {},
     "output_type": "execute_result"
    }
   ],
   "source": [
    "agp = pd.read_csv('tidy/tidy_agricultura_ganaderia_pesca.csv')\n",
    "agp.head()"
   ]
  },
  {
   "cell_type": "code",
   "execution_count": 12,
   "metadata": {},
   "outputs": [],
   "source": [
    "# Agrupamos valores de fecha para sumar el valor producido por sector economico\n",
    "agp_anual = agp[['ANO', 'SECTOR', 'PRODTON', 'VALPROD']].groupby(['ANO', 'SECTOR']).sum().reset_index()"
   ]
  },
  {
   "cell_type": "code",
   "execution_count": 13,
   "metadata": {},
   "outputs": [
    {
     "data": {
      "application/vnd.plotly.v1+json": {
       "config": {
        "plotlyServerURL": "https://plot.ly"
       },
       "data": [
        {
         "hovertemplate": "SECTOR=Agricultura<br>ANO=%{x}<br>VALPROD=%{y}<extra></extra>",
         "legendgroup": "Agricultura",
         "line": {
          "color": "#636efa",
          "dash": "solid"
         },
         "marker": {
          "symbol": "circle"
         },
         "mode": "lines",
         "name": "Agricultura",
         "orientation": "v",
         "showlegend": true,
         "type": "scatter",
         "x": [
          "2006-01-01",
          "2007-01-01",
          "2008-01-01",
          "2009-01-01",
          "2010-01-01",
          "2011-01-01",
          "2012-01-01",
          "2013-01-01",
          "2014-01-01",
          "2015-01-01",
          "2016-01-01",
          "2017-01-01",
          "2018-01-01",
          "2019-01-01",
          "2020-01-01",
          "2021-01-01",
          "2022-01-01",
          "2023-01-01"
         ],
         "xaxis": "x",
         "y": [
          12858746.76,
          15454433.83,
          19617876.97,
          20619351.6,
          21239135.14,
          22397571.43,
          28143714.508,
          27125280.25,
          27336767.03,
          30092166.759999998,
          34304579.68,
          40345045.81,
          46409035.60486,
          47395346.46918,
          48395634.09405,
          52110651.699,
          9800350.692,
          2028089.3
         ],
         "yaxis": "y"
        },
        {
         "hovertemplate": "SECTOR=Ganadería<br>ANO=%{x}<br>VALPROD=%{y}<extra></extra>",
         "legendgroup": "Ganadería",
         "line": {
          "color": "#EF553B",
          "dash": "solid"
         },
         "marker": {
          "symbol": "circle"
         },
         "mode": "lines",
         "name": "Ganadería",
         "orientation": "v",
         "showlegend": true,
         "type": "scatter",
         "x": [
          "2006-01-01",
          "2007-01-01",
          "2008-01-01",
          "2009-01-01",
          "2010-01-01",
          "2011-01-01",
          "2012-01-01",
          "2013-01-01",
          "2014-01-01",
          "2015-01-01",
          "2016-01-01",
          "2017-01-01",
          "2018-01-01",
          "2019-01-01",
          "2020-01-01",
          "2021-01-01",
          "2022-01-01"
         ],
         "xaxis": "x",
         "y": [
          9419692,
          9548965,
          11072020,
          11112143,
          11361620,
          12166614,
          13189068.54,
          14363433,
          15509326.962,
          18725483,
          17782493.059,
          19195841.75,
          20482675.282,
          22074949.918,
          23103079.499,
          23945679.98,
          27003511.525
         ],
         "yaxis": "y"
        },
        {
         "hovertemplate": "SECTOR=Pesca<br>ANO=%{x}<br>VALPROD=%{y}<extra></extra>",
         "legendgroup": "Pesca",
         "line": {
          "color": "#00cc96",
          "dash": "solid"
         },
         "marker": {
          "symbol": "circle"
         },
         "mode": "lines",
         "name": "Pesca",
         "orientation": "v",
         "showlegend": true,
         "type": "scatter",
         "x": [
          "2006-01-01",
          "2007-01-01",
          "2008-01-01",
          "2009-01-01",
          "2010-01-01",
          "2011-01-01",
          "2012-01-01",
          "2013-01-01",
          "2014-01-01",
          "2015-01-01",
          "2016-01-01",
          "2017-01-01",
          "2018-01-01",
          "2019-01-01",
          "2020-01-01",
          "2021-01-01",
          "2022-01-01"
         ],
         "xaxis": "x",
         "y": [
          3921777,
          3760770,
          4847817,
          5037168,
          3402922,
          3102913,
          3303827,
          2610991,
          3879945,
          5638118,
          6707827.99509,
          8530275.1765,
          7898384.517,
          8970794.559,
          11766197.327,
          11058962.991,
          12512046.967
         ],
         "yaxis": "y"
        }
       ],
       "layout": {
        "legend": {
         "title": {
          "text": "SECTOR"
         },
         "tracegroupgap": 0
        },
        "template": {
         "data": {
          "bar": [
           {
            "error_x": {
             "color": "#2a3f5f"
            },
            "error_y": {
             "color": "#2a3f5f"
            },
            "marker": {
             "line": {
              "color": "#E5ECF6",
              "width": 0.5
             },
             "pattern": {
              "fillmode": "overlay",
              "size": 10,
              "solidity": 0.2
             }
            },
            "type": "bar"
           }
          ],
          "barpolar": [
           {
            "marker": {
             "line": {
              "color": "#E5ECF6",
              "width": 0.5
             },
             "pattern": {
              "fillmode": "overlay",
              "size": 10,
              "solidity": 0.2
             }
            },
            "type": "barpolar"
           }
          ],
          "carpet": [
           {
            "aaxis": {
             "endlinecolor": "#2a3f5f",
             "gridcolor": "white",
             "linecolor": "white",
             "minorgridcolor": "white",
             "startlinecolor": "#2a3f5f"
            },
            "baxis": {
             "endlinecolor": "#2a3f5f",
             "gridcolor": "white",
             "linecolor": "white",
             "minorgridcolor": "white",
             "startlinecolor": "#2a3f5f"
            },
            "type": "carpet"
           }
          ],
          "choropleth": [
           {
            "colorbar": {
             "outlinewidth": 0,
             "ticks": ""
            },
            "type": "choropleth"
           }
          ],
          "contour": [
           {
            "colorbar": {
             "outlinewidth": 0,
             "ticks": ""
            },
            "colorscale": [
             [
              0,
              "#0d0887"
             ],
             [
              0.1111111111111111,
              "#46039f"
             ],
             [
              0.2222222222222222,
              "#7201a8"
             ],
             [
              0.3333333333333333,
              "#9c179e"
             ],
             [
              0.4444444444444444,
              "#bd3786"
             ],
             [
              0.5555555555555556,
              "#d8576b"
             ],
             [
              0.6666666666666666,
              "#ed7953"
             ],
             [
              0.7777777777777778,
              "#fb9f3a"
             ],
             [
              0.8888888888888888,
              "#fdca26"
             ],
             [
              1,
              "#f0f921"
             ]
            ],
            "type": "contour"
           }
          ],
          "contourcarpet": [
           {
            "colorbar": {
             "outlinewidth": 0,
             "ticks": ""
            },
            "type": "contourcarpet"
           }
          ],
          "heatmap": [
           {
            "colorbar": {
             "outlinewidth": 0,
             "ticks": ""
            },
            "colorscale": [
             [
              0,
              "#0d0887"
             ],
             [
              0.1111111111111111,
              "#46039f"
             ],
             [
              0.2222222222222222,
              "#7201a8"
             ],
             [
              0.3333333333333333,
              "#9c179e"
             ],
             [
              0.4444444444444444,
              "#bd3786"
             ],
             [
              0.5555555555555556,
              "#d8576b"
             ],
             [
              0.6666666666666666,
              "#ed7953"
             ],
             [
              0.7777777777777778,
              "#fb9f3a"
             ],
             [
              0.8888888888888888,
              "#fdca26"
             ],
             [
              1,
              "#f0f921"
             ]
            ],
            "type": "heatmap"
           }
          ],
          "heatmapgl": [
           {
            "colorbar": {
             "outlinewidth": 0,
             "ticks": ""
            },
            "colorscale": [
             [
              0,
              "#0d0887"
             ],
             [
              0.1111111111111111,
              "#46039f"
             ],
             [
              0.2222222222222222,
              "#7201a8"
             ],
             [
              0.3333333333333333,
              "#9c179e"
             ],
             [
              0.4444444444444444,
              "#bd3786"
             ],
             [
              0.5555555555555556,
              "#d8576b"
             ],
             [
              0.6666666666666666,
              "#ed7953"
             ],
             [
              0.7777777777777778,
              "#fb9f3a"
             ],
             [
              0.8888888888888888,
              "#fdca26"
             ],
             [
              1,
              "#f0f921"
             ]
            ],
            "type": "heatmapgl"
           }
          ],
          "histogram": [
           {
            "marker": {
             "pattern": {
              "fillmode": "overlay",
              "size": 10,
              "solidity": 0.2
             }
            },
            "type": "histogram"
           }
          ],
          "histogram2d": [
           {
            "colorbar": {
             "outlinewidth": 0,
             "ticks": ""
            },
            "colorscale": [
             [
              0,
              "#0d0887"
             ],
             [
              0.1111111111111111,
              "#46039f"
             ],
             [
              0.2222222222222222,
              "#7201a8"
             ],
             [
              0.3333333333333333,
              "#9c179e"
             ],
             [
              0.4444444444444444,
              "#bd3786"
             ],
             [
              0.5555555555555556,
              "#d8576b"
             ],
             [
              0.6666666666666666,
              "#ed7953"
             ],
             [
              0.7777777777777778,
              "#fb9f3a"
             ],
             [
              0.8888888888888888,
              "#fdca26"
             ],
             [
              1,
              "#f0f921"
             ]
            ],
            "type": "histogram2d"
           }
          ],
          "histogram2dcontour": [
           {
            "colorbar": {
             "outlinewidth": 0,
             "ticks": ""
            },
            "colorscale": [
             [
              0,
              "#0d0887"
             ],
             [
              0.1111111111111111,
              "#46039f"
             ],
             [
              0.2222222222222222,
              "#7201a8"
             ],
             [
              0.3333333333333333,
              "#9c179e"
             ],
             [
              0.4444444444444444,
              "#bd3786"
             ],
             [
              0.5555555555555556,
              "#d8576b"
             ],
             [
              0.6666666666666666,
              "#ed7953"
             ],
             [
              0.7777777777777778,
              "#fb9f3a"
             ],
             [
              0.8888888888888888,
              "#fdca26"
             ],
             [
              1,
              "#f0f921"
             ]
            ],
            "type": "histogram2dcontour"
           }
          ],
          "mesh3d": [
           {
            "colorbar": {
             "outlinewidth": 0,
             "ticks": ""
            },
            "type": "mesh3d"
           }
          ],
          "parcoords": [
           {
            "line": {
             "colorbar": {
              "outlinewidth": 0,
              "ticks": ""
             }
            },
            "type": "parcoords"
           }
          ],
          "pie": [
           {
            "automargin": true,
            "type": "pie"
           }
          ],
          "scatter": [
           {
            "fillpattern": {
             "fillmode": "overlay",
             "size": 10,
             "solidity": 0.2
            },
            "type": "scatter"
           }
          ],
          "scatter3d": [
           {
            "line": {
             "colorbar": {
              "outlinewidth": 0,
              "ticks": ""
             }
            },
            "marker": {
             "colorbar": {
              "outlinewidth": 0,
              "ticks": ""
             }
            },
            "type": "scatter3d"
           }
          ],
          "scattercarpet": [
           {
            "marker": {
             "colorbar": {
              "outlinewidth": 0,
              "ticks": ""
             }
            },
            "type": "scattercarpet"
           }
          ],
          "scattergeo": [
           {
            "marker": {
             "colorbar": {
              "outlinewidth": 0,
              "ticks": ""
             }
            },
            "type": "scattergeo"
           }
          ],
          "scattergl": [
           {
            "marker": {
             "colorbar": {
              "outlinewidth": 0,
              "ticks": ""
             }
            },
            "type": "scattergl"
           }
          ],
          "scattermapbox": [
           {
            "marker": {
             "colorbar": {
              "outlinewidth": 0,
              "ticks": ""
             }
            },
            "type": "scattermapbox"
           }
          ],
          "scatterpolar": [
           {
            "marker": {
             "colorbar": {
              "outlinewidth": 0,
              "ticks": ""
             }
            },
            "type": "scatterpolar"
           }
          ],
          "scatterpolargl": [
           {
            "marker": {
             "colorbar": {
              "outlinewidth": 0,
              "ticks": ""
             }
            },
            "type": "scatterpolargl"
           }
          ],
          "scatterternary": [
           {
            "marker": {
             "colorbar": {
              "outlinewidth": 0,
              "ticks": ""
             }
            },
            "type": "scatterternary"
           }
          ],
          "surface": [
           {
            "colorbar": {
             "outlinewidth": 0,
             "ticks": ""
            },
            "colorscale": [
             [
              0,
              "#0d0887"
             ],
             [
              0.1111111111111111,
              "#46039f"
             ],
             [
              0.2222222222222222,
              "#7201a8"
             ],
             [
              0.3333333333333333,
              "#9c179e"
             ],
             [
              0.4444444444444444,
              "#bd3786"
             ],
             [
              0.5555555555555556,
              "#d8576b"
             ],
             [
              0.6666666666666666,
              "#ed7953"
             ],
             [
              0.7777777777777778,
              "#fb9f3a"
             ],
             [
              0.8888888888888888,
              "#fdca26"
             ],
             [
              1,
              "#f0f921"
             ]
            ],
            "type": "surface"
           }
          ],
          "table": [
           {
            "cells": {
             "fill": {
              "color": "#EBF0F8"
             },
             "line": {
              "color": "white"
             }
            },
            "header": {
             "fill": {
              "color": "#C8D4E3"
             },
             "line": {
              "color": "white"
             }
            },
            "type": "table"
           }
          ]
         },
         "layout": {
          "annotationdefaults": {
           "arrowcolor": "#2a3f5f",
           "arrowhead": 0,
           "arrowwidth": 1
          },
          "autotypenumbers": "strict",
          "coloraxis": {
           "colorbar": {
            "outlinewidth": 0,
            "ticks": ""
           }
          },
          "colorscale": {
           "diverging": [
            [
             0,
             "#8e0152"
            ],
            [
             0.1,
             "#c51b7d"
            ],
            [
             0.2,
             "#de77ae"
            ],
            [
             0.3,
             "#f1b6da"
            ],
            [
             0.4,
             "#fde0ef"
            ],
            [
             0.5,
             "#f7f7f7"
            ],
            [
             0.6,
             "#e6f5d0"
            ],
            [
             0.7,
             "#b8e186"
            ],
            [
             0.8,
             "#7fbc41"
            ],
            [
             0.9,
             "#4d9221"
            ],
            [
             1,
             "#276419"
            ]
           ],
           "sequential": [
            [
             0,
             "#0d0887"
            ],
            [
             0.1111111111111111,
             "#46039f"
            ],
            [
             0.2222222222222222,
             "#7201a8"
            ],
            [
             0.3333333333333333,
             "#9c179e"
            ],
            [
             0.4444444444444444,
             "#bd3786"
            ],
            [
             0.5555555555555556,
             "#d8576b"
            ],
            [
             0.6666666666666666,
             "#ed7953"
            ],
            [
             0.7777777777777778,
             "#fb9f3a"
            ],
            [
             0.8888888888888888,
             "#fdca26"
            ],
            [
             1,
             "#f0f921"
            ]
           ],
           "sequentialminus": [
            [
             0,
             "#0d0887"
            ],
            [
             0.1111111111111111,
             "#46039f"
            ],
            [
             0.2222222222222222,
             "#7201a8"
            ],
            [
             0.3333333333333333,
             "#9c179e"
            ],
            [
             0.4444444444444444,
             "#bd3786"
            ],
            [
             0.5555555555555556,
             "#d8576b"
            ],
            [
             0.6666666666666666,
             "#ed7953"
            ],
            [
             0.7777777777777778,
             "#fb9f3a"
            ],
            [
             0.8888888888888888,
             "#fdca26"
            ],
            [
             1,
             "#f0f921"
            ]
           ]
          },
          "colorway": [
           "#636efa",
           "#EF553B",
           "#00cc96",
           "#ab63fa",
           "#FFA15A",
           "#19d3f3",
           "#FF6692",
           "#B6E880",
           "#FF97FF",
           "#FECB52"
          ],
          "font": {
           "color": "#2a3f5f"
          },
          "geo": {
           "bgcolor": "white",
           "lakecolor": "white",
           "landcolor": "#E5ECF6",
           "showlakes": true,
           "showland": true,
           "subunitcolor": "white"
          },
          "hoverlabel": {
           "align": "left"
          },
          "hovermode": "closest",
          "mapbox": {
           "style": "light"
          },
          "paper_bgcolor": "white",
          "plot_bgcolor": "#E5ECF6",
          "polar": {
           "angularaxis": {
            "gridcolor": "white",
            "linecolor": "white",
            "ticks": ""
           },
           "bgcolor": "#E5ECF6",
           "radialaxis": {
            "gridcolor": "white",
            "linecolor": "white",
            "ticks": ""
           }
          },
          "scene": {
           "xaxis": {
            "backgroundcolor": "#E5ECF6",
            "gridcolor": "white",
            "gridwidth": 2,
            "linecolor": "white",
            "showbackground": true,
            "ticks": "",
            "zerolinecolor": "white"
           },
           "yaxis": {
            "backgroundcolor": "#E5ECF6",
            "gridcolor": "white",
            "gridwidth": 2,
            "linecolor": "white",
            "showbackground": true,
            "ticks": "",
            "zerolinecolor": "white"
           },
           "zaxis": {
            "backgroundcolor": "#E5ECF6",
            "gridcolor": "white",
            "gridwidth": 2,
            "linecolor": "white",
            "showbackground": true,
            "ticks": "",
            "zerolinecolor": "white"
           }
          },
          "shapedefaults": {
           "line": {
            "color": "#2a3f5f"
           }
          },
          "ternary": {
           "aaxis": {
            "gridcolor": "white",
            "linecolor": "white",
            "ticks": ""
           },
           "baxis": {
            "gridcolor": "white",
            "linecolor": "white",
            "ticks": ""
           },
           "bgcolor": "#E5ECF6",
           "caxis": {
            "gridcolor": "white",
            "linecolor": "white",
            "ticks": ""
           }
          },
          "title": {
           "x": 0.05
          },
          "xaxis": {
           "automargin": true,
           "gridcolor": "white",
           "linecolor": "white",
           "ticks": "",
           "title": {
            "standoff": 15
           },
           "zerolinecolor": "white",
           "zerolinewidth": 2
          },
          "yaxis": {
           "automargin": true,
           "gridcolor": "white",
           "linecolor": "white",
           "ticks": "",
           "title": {
            "standoff": 15
           },
           "zerolinecolor": "white",
           "zerolinewidth": 2
          }
         }
        },
        "title": {
         "text": "Valor producido por sector económico"
        },
        "xaxis": {
         "anchor": "y",
         "domain": [
          0,
          1
         ],
         "title": {
          "text": "ANO"
         }
        },
        "yaxis": {
         "anchor": "x",
         "domain": [
          0,
          1
         ],
         "title": {
          "text": "VALPROD"
         }
        }
       }
      }
     },
     "metadata": {},
     "output_type": "display_data"
    }
   ],
   "source": [
    "# Graficamos el valor producido por sector economico a traves del tiempo\n",
    "fig = px.line(agp_anual, x='ANO', y='VALPROD', color='SECTOR', title='Valor producido por sector económico')\n",
    "fig.show()"
   ]
  },
  {
   "cell_type": "code",
   "execution_count": 14,
   "metadata": {},
   "outputs": [
    {
     "data": {
      "application/vnd.plotly.v1+json": {
       "config": {
        "plotlyServerURL": "https://plot.ly"
       },
       "data": [
        {
         "hovertemplate": "SECTOR=Agricultura<br>ANO=%{x}<br>PRODTON=%{y}<extra></extra>",
         "legendgroup": "Agricultura",
         "line": {
          "color": "#636efa",
          "dash": "solid"
         },
         "marker": {
          "symbol": "circle"
         },
         "mode": "lines",
         "name": "Agricultura",
         "orientation": "v",
         "showlegend": true,
         "type": "scatter",
         "x": [
          "2006-01-01",
          "2007-01-01",
          "2008-01-01",
          "2009-01-01",
          "2010-01-01",
          "2011-01-01",
          "2012-01-01",
          "2013-01-01",
          "2014-01-01",
          "2015-01-01",
          "2016-01-01",
          "2017-01-01",
          "2018-01-01",
          "2019-01-01",
          "2020-01-01",
          "2021-01-01",
          "2022-01-01",
          "2023-01-01"
         ],
         "xaxis": "x3",
         "y": [
          4685124.21,
          4842636.26,
          5196275.24,
          4963296.84,
          5489600.86,
          5051580.9399999995,
          5691756.43,
          5562560.85,
          5440900.21,
          5557817.93,
          6475500.93,
          6562089.95,
          6989429.11,
          6893661.45,
          6597600.09,
          7049489.47,
          475858.88,
          171917.9
         ],
         "yaxis": "y3"
        },
        {
         "hovertemplate": "SECTOR=Ganadería<br>ANO=%{x}<br>PRODTON=%{y}<extra></extra>",
         "legendgroup": "Ganadería",
         "line": {
          "color": "#EF553B",
          "dash": "solid"
         },
         "marker": {
          "symbol": "circle"
         },
         "mode": "lines",
         "name": "Ganadería",
         "orientation": "v",
         "showlegend": true,
         "type": "scatter",
         "x": [
          "2006-01-01",
          "2007-01-01",
          "2008-01-01",
          "2009-01-01",
          "2010-01-01",
          "2011-01-01",
          "2012-01-01",
          "2013-01-01",
          "2014-01-01",
          "2015-01-01",
          "2016-01-01",
          "2017-01-01",
          "2018-01-01",
          "2019-01-01",
          "2020-01-01",
          "2021-01-01",
          "2022-01-01"
         ],
         "xaxis": "x2",
         "y": [
          555973.539,
          551983.755,
          555346.788,
          562665.476,
          556202.169,
          567504.897,
          569220.769,
          588550.325,
          561686.577,
          571730.728,
          589169.025,
          625122.478,
          646952.062,
          674796.481,
          691044.908,
          714327.13,
          731899.576
         ],
         "yaxis": "y2"
        },
        {
         "hovertemplate": "SECTOR=Pesca<br>ANO=%{x}<br>PRODTON=%{y}<extra></extra>",
         "legendgroup": "Pesca",
         "line": {
          "color": "#00cc96",
          "dash": "solid"
         },
         "marker": {
          "symbol": "circle"
         },
         "mode": "lines",
         "name": "Pesca",
         "orientation": "v",
         "showlegend": true,
         "type": "scatter",
         "x": [
          "2006-01-01",
          "2007-01-01",
          "2008-01-01",
          "2009-01-01",
          "2010-01-01",
          "2011-01-01",
          "2012-01-01",
          "2013-01-01",
          "2014-01-01",
          "2015-01-01",
          "2016-01-01",
          "2017-01-01",
          "2018-01-01",
          "2019-01-01",
          "2020-01-01",
          "2021-01-01",
          "2022-01-01"
         ],
         "xaxis": "x",
         "y": [
          481505000,
          490754000,
          654957000,
          714565002,
          497641000,
          538763000,
          538644000,
          591013000,
          457990000,
          443557000,
          402693504,
          655367735.33,
          661398663,
          613382988,
          604614501,
          842868074,
          705816585
         ],
         "yaxis": "y"
        }
       ],
       "layout": {
        "annotations": [
         {
          "font": {},
          "showarrow": false,
          "text": "SECTOR=Pesca",
          "x": 0.5,
          "xanchor": "center",
          "xref": "paper",
          "y": 0.2866666666666666,
          "yanchor": "bottom",
          "yref": "paper"
         },
         {
          "font": {},
          "showarrow": false,
          "text": "SECTOR=Ganadería",
          "x": 0.5,
          "xanchor": "center",
          "xref": "paper",
          "y": 0.6433333333333333,
          "yanchor": "bottom",
          "yref": "paper"
         },
         {
          "font": {},
          "showarrow": false,
          "text": "SECTOR=Agricultura",
          "x": 0.5,
          "xanchor": "center",
          "xref": "paper",
          "y": 0.9999999999999999,
          "yanchor": "bottom",
          "yref": "paper"
         }
        ],
        "legend": {
         "title": {
          "text": "SECTOR"
         },
         "tracegroupgap": 0
        },
        "template": {
         "data": {
          "bar": [
           {
            "error_x": {
             "color": "#2a3f5f"
            },
            "error_y": {
             "color": "#2a3f5f"
            },
            "marker": {
             "line": {
              "color": "#E5ECF6",
              "width": 0.5
             },
             "pattern": {
              "fillmode": "overlay",
              "size": 10,
              "solidity": 0.2
             }
            },
            "type": "bar"
           }
          ],
          "barpolar": [
           {
            "marker": {
             "line": {
              "color": "#E5ECF6",
              "width": 0.5
             },
             "pattern": {
              "fillmode": "overlay",
              "size": 10,
              "solidity": 0.2
             }
            },
            "type": "barpolar"
           }
          ],
          "carpet": [
           {
            "aaxis": {
             "endlinecolor": "#2a3f5f",
             "gridcolor": "white",
             "linecolor": "white",
             "minorgridcolor": "white",
             "startlinecolor": "#2a3f5f"
            },
            "baxis": {
             "endlinecolor": "#2a3f5f",
             "gridcolor": "white",
             "linecolor": "white",
             "minorgridcolor": "white",
             "startlinecolor": "#2a3f5f"
            },
            "type": "carpet"
           }
          ],
          "choropleth": [
           {
            "colorbar": {
             "outlinewidth": 0,
             "ticks": ""
            },
            "type": "choropleth"
           }
          ],
          "contour": [
           {
            "colorbar": {
             "outlinewidth": 0,
             "ticks": ""
            },
            "colorscale": [
             [
              0,
              "#0d0887"
             ],
             [
              0.1111111111111111,
              "#46039f"
             ],
             [
              0.2222222222222222,
              "#7201a8"
             ],
             [
              0.3333333333333333,
              "#9c179e"
             ],
             [
              0.4444444444444444,
              "#bd3786"
             ],
             [
              0.5555555555555556,
              "#d8576b"
             ],
             [
              0.6666666666666666,
              "#ed7953"
             ],
             [
              0.7777777777777778,
              "#fb9f3a"
             ],
             [
              0.8888888888888888,
              "#fdca26"
             ],
             [
              1,
              "#f0f921"
             ]
            ],
            "type": "contour"
           }
          ],
          "contourcarpet": [
           {
            "colorbar": {
             "outlinewidth": 0,
             "ticks": ""
            },
            "type": "contourcarpet"
           }
          ],
          "heatmap": [
           {
            "colorbar": {
             "outlinewidth": 0,
             "ticks": ""
            },
            "colorscale": [
             [
              0,
              "#0d0887"
             ],
             [
              0.1111111111111111,
              "#46039f"
             ],
             [
              0.2222222222222222,
              "#7201a8"
             ],
             [
              0.3333333333333333,
              "#9c179e"
             ],
             [
              0.4444444444444444,
              "#bd3786"
             ],
             [
              0.5555555555555556,
              "#d8576b"
             ],
             [
              0.6666666666666666,
              "#ed7953"
             ],
             [
              0.7777777777777778,
              "#fb9f3a"
             ],
             [
              0.8888888888888888,
              "#fdca26"
             ],
             [
              1,
              "#f0f921"
             ]
            ],
            "type": "heatmap"
           }
          ],
          "heatmapgl": [
           {
            "colorbar": {
             "outlinewidth": 0,
             "ticks": ""
            },
            "colorscale": [
             [
              0,
              "#0d0887"
             ],
             [
              0.1111111111111111,
              "#46039f"
             ],
             [
              0.2222222222222222,
              "#7201a8"
             ],
             [
              0.3333333333333333,
              "#9c179e"
             ],
             [
              0.4444444444444444,
              "#bd3786"
             ],
             [
              0.5555555555555556,
              "#d8576b"
             ],
             [
              0.6666666666666666,
              "#ed7953"
             ],
             [
              0.7777777777777778,
              "#fb9f3a"
             ],
             [
              0.8888888888888888,
              "#fdca26"
             ],
             [
              1,
              "#f0f921"
             ]
            ],
            "type": "heatmapgl"
           }
          ],
          "histogram": [
           {
            "marker": {
             "pattern": {
              "fillmode": "overlay",
              "size": 10,
              "solidity": 0.2
             }
            },
            "type": "histogram"
           }
          ],
          "histogram2d": [
           {
            "colorbar": {
             "outlinewidth": 0,
             "ticks": ""
            },
            "colorscale": [
             [
              0,
              "#0d0887"
             ],
             [
              0.1111111111111111,
              "#46039f"
             ],
             [
              0.2222222222222222,
              "#7201a8"
             ],
             [
              0.3333333333333333,
              "#9c179e"
             ],
             [
              0.4444444444444444,
              "#bd3786"
             ],
             [
              0.5555555555555556,
              "#d8576b"
             ],
             [
              0.6666666666666666,
              "#ed7953"
             ],
             [
              0.7777777777777778,
              "#fb9f3a"
             ],
             [
              0.8888888888888888,
              "#fdca26"
             ],
             [
              1,
              "#f0f921"
             ]
            ],
            "type": "histogram2d"
           }
          ],
          "histogram2dcontour": [
           {
            "colorbar": {
             "outlinewidth": 0,
             "ticks": ""
            },
            "colorscale": [
             [
              0,
              "#0d0887"
             ],
             [
              0.1111111111111111,
              "#46039f"
             ],
             [
              0.2222222222222222,
              "#7201a8"
             ],
             [
              0.3333333333333333,
              "#9c179e"
             ],
             [
              0.4444444444444444,
              "#bd3786"
             ],
             [
              0.5555555555555556,
              "#d8576b"
             ],
             [
              0.6666666666666666,
              "#ed7953"
             ],
             [
              0.7777777777777778,
              "#fb9f3a"
             ],
             [
              0.8888888888888888,
              "#fdca26"
             ],
             [
              1,
              "#f0f921"
             ]
            ],
            "type": "histogram2dcontour"
           }
          ],
          "mesh3d": [
           {
            "colorbar": {
             "outlinewidth": 0,
             "ticks": ""
            },
            "type": "mesh3d"
           }
          ],
          "parcoords": [
           {
            "line": {
             "colorbar": {
              "outlinewidth": 0,
              "ticks": ""
             }
            },
            "type": "parcoords"
           }
          ],
          "pie": [
           {
            "automargin": true,
            "type": "pie"
           }
          ],
          "scatter": [
           {
            "fillpattern": {
             "fillmode": "overlay",
             "size": 10,
             "solidity": 0.2
            },
            "type": "scatter"
           }
          ],
          "scatter3d": [
           {
            "line": {
             "colorbar": {
              "outlinewidth": 0,
              "ticks": ""
             }
            },
            "marker": {
             "colorbar": {
              "outlinewidth": 0,
              "ticks": ""
             }
            },
            "type": "scatter3d"
           }
          ],
          "scattercarpet": [
           {
            "marker": {
             "colorbar": {
              "outlinewidth": 0,
              "ticks": ""
             }
            },
            "type": "scattercarpet"
           }
          ],
          "scattergeo": [
           {
            "marker": {
             "colorbar": {
              "outlinewidth": 0,
              "ticks": ""
             }
            },
            "type": "scattergeo"
           }
          ],
          "scattergl": [
           {
            "marker": {
             "colorbar": {
              "outlinewidth": 0,
              "ticks": ""
             }
            },
            "type": "scattergl"
           }
          ],
          "scattermapbox": [
           {
            "marker": {
             "colorbar": {
              "outlinewidth": 0,
              "ticks": ""
             }
            },
            "type": "scattermapbox"
           }
          ],
          "scatterpolar": [
           {
            "marker": {
             "colorbar": {
              "outlinewidth": 0,
              "ticks": ""
             }
            },
            "type": "scatterpolar"
           }
          ],
          "scatterpolargl": [
           {
            "marker": {
             "colorbar": {
              "outlinewidth": 0,
              "ticks": ""
             }
            },
            "type": "scatterpolargl"
           }
          ],
          "scatterternary": [
           {
            "marker": {
             "colorbar": {
              "outlinewidth": 0,
              "ticks": ""
             }
            },
            "type": "scatterternary"
           }
          ],
          "surface": [
           {
            "colorbar": {
             "outlinewidth": 0,
             "ticks": ""
            },
            "colorscale": [
             [
              0,
              "#0d0887"
             ],
             [
              0.1111111111111111,
              "#46039f"
             ],
             [
              0.2222222222222222,
              "#7201a8"
             ],
             [
              0.3333333333333333,
              "#9c179e"
             ],
             [
              0.4444444444444444,
              "#bd3786"
             ],
             [
              0.5555555555555556,
              "#d8576b"
             ],
             [
              0.6666666666666666,
              "#ed7953"
             ],
             [
              0.7777777777777778,
              "#fb9f3a"
             ],
             [
              0.8888888888888888,
              "#fdca26"
             ],
             [
              1,
              "#f0f921"
             ]
            ],
            "type": "surface"
           }
          ],
          "table": [
           {
            "cells": {
             "fill": {
              "color": "#EBF0F8"
             },
             "line": {
              "color": "white"
             }
            },
            "header": {
             "fill": {
              "color": "#C8D4E3"
             },
             "line": {
              "color": "white"
             }
            },
            "type": "table"
           }
          ]
         },
         "layout": {
          "annotationdefaults": {
           "arrowcolor": "#2a3f5f",
           "arrowhead": 0,
           "arrowwidth": 1
          },
          "autotypenumbers": "strict",
          "coloraxis": {
           "colorbar": {
            "outlinewidth": 0,
            "ticks": ""
           }
          },
          "colorscale": {
           "diverging": [
            [
             0,
             "#8e0152"
            ],
            [
             0.1,
             "#c51b7d"
            ],
            [
             0.2,
             "#de77ae"
            ],
            [
             0.3,
             "#f1b6da"
            ],
            [
             0.4,
             "#fde0ef"
            ],
            [
             0.5,
             "#f7f7f7"
            ],
            [
             0.6,
             "#e6f5d0"
            ],
            [
             0.7,
             "#b8e186"
            ],
            [
             0.8,
             "#7fbc41"
            ],
            [
             0.9,
             "#4d9221"
            ],
            [
             1,
             "#276419"
            ]
           ],
           "sequential": [
            [
             0,
             "#0d0887"
            ],
            [
             0.1111111111111111,
             "#46039f"
            ],
            [
             0.2222222222222222,
             "#7201a8"
            ],
            [
             0.3333333333333333,
             "#9c179e"
            ],
            [
             0.4444444444444444,
             "#bd3786"
            ],
            [
             0.5555555555555556,
             "#d8576b"
            ],
            [
             0.6666666666666666,
             "#ed7953"
            ],
            [
             0.7777777777777778,
             "#fb9f3a"
            ],
            [
             0.8888888888888888,
             "#fdca26"
            ],
            [
             1,
             "#f0f921"
            ]
           ],
           "sequentialminus": [
            [
             0,
             "#0d0887"
            ],
            [
             0.1111111111111111,
             "#46039f"
            ],
            [
             0.2222222222222222,
             "#7201a8"
            ],
            [
             0.3333333333333333,
             "#9c179e"
            ],
            [
             0.4444444444444444,
             "#bd3786"
            ],
            [
             0.5555555555555556,
             "#d8576b"
            ],
            [
             0.6666666666666666,
             "#ed7953"
            ],
            [
             0.7777777777777778,
             "#fb9f3a"
            ],
            [
             0.8888888888888888,
             "#fdca26"
            ],
            [
             1,
             "#f0f921"
            ]
           ]
          },
          "colorway": [
           "#636efa",
           "#EF553B",
           "#00cc96",
           "#ab63fa",
           "#FFA15A",
           "#19d3f3",
           "#FF6692",
           "#B6E880",
           "#FF97FF",
           "#FECB52"
          ],
          "font": {
           "color": "#2a3f5f"
          },
          "geo": {
           "bgcolor": "white",
           "lakecolor": "white",
           "landcolor": "#E5ECF6",
           "showlakes": true,
           "showland": true,
           "subunitcolor": "white"
          },
          "hoverlabel": {
           "align": "left"
          },
          "hovermode": "closest",
          "mapbox": {
           "style": "light"
          },
          "paper_bgcolor": "white",
          "plot_bgcolor": "#E5ECF6",
          "polar": {
           "angularaxis": {
            "gridcolor": "white",
            "linecolor": "white",
            "ticks": ""
           },
           "bgcolor": "#E5ECF6",
           "radialaxis": {
            "gridcolor": "white",
            "linecolor": "white",
            "ticks": ""
           }
          },
          "scene": {
           "xaxis": {
            "backgroundcolor": "#E5ECF6",
            "gridcolor": "white",
            "gridwidth": 2,
            "linecolor": "white",
            "showbackground": true,
            "ticks": "",
            "zerolinecolor": "white"
           },
           "yaxis": {
            "backgroundcolor": "#E5ECF6",
            "gridcolor": "white",
            "gridwidth": 2,
            "linecolor": "white",
            "showbackground": true,
            "ticks": "",
            "zerolinecolor": "white"
           },
           "zaxis": {
            "backgroundcolor": "#E5ECF6",
            "gridcolor": "white",
            "gridwidth": 2,
            "linecolor": "white",
            "showbackground": true,
            "ticks": "",
            "zerolinecolor": "white"
           }
          },
          "shapedefaults": {
           "line": {
            "color": "#2a3f5f"
           }
          },
          "ternary": {
           "aaxis": {
            "gridcolor": "white",
            "linecolor": "white",
            "ticks": ""
           },
           "baxis": {
            "gridcolor": "white",
            "linecolor": "white",
            "ticks": ""
           },
           "bgcolor": "#E5ECF6",
           "caxis": {
            "gridcolor": "white",
            "linecolor": "white",
            "ticks": ""
           }
          },
          "title": {
           "x": 0.05
          },
          "xaxis": {
           "automargin": true,
           "gridcolor": "white",
           "linecolor": "white",
           "ticks": "",
           "title": {
            "standoff": 15
           },
           "zerolinecolor": "white",
           "zerolinewidth": 2
          },
          "yaxis": {
           "automargin": true,
           "gridcolor": "white",
           "linecolor": "white",
           "ticks": "",
           "title": {
            "standoff": 15
           },
           "zerolinecolor": "white",
           "zerolinewidth": 2
          }
         }
        },
        "title": {
         "text": "Valor producido por sector económico"
        },
        "xaxis": {
         "anchor": "y",
         "domain": [
          0,
          1
         ],
         "title": {
          "text": "ANO"
         }
        },
        "xaxis2": {
         "anchor": "y2",
         "domain": [
          0,
          1
         ],
         "matches": "x",
         "showticklabels": false
        },
        "xaxis3": {
         "anchor": "y3",
         "domain": [
          0,
          1
         ],
         "matches": "x",
         "showticklabels": false
        },
        "yaxis": {
         "anchor": "x",
         "domain": [
          0,
          0.2866666666666666
         ],
         "title": {
          "text": "PRODTON"
         }
        },
        "yaxis2": {
         "anchor": "x2",
         "domain": [
          0.35666666666666663,
          0.6433333333333333
         ],
         "title": {
          "text": "PRODTON"
         }
        },
        "yaxis3": {
         "anchor": "x3",
         "domain": [
          0.7133333333333333,
          0.9999999999999999
         ],
         "title": {
          "text": "PRODTON"
         }
        }
       }
      }
     },
     "metadata": {},
     "output_type": "display_data"
    }
   ],
   "source": [
    "# Graficamos el valor producido por sector economico a traves del tiempo\n",
    "fig = px.line(agp_anual, x='ANO', y='PRODTON', color='SECTOR', title='Valor producido por sector económico', facet_col='SECTOR', facet_col_wrap=1)\n",
    "fig.update_yaxes(matches=None)\n",
    "fig.show()"
   ]
  },
  {
   "cell_type": "code",
   "execution_count": 15,
   "metadata": {},
   "outputs": [],
   "source": [
    "municipios = pd.read_csv('data/MUNICIPIO.csv')"
   ]
  },
  {
   "cell_type": "code",
   "execution_count": 16,
   "metadata": {},
   "outputs": [
    {
     "data": {
      "text/html": [
       "<div>\n",
       "<style scoped>\n",
       "    .dataframe tbody tr th:only-of-type {\n",
       "        vertical-align: middle;\n",
       "    }\n",
       "\n",
       "    .dataframe tbody tr th {\n",
       "        vertical-align: top;\n",
       "    }\n",
       "\n",
       "    .dataframe thead th {\n",
       "        text-align: right;\n",
       "    }\n",
       "</style>\n",
       "<table border=\"1\" class=\"dataframe\">\n",
       "  <thead>\n",
       "    <tr style=\"text-align: right;\">\n",
       "      <th></th>\n",
       "      <th>CLAVE_MUNICIPIO</th>\n",
       "      <th>MUNICIPIO</th>\n",
       "    </tr>\n",
       "  </thead>\n",
       "  <tbody>\n",
       "    <tr>\n",
       "      <th>1922</th>\n",
       "      <td>1</td>\n",
       "      <td>ACONCHI</td>\n",
       "    </tr>\n",
       "    <tr>\n",
       "      <th>1923</th>\n",
       "      <td>2</td>\n",
       "      <td>AGUA PRIETA</td>\n",
       "    </tr>\n",
       "    <tr>\n",
       "      <th>1924</th>\n",
       "      <td>3</td>\n",
       "      <td>ALAMOS</td>\n",
       "    </tr>\n",
       "    <tr>\n",
       "      <th>1925</th>\n",
       "      <td>4</td>\n",
       "      <td>ALTAR</td>\n",
       "    </tr>\n",
       "    <tr>\n",
       "      <th>1926</th>\n",
       "      <td>5</td>\n",
       "      <td>ARIVECHI</td>\n",
       "    </tr>\n",
       "  </tbody>\n",
       "</table>\n",
       "</div>"
      ],
      "text/plain": [
       "      CLAVE_MUNICIPIO    MUNICIPIO\n",
       "1922                1      ACONCHI\n",
       "1923                2  AGUA PRIETA\n",
       "1924                3       ALAMOS\n",
       "1925                4        ALTAR\n",
       "1926                5     ARIVECHI"
      ]
     },
     "execution_count": 16,
     "metadata": {},
     "output_type": "execute_result"
    }
   ],
   "source": [
    "municipios = municipios[municipios['CLAVE_ENTIDAD'] == '26']\n",
    "municipios = municipios.drop('CLAVE_ENTIDAD', axis = 1)\n",
    "municipios.head()"
   ]
  },
  {
   "cell_type": "code",
   "execution_count": 17,
   "metadata": {},
   "outputs": [],
   "source": [
    "# Cambiamos las claves por los nombres de los municipios\n",
    "agp_municipios = pd.merge(agp, municipios, left_on= 'CVE_MUN', right_on= 'CLAVE_MUNICIPIO', how= 'left')"
   ]
  },
  {
   "cell_type": "code",
   "execution_count": 18,
   "metadata": {},
   "outputs": [
    {
     "data": {
      "text/html": [
       "<div>\n",
       "<style scoped>\n",
       "    .dataframe tbody tr th:only-of-type {\n",
       "        vertical-align: middle;\n",
       "    }\n",
       "\n",
       "    .dataframe tbody tr th {\n",
       "        vertical-align: top;\n",
       "    }\n",
       "\n",
       "    .dataframe thead th {\n",
       "        text-align: right;\n",
       "    }\n",
       "</style>\n",
       "<table border=\"1\" class=\"dataframe\">\n",
       "  <thead>\n",
       "    <tr style=\"text-align: right;\">\n",
       "      <th></th>\n",
       "      <th>ANO</th>\n",
       "      <th>SECTOR</th>\n",
       "      <th>CVE_DDR</th>\n",
       "      <th>CVE_MUN</th>\n",
       "      <th>ESPECIE_CULTIVO</th>\n",
       "      <th>TIPO</th>\n",
       "      <th>PRODTON</th>\n",
       "      <th>VALPROD</th>\n",
       "      <th>CLAVE_MUNICIPIO</th>\n",
       "      <th>MUNICIPIO</th>\n",
       "    </tr>\n",
       "  </thead>\n",
       "  <tbody>\n",
       "    <tr>\n",
       "      <th>0</th>\n",
       "      <td>2006-01-01</td>\n",
       "      <td>Agricultura</td>\n",
       "      <td>142</td>\n",
       "      <td>1</td>\n",
       "      <td>Ajo</td>\n",
       "      <td>Hortalizas</td>\n",
       "      <td>156.0</td>\n",
       "      <td>1560.00</td>\n",
       "      <td>1</td>\n",
       "      <td>ACONCHI</td>\n",
       "    </tr>\n",
       "    <tr>\n",
       "      <th>1</th>\n",
       "      <td>2006-01-01</td>\n",
       "      <td>Agricultura</td>\n",
       "      <td>142</td>\n",
       "      <td>1</td>\n",
       "      <td>Avena forrajera en verde</td>\n",
       "      <td>Plantas forrajeras</td>\n",
       "      <td>925.0</td>\n",
       "      <td>323.75</td>\n",
       "      <td>1</td>\n",
       "      <td>ACONCHI</td>\n",
       "    </tr>\n",
       "    <tr>\n",
       "      <th>2</th>\n",
       "      <td>2006-01-01</td>\n",
       "      <td>Agricultura</td>\n",
       "      <td>142</td>\n",
       "      <td>1</td>\n",
       "      <td>Cebada forrajera en verde</td>\n",
       "      <td>Plantas forrajeras</td>\n",
       "      <td>4760.0</td>\n",
       "      <td>1666.00</td>\n",
       "      <td>1</td>\n",
       "      <td>ACONCHI</td>\n",
       "    </tr>\n",
       "    <tr>\n",
       "      <th>3</th>\n",
       "      <td>2006-01-01</td>\n",
       "      <td>Agricultura</td>\n",
       "      <td>142</td>\n",
       "      <td>1</td>\n",
       "      <td>Rye grass en verde</td>\n",
       "      <td>Plantas forrajeras</td>\n",
       "      <td>3705.0</td>\n",
       "      <td>1482.00</td>\n",
       "      <td>1</td>\n",
       "      <td>ACONCHI</td>\n",
       "    </tr>\n",
       "    <tr>\n",
       "      <th>4</th>\n",
       "      <td>2006-01-01</td>\n",
       "      <td>Agricultura</td>\n",
       "      <td>141</td>\n",
       "      <td>2</td>\n",
       "      <td>Avena forrajera en verde</td>\n",
       "      <td>Plantas forrajeras</td>\n",
       "      <td>1000.0</td>\n",
       "      <td>750.00</td>\n",
       "      <td>2</td>\n",
       "      <td>AGUA PRIETA</td>\n",
       "    </tr>\n",
       "  </tbody>\n",
       "</table>\n",
       "</div>"
      ],
      "text/plain": [
       "          ANO       SECTOR  CVE_DDR  CVE_MUN            ESPECIE_CULTIVO  \\\n",
       "0  2006-01-01  Agricultura      142        1                        Ajo   \n",
       "1  2006-01-01  Agricultura      142        1   Avena forrajera en verde   \n",
       "2  2006-01-01  Agricultura      142        1  Cebada forrajera en verde   \n",
       "3  2006-01-01  Agricultura      142        1         Rye grass en verde   \n",
       "4  2006-01-01  Agricultura      141        2   Avena forrajera en verde   \n",
       "\n",
       "                 TIPO  PRODTON  VALPROD  CLAVE_MUNICIPIO    MUNICIPIO  \n",
       "0          Hortalizas    156.0  1560.00                1      ACONCHI  \n",
       "1  Plantas forrajeras    925.0   323.75                1      ACONCHI  \n",
       "2  Plantas forrajeras   4760.0  1666.00                1      ACONCHI  \n",
       "3  Plantas forrajeras   3705.0  1482.00                1      ACONCHI  \n",
       "4  Plantas forrajeras   1000.0   750.00                2  AGUA PRIETA  "
      ]
     },
     "execution_count": 18,
     "metadata": {},
     "output_type": "execute_result"
    }
   ],
   "source": [
    "agp_municipios.head()"
   ]
  },
  {
   "cell_type": "code",
   "execution_count": 19,
   "metadata": {},
   "outputs": [
    {
     "name": "stdout",
     "output_type": "stream",
     "text": [
      "<class 'pandas.core.frame.DataFrame'>\n",
      "Int64Index: 27844 entries, 0 to 27843\n",
      "Data columns (total 10 columns):\n",
      " #   Column           Non-Null Count  Dtype  \n",
      "---  ------           --------------  -----  \n",
      " 0   ANO              27844 non-null  object \n",
      " 1   SECTOR           27844 non-null  object \n",
      " 2   CVE_DDR          27844 non-null  int64  \n",
      " 3   CVE_MUN          27844 non-null  int64  \n",
      " 4   ESPECIE_CULTIVO  27844 non-null  object \n",
      " 5   TIPO             27844 non-null  object \n",
      " 6   PRODTON          27844 non-null  float64\n",
      " 7   VALPROD          27844 non-null  float64\n",
      " 8   CLAVE_MUNICIPIO  27844 non-null  int64  \n",
      " 9   MUNICIPIO        27844 non-null  object \n",
      "dtypes: float64(2), int64(3), object(5)\n",
      "memory usage: 2.3+ MB\n"
     ]
    }
   ],
   "source": [
    "agp_municipios.info()"
   ]
  },
  {
   "cell_type": "code",
   "execution_count": 20,
   "metadata": {},
   "outputs": [],
   "source": [
    "# Agrupamos por municipios para ver cuales son los de mayor produccion\n",
    "agp_municipios = agp_municipios[['MUNICIPIO', 'SECTOR', 'PRODTON', 'VALPROD']].groupby(['MUNICIPIO', 'SECTOR']).sum().reset_index()"
   ]
  },
  {
   "cell_type": "code",
   "execution_count": 21,
   "metadata": {},
   "outputs": [
    {
     "data": {
      "application/vnd.plotly.v1+json": {
       "config": {
        "plotlyServerURL": "https://plot.ly"
       },
       "data": [
        {
         "alignmentgroup": "True",
         "hovertemplate": "SECTOR=Agricultura<br>MUNICIPIO=%{x}<br>VALPROD=%{y}<extra></extra>",
         "legendgroup": "Agricultura",
         "marker": {
          "color": "#636efa",
          "pattern": {
           "shape": ""
          }
         },
         "name": "Agricultura",
         "offsetgroup": "Agricultura",
         "orientation": "v",
         "showlegend": true,
         "textposition": "auto",
         "type": "bar",
         "x": [
          "ACONCHI",
          "AGUA PRIETA",
          "ALAMOS",
          "ALTAR",
          "ARIVECHI",
          "ARIZPE",
          "ATIL",
          "BACADÉHUACHI",
          "BACANORA",
          "BACERAC",
          "BACOACHI",
          "BANÁMICHI",
          "BAVISPE",
          "BAVIÁCORA",
          "BENITO JUÁREZ",
          "BENJAMÍN HILL",
          "BÁCUM",
          "CABORCA",
          "CAJEME",
          "CANANEA",
          "CARBÓ",
          "CUCURPE",
          "CUMPAS",
          "DIVISADEROS",
          "EMPALME",
          "ETCHOJOA",
          "FRONTERAS",
          "GENERAL PLUTARCO ELÍAS CALLES",
          "GRANADOS",
          "GUAYMAS",
          "HERMOSILLO",
          "HUACHINERA",
          "HUATABAMPO",
          "HUÁSABAS",
          "HUÉPAC",
          "IMURIS",
          "LA COLORADA",
          "MAGDALENA",
          "MAZATÁN",
          "MOCTEZUMA",
          "NACO",
          "NACOZARI DE GARCÍA",
          "NAVOJOA",
          "NOGALES",
          "NÁCORI CHICO",
          "ONAVAS",
          "OPODEPE",
          "OQUITOA",
          "PITIQUITO",
          "PUERTO PEÑASCO",
          "QUIRIEGO",
          "RAYÓN",
          "ROSARIO",
          "SAHUARIPA",
          "SAN FELIPE DE JESÚS",
          "SAN IGNACIO RÍO MUERTO",
          "SAN JAVIER",
          "SAN LUIS RÍO COLORADO",
          "SAN MIGUEL DE HORCASITAS",
          "SAN PEDRO DE LA CUEVA",
          "SANTA ANA",
          "SANTA CRUZ",
          "SOYOPA",
          "SUAQUI GRANDE",
          "SÁRIC",
          "TEPACHE",
          "TRINCHERAS",
          "TUBUTAMA",
          "URES",
          "VILLA HIDALGO",
          "VILLA PESQUEIRA",
          "YÉCORA"
         ],
         "xaxis": "x",
         "y": [
          351440.29,
          406379.84618,
          853194.95,
          14972607.752,
          115510.3126,
          1099612.02,
          191868.66,
          47881.63,
          90257.5964,
          191281.666,
          321634.69,
          336993.71,
          384704.865,
          340904.44,
          17316650.01,
          217562.27000000002,
          20551000.31,
          75034089.13,
          56977873.62,
          405122.87,
          5977085.4625,
          262008.125,
          301385.635,
          40965.4124,
          14582712.52,
          23022687.7474,
          1245152.16,
          3180822.91,
          107213.378,
          23883986.39736,
          112239335.7125,
          93696.87,
          20139148.1402,
          131395.328,
          386101.48,
          1568707.54,
          468799.88035,
          1234106.65,
          101884.8182,
          185507.4176,
          230783.1,
          0,
          30921492.0434,
          104557.979,
          59985.778,
          47738.3882,
          489749.02,
          34788.84,
          3135819.29,
          668987.15,
          366771.49,
          637943.41,
          395824.03,
          320606.44180000003,
          165649.76,
          15196473.45,
          1611.9,
          33122006.97,
          14468341.645,
          76455.75275,
          1453731.76,
          287153.11,
          56610.25305,
          68546.78275,
          138154.4725,
          35887.538,
          1458588.955,
          412074.015,
          1429160.37,
          172890.806,
          75738.52395,
          280380.38
         ],
         "yaxis": "y"
        },
        {
         "alignmentgroup": "True",
         "hovertemplate": "SECTOR=Ganadería<br>MUNICIPIO=%{x}<br>VALPROD=%{y}<extra></extra>",
         "legendgroup": "Ganadería",
         "marker": {
          "color": "#EF553B",
          "pattern": {
           "shape": ""
          }
         },
         "name": "Ganadería",
         "offsetgroup": "Ganadería",
         "orientation": "v",
         "showlegend": true,
         "textposition": "auto",
         "type": "bar",
         "x": [
          "ACONCHI",
          "AGUA PRIETA",
          "ALAMOS",
          "ALTAR",
          "ARIVECHI",
          "ARIZPE",
          "ATIL",
          "BACADÉHUACHI",
          "BACANORA",
          "BACERAC",
          "BACOACHI",
          "BANÁMICHI",
          "BAVISPE",
          "BAVIÁCORA",
          "BENITO JUÁREZ",
          "BENJAMÍN HILL",
          "BÁCUM",
          "CABORCA",
          "CAJEME",
          "CANANEA",
          "CARBÓ",
          "CUCURPE",
          "CUMPAS",
          "DIVISADEROS",
          "EMPALME",
          "ETCHOJOA",
          "FRONTERAS",
          "GENERAL PLUTARCO ELÍAS CALLES",
          "GRANADOS",
          "GUAYMAS",
          "HERMOSILLO",
          "HUACHINERA",
          "HUATABAMPO",
          "HUÁSABAS",
          "HUÉPAC",
          "IMURIS",
          "LA COLORADA",
          "MAGDALENA",
          "MAZATÁN",
          "MOCTEZUMA",
          "NACO",
          "NACOZARI DE GARCÍA",
          "NAVOJOA",
          "NOGALES",
          "NÁCORI CHICO",
          "ONAVAS",
          "OPODEPE",
          "OQUITOA",
          "PITIQUITO",
          "PUERTO PEÑASCO",
          "QUIRIEGO",
          "RAYÓN",
          "ROSARIO",
          "SAHUARIPA",
          "SAN FELIPE DE JESÚS",
          "SAN IGNACIO RÍO MUERTO",
          "SAN JAVIER",
          "SAN LUIS RÍO COLORADO",
          "SAN MIGUEL DE HORCASITAS",
          "SAN PEDRO DE LA CUEVA",
          "SANTA ANA",
          "SANTA CRUZ",
          "SOYOPA",
          "SUAQUI GRANDE",
          "SÁRIC",
          "TEPACHE",
          "TRINCHERAS",
          "TUBUTAMA",
          "URES",
          "VILLA HIDALGO",
          "VILLA PESQUEIRA",
          "YÉCORA"
         ],
         "xaxis": "x2",
         "y": [
          546390.472,
          1542674.215,
          3852828.326,
          1050635.656,
          620992.377,
          1618896.551,
          209524.107,
          460812.566,
          379789.895,
          452676.62,
          592188.347,
          751680.845,
          432685.89,
          1233678.478,
          2120326.269,
          583834.767,
          15026226.99,
          6662259.523,
          51913957.778,
          1157068.199,
          1587228.317,
          546668.2660000001,
          1207683.991,
          343021.249,
          1519757.889,
          3457796.214,
          1088321.415,
          283206.137,
          596092.428,
          7996476.748,
          77261001.614,
          515122.357,
          2014684.57,
          564769.573,
          389407.167,
          705285.835,
          1544968.842,
          1279846.607,
          560845.728,
          951008.702,
          297837.91000000003,
          429695.018,
          53784068.197,
          927826.961,
          1093373.696,
          243053.304,
          1024838.066,
          121731.60399999999,
          1155446.2280000001,
          8810.252,
          4287392.984,
          790157.499,
          4747903.368,
          1759492.48,
          102880.28,
          1051481.336,
          132665.468,
          342658.08400000003,
          718144.4029999999,
          621111.368,
          971009.0160000001,
          338682.109,
          537527.183,
          353818.421,
          503384.092,
          338574.947,
          746334.176,
          397780.983,
          4044274.121,
          626659.782,
          897753.303,
          1037908.356
         ],
         "yaxis": "y2"
        },
        {
         "alignmentgroup": "True",
         "hovertemplate": "SECTOR=Pesca<br>MUNICIPIO=%{x}<br>VALPROD=%{y}<extra></extra>",
         "legendgroup": "Pesca",
         "marker": {
          "color": "#00cc96",
          "pattern": {
           "shape": ""
          }
         },
         "name": "Pesca",
         "offsetgroup": "Pesca",
         "orientation": "v",
         "showlegend": true,
         "textposition": "auto",
         "type": "bar",
         "x": [
          "CABORCA",
          "CAJEME",
          "GUAYMAS",
          "HERMOSILLO",
          "HUATABAMPO",
          "PITIQUITO",
          "PUERTO PEÑASCO",
          "SAN LUIS RÍO COLORADO"
         ],
         "xaxis": "x3",
         "y": [
          1864.05,
          24987332.44127,
          19117026.34637,
          39237162.88002,
          12544361.15634,
          627655.79927,
          8431913.72981,
          2003421.12951
         ],
         "yaxis": "y3"
        }
       ],
       "layout": {
        "annotations": [
         {
          "font": {},
          "showarrow": false,
          "text": "SECTOR=Agricultura",
          "x": 0.15999999999999998,
          "xanchor": "center",
          "xref": "paper",
          "y": 1,
          "yanchor": "bottom",
          "yref": "paper"
         },
         {
          "font": {},
          "showarrow": false,
          "text": "SECTOR=Ganadería",
          "x": 0.49999999999999994,
          "xanchor": "center",
          "xref": "paper",
          "y": 1,
          "yanchor": "bottom",
          "yref": "paper"
         },
         {
          "font": {},
          "showarrow": false,
          "text": "SECTOR=Pesca",
          "x": 0.8399999999999999,
          "xanchor": "center",
          "xref": "paper",
          "y": 1,
          "yanchor": "bottom",
          "yref": "paper"
         }
        ],
        "barmode": "relative",
        "legend": {
         "title": {
          "text": "SECTOR"
         },
         "tracegroupgap": 0
        },
        "template": {
         "data": {
          "bar": [
           {
            "error_x": {
             "color": "#2a3f5f"
            },
            "error_y": {
             "color": "#2a3f5f"
            },
            "marker": {
             "line": {
              "color": "#E5ECF6",
              "width": 0.5
             },
             "pattern": {
              "fillmode": "overlay",
              "size": 10,
              "solidity": 0.2
             }
            },
            "type": "bar"
           }
          ],
          "barpolar": [
           {
            "marker": {
             "line": {
              "color": "#E5ECF6",
              "width": 0.5
             },
             "pattern": {
              "fillmode": "overlay",
              "size": 10,
              "solidity": 0.2
             }
            },
            "type": "barpolar"
           }
          ],
          "carpet": [
           {
            "aaxis": {
             "endlinecolor": "#2a3f5f",
             "gridcolor": "white",
             "linecolor": "white",
             "minorgridcolor": "white",
             "startlinecolor": "#2a3f5f"
            },
            "baxis": {
             "endlinecolor": "#2a3f5f",
             "gridcolor": "white",
             "linecolor": "white",
             "minorgridcolor": "white",
             "startlinecolor": "#2a3f5f"
            },
            "type": "carpet"
           }
          ],
          "choropleth": [
           {
            "colorbar": {
             "outlinewidth": 0,
             "ticks": ""
            },
            "type": "choropleth"
           }
          ],
          "contour": [
           {
            "colorbar": {
             "outlinewidth": 0,
             "ticks": ""
            },
            "colorscale": [
             [
              0,
              "#0d0887"
             ],
             [
              0.1111111111111111,
              "#46039f"
             ],
             [
              0.2222222222222222,
              "#7201a8"
             ],
             [
              0.3333333333333333,
              "#9c179e"
             ],
             [
              0.4444444444444444,
              "#bd3786"
             ],
             [
              0.5555555555555556,
              "#d8576b"
             ],
             [
              0.6666666666666666,
              "#ed7953"
             ],
             [
              0.7777777777777778,
              "#fb9f3a"
             ],
             [
              0.8888888888888888,
              "#fdca26"
             ],
             [
              1,
              "#f0f921"
             ]
            ],
            "type": "contour"
           }
          ],
          "contourcarpet": [
           {
            "colorbar": {
             "outlinewidth": 0,
             "ticks": ""
            },
            "type": "contourcarpet"
           }
          ],
          "heatmap": [
           {
            "colorbar": {
             "outlinewidth": 0,
             "ticks": ""
            },
            "colorscale": [
             [
              0,
              "#0d0887"
             ],
             [
              0.1111111111111111,
              "#46039f"
             ],
             [
              0.2222222222222222,
              "#7201a8"
             ],
             [
              0.3333333333333333,
              "#9c179e"
             ],
             [
              0.4444444444444444,
              "#bd3786"
             ],
             [
              0.5555555555555556,
              "#d8576b"
             ],
             [
              0.6666666666666666,
              "#ed7953"
             ],
             [
              0.7777777777777778,
              "#fb9f3a"
             ],
             [
              0.8888888888888888,
              "#fdca26"
             ],
             [
              1,
              "#f0f921"
             ]
            ],
            "type": "heatmap"
           }
          ],
          "heatmapgl": [
           {
            "colorbar": {
             "outlinewidth": 0,
             "ticks": ""
            },
            "colorscale": [
             [
              0,
              "#0d0887"
             ],
             [
              0.1111111111111111,
              "#46039f"
             ],
             [
              0.2222222222222222,
              "#7201a8"
             ],
             [
              0.3333333333333333,
              "#9c179e"
             ],
             [
              0.4444444444444444,
              "#bd3786"
             ],
             [
              0.5555555555555556,
              "#d8576b"
             ],
             [
              0.6666666666666666,
              "#ed7953"
             ],
             [
              0.7777777777777778,
              "#fb9f3a"
             ],
             [
              0.8888888888888888,
              "#fdca26"
             ],
             [
              1,
              "#f0f921"
             ]
            ],
            "type": "heatmapgl"
           }
          ],
          "histogram": [
           {
            "marker": {
             "pattern": {
              "fillmode": "overlay",
              "size": 10,
              "solidity": 0.2
             }
            },
            "type": "histogram"
           }
          ],
          "histogram2d": [
           {
            "colorbar": {
             "outlinewidth": 0,
             "ticks": ""
            },
            "colorscale": [
             [
              0,
              "#0d0887"
             ],
             [
              0.1111111111111111,
              "#46039f"
             ],
             [
              0.2222222222222222,
              "#7201a8"
             ],
             [
              0.3333333333333333,
              "#9c179e"
             ],
             [
              0.4444444444444444,
              "#bd3786"
             ],
             [
              0.5555555555555556,
              "#d8576b"
             ],
             [
              0.6666666666666666,
              "#ed7953"
             ],
             [
              0.7777777777777778,
              "#fb9f3a"
             ],
             [
              0.8888888888888888,
              "#fdca26"
             ],
             [
              1,
              "#f0f921"
             ]
            ],
            "type": "histogram2d"
           }
          ],
          "histogram2dcontour": [
           {
            "colorbar": {
             "outlinewidth": 0,
             "ticks": ""
            },
            "colorscale": [
             [
              0,
              "#0d0887"
             ],
             [
              0.1111111111111111,
              "#46039f"
             ],
             [
              0.2222222222222222,
              "#7201a8"
             ],
             [
              0.3333333333333333,
              "#9c179e"
             ],
             [
              0.4444444444444444,
              "#bd3786"
             ],
             [
              0.5555555555555556,
              "#d8576b"
             ],
             [
              0.6666666666666666,
              "#ed7953"
             ],
             [
              0.7777777777777778,
              "#fb9f3a"
             ],
             [
              0.8888888888888888,
              "#fdca26"
             ],
             [
              1,
              "#f0f921"
             ]
            ],
            "type": "histogram2dcontour"
           }
          ],
          "mesh3d": [
           {
            "colorbar": {
             "outlinewidth": 0,
             "ticks": ""
            },
            "type": "mesh3d"
           }
          ],
          "parcoords": [
           {
            "line": {
             "colorbar": {
              "outlinewidth": 0,
              "ticks": ""
             }
            },
            "type": "parcoords"
           }
          ],
          "pie": [
           {
            "automargin": true,
            "type": "pie"
           }
          ],
          "scatter": [
           {
            "fillpattern": {
             "fillmode": "overlay",
             "size": 10,
             "solidity": 0.2
            },
            "type": "scatter"
           }
          ],
          "scatter3d": [
           {
            "line": {
             "colorbar": {
              "outlinewidth": 0,
              "ticks": ""
             }
            },
            "marker": {
             "colorbar": {
              "outlinewidth": 0,
              "ticks": ""
             }
            },
            "type": "scatter3d"
           }
          ],
          "scattercarpet": [
           {
            "marker": {
             "colorbar": {
              "outlinewidth": 0,
              "ticks": ""
             }
            },
            "type": "scattercarpet"
           }
          ],
          "scattergeo": [
           {
            "marker": {
             "colorbar": {
              "outlinewidth": 0,
              "ticks": ""
             }
            },
            "type": "scattergeo"
           }
          ],
          "scattergl": [
           {
            "marker": {
             "colorbar": {
              "outlinewidth": 0,
              "ticks": ""
             }
            },
            "type": "scattergl"
           }
          ],
          "scattermapbox": [
           {
            "marker": {
             "colorbar": {
              "outlinewidth": 0,
              "ticks": ""
             }
            },
            "type": "scattermapbox"
           }
          ],
          "scatterpolar": [
           {
            "marker": {
             "colorbar": {
              "outlinewidth": 0,
              "ticks": ""
             }
            },
            "type": "scatterpolar"
           }
          ],
          "scatterpolargl": [
           {
            "marker": {
             "colorbar": {
              "outlinewidth": 0,
              "ticks": ""
             }
            },
            "type": "scatterpolargl"
           }
          ],
          "scatterternary": [
           {
            "marker": {
             "colorbar": {
              "outlinewidth": 0,
              "ticks": ""
             }
            },
            "type": "scatterternary"
           }
          ],
          "surface": [
           {
            "colorbar": {
             "outlinewidth": 0,
             "ticks": ""
            },
            "colorscale": [
             [
              0,
              "#0d0887"
             ],
             [
              0.1111111111111111,
              "#46039f"
             ],
             [
              0.2222222222222222,
              "#7201a8"
             ],
             [
              0.3333333333333333,
              "#9c179e"
             ],
             [
              0.4444444444444444,
              "#bd3786"
             ],
             [
              0.5555555555555556,
              "#d8576b"
             ],
             [
              0.6666666666666666,
              "#ed7953"
             ],
             [
              0.7777777777777778,
              "#fb9f3a"
             ],
             [
              0.8888888888888888,
              "#fdca26"
             ],
             [
              1,
              "#f0f921"
             ]
            ],
            "type": "surface"
           }
          ],
          "table": [
           {
            "cells": {
             "fill": {
              "color": "#EBF0F8"
             },
             "line": {
              "color": "white"
             }
            },
            "header": {
             "fill": {
              "color": "#C8D4E3"
             },
             "line": {
              "color": "white"
             }
            },
            "type": "table"
           }
          ]
         },
         "layout": {
          "annotationdefaults": {
           "arrowcolor": "#2a3f5f",
           "arrowhead": 0,
           "arrowwidth": 1
          },
          "autotypenumbers": "strict",
          "coloraxis": {
           "colorbar": {
            "outlinewidth": 0,
            "ticks": ""
           }
          },
          "colorscale": {
           "diverging": [
            [
             0,
             "#8e0152"
            ],
            [
             0.1,
             "#c51b7d"
            ],
            [
             0.2,
             "#de77ae"
            ],
            [
             0.3,
             "#f1b6da"
            ],
            [
             0.4,
             "#fde0ef"
            ],
            [
             0.5,
             "#f7f7f7"
            ],
            [
             0.6,
             "#e6f5d0"
            ],
            [
             0.7,
             "#b8e186"
            ],
            [
             0.8,
             "#7fbc41"
            ],
            [
             0.9,
             "#4d9221"
            ],
            [
             1,
             "#276419"
            ]
           ],
           "sequential": [
            [
             0,
             "#0d0887"
            ],
            [
             0.1111111111111111,
             "#46039f"
            ],
            [
             0.2222222222222222,
             "#7201a8"
            ],
            [
             0.3333333333333333,
             "#9c179e"
            ],
            [
             0.4444444444444444,
             "#bd3786"
            ],
            [
             0.5555555555555556,
             "#d8576b"
            ],
            [
             0.6666666666666666,
             "#ed7953"
            ],
            [
             0.7777777777777778,
             "#fb9f3a"
            ],
            [
             0.8888888888888888,
             "#fdca26"
            ],
            [
             1,
             "#f0f921"
            ]
           ],
           "sequentialminus": [
            [
             0,
             "#0d0887"
            ],
            [
             0.1111111111111111,
             "#46039f"
            ],
            [
             0.2222222222222222,
             "#7201a8"
            ],
            [
             0.3333333333333333,
             "#9c179e"
            ],
            [
             0.4444444444444444,
             "#bd3786"
            ],
            [
             0.5555555555555556,
             "#d8576b"
            ],
            [
             0.6666666666666666,
             "#ed7953"
            ],
            [
             0.7777777777777778,
             "#fb9f3a"
            ],
            [
             0.8888888888888888,
             "#fdca26"
            ],
            [
             1,
             "#f0f921"
            ]
           ]
          },
          "colorway": [
           "#636efa",
           "#EF553B",
           "#00cc96",
           "#ab63fa",
           "#FFA15A",
           "#19d3f3",
           "#FF6692",
           "#B6E880",
           "#FF97FF",
           "#FECB52"
          ],
          "font": {
           "color": "#2a3f5f"
          },
          "geo": {
           "bgcolor": "white",
           "lakecolor": "white",
           "landcolor": "#E5ECF6",
           "showlakes": true,
           "showland": true,
           "subunitcolor": "white"
          },
          "hoverlabel": {
           "align": "left"
          },
          "hovermode": "closest",
          "mapbox": {
           "style": "light"
          },
          "paper_bgcolor": "white",
          "plot_bgcolor": "#E5ECF6",
          "polar": {
           "angularaxis": {
            "gridcolor": "white",
            "linecolor": "white",
            "ticks": ""
           },
           "bgcolor": "#E5ECF6",
           "radialaxis": {
            "gridcolor": "white",
            "linecolor": "white",
            "ticks": ""
           }
          },
          "scene": {
           "xaxis": {
            "backgroundcolor": "#E5ECF6",
            "gridcolor": "white",
            "gridwidth": 2,
            "linecolor": "white",
            "showbackground": true,
            "ticks": "",
            "zerolinecolor": "white"
           },
           "yaxis": {
            "backgroundcolor": "#E5ECF6",
            "gridcolor": "white",
            "gridwidth": 2,
            "linecolor": "white",
            "showbackground": true,
            "ticks": "",
            "zerolinecolor": "white"
           },
           "zaxis": {
            "backgroundcolor": "#E5ECF6",
            "gridcolor": "white",
            "gridwidth": 2,
            "linecolor": "white",
            "showbackground": true,
            "ticks": "",
            "zerolinecolor": "white"
           }
          },
          "shapedefaults": {
           "line": {
            "color": "#2a3f5f"
           }
          },
          "ternary": {
           "aaxis": {
            "gridcolor": "white",
            "linecolor": "white",
            "ticks": ""
           },
           "baxis": {
            "gridcolor": "white",
            "linecolor": "white",
            "ticks": ""
           },
           "bgcolor": "#E5ECF6",
           "caxis": {
            "gridcolor": "white",
            "linecolor": "white",
            "ticks": ""
           }
          },
          "title": {
           "x": 0.05
          },
          "xaxis": {
           "automargin": true,
           "gridcolor": "white",
           "linecolor": "white",
           "ticks": "",
           "title": {
            "standoff": 15
           },
           "zerolinecolor": "white",
           "zerolinewidth": 2
          },
          "yaxis": {
           "automargin": true,
           "gridcolor": "white",
           "linecolor": "white",
           "ticks": "",
           "title": {
            "standoff": 15
           },
           "zerolinecolor": "white",
           "zerolinewidth": 2
          }
         }
        },
        "title": {
         "text": "Valor producido por sector económico"
        },
        "xaxis": {
         "anchor": "y",
         "categoryorder": "total descending",
         "domain": [
          0,
          0.31999999999999995
         ],
         "title": {
          "text": "MUNICIPIO"
         }
        },
        "xaxis2": {
         "anchor": "y2",
         "categoryorder": "total descending",
         "domain": [
          0.33999999999999997,
          0.6599999999999999
         ],
         "matches": "x",
         "title": {
          "text": "MUNICIPIO"
         }
        },
        "xaxis3": {
         "anchor": "y3",
         "categoryorder": "total descending",
         "domain": [
          0.6799999999999999,
          0.9999999999999999
         ],
         "matches": "x",
         "title": {
          "text": "MUNICIPIO"
         }
        },
        "yaxis": {
         "anchor": "x",
         "domain": [
          0,
          1
         ],
         "title": {
          "text": "VALPROD"
         }
        },
        "yaxis2": {
         "anchor": "x2",
         "domain": [
          0,
          1
         ],
         "matches": "y",
         "showticklabels": false
        },
        "yaxis3": {
         "anchor": "x3",
         "domain": [
          0,
          1
         ],
         "matches": "y",
         "showticklabels": false
        }
       }
      }
     },
     "metadata": {},
     "output_type": "display_data"
    }
   ],
   "source": [
    "# Graficamos de forma ordenada los municipios con mayor produccion y su sector economico\n",
    "fig = px.bar(agp_municipios, x='MUNICIPIO', y='VALPROD', color='SECTOR', title='Valor producido por sector económico', facet_col='SECTOR', facet_col_wrap=5)\n",
    "fig.update_xaxes(categoryorder='total descending')\n",
    "\n",
    "# Mostrar la figura\n",
    "fig.show()"
   ]
  },
  {
   "cell_type": "code",
   "execution_count": 22,
   "metadata": {},
   "outputs": [
    {
     "data": {
      "text/html": [
       "<div>\n",
       "<style scoped>\n",
       "    .dataframe tbody tr th:only-of-type {\n",
       "        vertical-align: middle;\n",
       "    }\n",
       "\n",
       "    .dataframe tbody tr th {\n",
       "        vertical-align: top;\n",
       "    }\n",
       "\n",
       "    .dataframe thead th {\n",
       "        text-align: right;\n",
       "    }\n",
       "</style>\n",
       "<table border=\"1\" class=\"dataframe\">\n",
       "  <thead>\n",
       "    <tr style=\"text-align: right;\">\n",
       "      <th></th>\n",
       "      <th>MUNICIPIO</th>\n",
       "      <th>SECTOR</th>\n",
       "      <th>PRODTON</th>\n",
       "      <th>VALPROD</th>\n",
       "    </tr>\n",
       "  </thead>\n",
       "  <tbody>\n",
       "    <tr>\n",
       "      <th>147</th>\n",
       "      <td>VILLA HIDALGO</td>\n",
       "      <td>Ganadería</td>\n",
       "      <td>11196.679</td>\n",
       "      <td>6.266598e+05</td>\n",
       "    </tr>\n",
       "    <tr>\n",
       "      <th>148</th>\n",
       "      <td>VILLA PESQUEIRA</td>\n",
       "      <td>Agricultura</td>\n",
       "      <td>146369.680</td>\n",
       "      <td>7.573852e+04</td>\n",
       "    </tr>\n",
       "    <tr>\n",
       "      <th>149</th>\n",
       "      <td>VILLA PESQUEIRA</td>\n",
       "      <td>Ganadería</td>\n",
       "      <td>44947.811</td>\n",
       "      <td>8.977533e+05</td>\n",
       "    </tr>\n",
       "    <tr>\n",
       "      <th>150</th>\n",
       "      <td>YÉCORA</td>\n",
       "      <td>Agricultura</td>\n",
       "      <td>57044.830</td>\n",
       "      <td>2.803804e+05</td>\n",
       "    </tr>\n",
       "    <tr>\n",
       "      <th>151</th>\n",
       "      <td>YÉCORA</td>\n",
       "      <td>Ganadería</td>\n",
       "      <td>19503.561</td>\n",
       "      <td>1.037908e+06</td>\n",
       "    </tr>\n",
       "  </tbody>\n",
       "</table>\n",
       "</div>"
      ],
      "text/plain": [
       "           MUNICIPIO       SECTOR     PRODTON       VALPROD\n",
       "147    VILLA HIDALGO    Ganadería   11196.679  6.266598e+05\n",
       "148  VILLA PESQUEIRA  Agricultura  146369.680  7.573852e+04\n",
       "149  VILLA PESQUEIRA    Ganadería   44947.811  8.977533e+05\n",
       "150           YÉCORA  Agricultura   57044.830  2.803804e+05\n",
       "151           YÉCORA    Ganadería   19503.561  1.037908e+06"
      ]
     },
     "execution_count": 22,
     "metadata": {},
     "output_type": "execute_result"
    }
   ],
   "source": [
    "agp_municipios.tail()"
   ]
  },
  {
   "cell_type": "code",
   "execution_count": null,
   "metadata": {},
   "outputs": [],
   "source": []
  }
 ],
 "metadata": {
  "kernelspec": {
   "display_name": "Python 3",
   "language": "python",
   "name": "python3"
  },
  "language_info": {
   "codemirror_mode": {
    "name": "ipython",
    "version": 3
   },
   "file_extension": ".py",
   "mimetype": "text/x-python",
   "name": "python",
   "nbconvert_exporter": "python",
   "pygments_lexer": "ipython3",
   "version": "3.10.11"
  }
 },
 "nbformat": 4,
 "nbformat_minor": 2
}
