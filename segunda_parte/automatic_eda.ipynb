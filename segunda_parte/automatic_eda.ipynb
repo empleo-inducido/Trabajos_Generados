{
 "cells": [
  {
   "cell_type": "markdown",
   "metadata": {},
   "source": [
    "# EDA automático"
   ]
  },
  {
   "cell_type": "code",
   "execution_count": 3,
   "metadata": {},
   "outputs": [],
   "source": [
    "#!pip install sweetviz\n",
    "#!pip install seaborn"
   ]
  },
  {
   "cell_type": "code",
   "execution_count": 4,
   "metadata": {},
   "outputs": [
    {
     "name": "stderr",
     "output_type": "stream",
     "text": [
      "/home/codespace/.python/current/lib/python3.10/site-packages/tqdm/auto.py:21: TqdmWarning: IProgress not found. Please update jupyter and ipywidgets. See https://ipywidgets.readthedocs.io/en/stable/user_install.html\n",
      "  from .autonotebook import tqdm as notebook_tqdm\n"
     ]
    }
   ],
   "source": [
    "# Importar librerías necesarias\n",
    "import sweetviz as sv\n",
    "import pandas as pd\n",
    "import seaborn as sns\n",
    "import matplotlib.pyplot as plt\n",
    "import numpy as np"
   ]
  },
  {
   "cell_type": "markdown",
   "metadata": {},
   "source": [
    "## 1. Auto EDA de tidy_agricultura_ganadería_pesca"
   ]
  },
  {
   "cell_type": "code",
   "execution_count": 5,
   "metadata": {},
   "outputs": [],
   "source": [
    "# Cargar tus datos\n",
    "agp_df = pd.read_csv('../data/tidy_agricultura_ganaderia_pesca.csv', parse_dates=['ANO'])\n",
    "imss_df = pd.read_csv('../data/tidy_imss.csv', parse_dates=['año'])\n"
   ]
  },
  {
   "cell_type": "code",
   "execution_count": 6,
   "metadata": {},
   "outputs": [
    {
     "name": "stderr",
     "output_type": "stream",
     "text": [
      "Done! Use 'show' commands to display/save.   |██████████| [100%]   00:00 -> (00:00 left)\n"
     ]
    },
    {
     "name": "stdout",
     "output_type": "stream",
     "text": [
      "Report informe_eda_AGP.html was generated! NOTEBOOK/COLAB USERS: the web browser MAY not pop up, regardless, the report IS saved in your notebook/colab files.\n"
     ]
    }
   ],
   "source": [
    "# Crear el informe Sweetviz\n",
    "informe_eda_AGP = sv.analyze(agp_df)\n",
    "\n",
    "# Mostrar el informe en el navegador\n",
    "informe_eda_AGP.show_html('informe_eda_AGP.html')"
   ]
  },
  {
   "cell_type": "markdown",
   "metadata": {},
   "source": [
    "## 2. Auto EDA de tidy_imss"
   ]
  },
  {
   "cell_type": "code",
   "execution_count": 7,
   "metadata": {},
   "outputs": [
    {
     "name": "stderr",
     "output_type": "stream",
     "text": [
      "Done! Use 'show' commands to display/save.   |██████████| [100%]   00:00 -> (00:00 left)\n"
     ]
    },
    {
     "name": "stdout",
     "output_type": "stream",
     "text": [
      "Report informe_eda_IMSS.html was generated! NOTEBOOK/COLAB USERS: the web browser MAY not pop up, regardless, the report IS saved in your notebook/colab files.\n"
     ]
    }
   ],
   "source": [
    "# Crear el informe Sweetviz\n",
    "informe_eda_imss = sv.analyze(imss_df)\n",
    "\n",
    "# Mostrar el informe en el navegador\n",
    "informe_eda_imss.show_html('informe_eda_IMSS.html')"
   ]
  },
  {
   "cell_type": "markdown",
   "metadata": {},
   "source": [
    "## 3. Datos faltantes"
   ]
  },
  {
   "cell_type": "markdown",
   "metadata": {},
   "source": [
    "De los auto EDA podemos notar que: \n",
    "- Para el caso de la tabla de agricultura/ganadería/pesca no tenemos niungún dato faltante.\n",
    "- En la tabla de empleos generados del IMSS tenemos 660 datos faltantes (menos del 1% de los datos) en la columna de rango salarial.\n",
    "\n",
    "En esta sección exploraremos los datos faltantes de IMSS."
   ]
  },
  {
   "cell_type": "code",
   "execution_count": 8,
   "metadata": {},
   "outputs": [
    {
     "data": {
      "text/html": [
       "<div>\n",
       "<style scoped>\n",
       "    .dataframe tbody tr th:only-of-type {\n",
       "        vertical-align: middle;\n",
       "    }\n",
       "\n",
       "    .dataframe tbody tr th {\n",
       "        vertical-align: top;\n",
       "    }\n",
       "\n",
       "    .dataframe thead th {\n",
       "        text-align: right;\n",
       "    }\n",
       "</style>\n",
       "<table border=\"1\" class=\"dataframe\">\n",
       "  <thead>\n",
       "    <tr style=\"text-align: right;\">\n",
       "      <th></th>\n",
       "      <th>rango_salarial</th>\n",
       "      <th>asegurados</th>\n",
       "      <th>no_trabajadores</th>\n",
       "      <th>año</th>\n",
       "      <th>mes</th>\n",
       "      <th>fecha</th>\n",
       "      <th>municipio</th>\n",
       "      <th>sector_economico_2</th>\n",
       "      <th>sector_economico_4</th>\n",
       "      <th>tamaño_patronal</th>\n",
       "      <th>sexo</th>\n",
       "      <th>rango_edad</th>\n",
       "      <th>rango_salarial_descripcion</th>\n",
       "    </tr>\n",
       "  </thead>\n",
       "  <tbody>\n",
       "    <tr>\n",
       "      <th>0</th>\n",
       "      <td>W2</td>\n",
       "      <td>6</td>\n",
       "      <td>0</td>\n",
       "      <td>2006-01-01</td>\n",
       "      <td>1</td>\n",
       "      <td>2006-01-01</td>\n",
       "      <td>SAN LUIS RÍO COLORADO</td>\n",
       "      <td>Agricultura</td>\n",
       "      <td>Agricultura</td>\n",
       "      <td>Con un puesto de trabajo</td>\n",
       "      <td>Hombre</td>\n",
       "      <td>Mayor o igual a 55 y menor a 60 años de edad</td>\n",
       "      <td>mayor a 1 y hasta 2 veces el salario mínimo</td>\n",
       "    </tr>\n",
       "    <tr>\n",
       "      <th>1</th>\n",
       "      <td>W2</td>\n",
       "      <td>6</td>\n",
       "      <td>0</td>\n",
       "      <td>2006-01-01</td>\n",
       "      <td>1</td>\n",
       "      <td>2006-01-01</td>\n",
       "      <td>SAN LUIS RÍO COLORADO</td>\n",
       "      <td>Agricultura</td>\n",
       "      <td>Agricultura</td>\n",
       "      <td>Con un puesto de trabajo</td>\n",
       "      <td>Hombre</td>\n",
       "      <td>Mayor o igual a 60 y menor a 65 años de edad</td>\n",
       "      <td>mayor a 1 y hasta 2 veces el salario mínimo</td>\n",
       "    </tr>\n",
       "    <tr>\n",
       "      <th>2</th>\n",
       "      <td>W2</td>\n",
       "      <td>3</td>\n",
       "      <td>0</td>\n",
       "      <td>2006-01-01</td>\n",
       "      <td>1</td>\n",
       "      <td>2006-01-01</td>\n",
       "      <td>SAN LUIS RÍO COLORADO</td>\n",
       "      <td>Agricultura</td>\n",
       "      <td>Agricultura</td>\n",
       "      <td>Con un puesto de trabajo</td>\n",
       "      <td>Hombre</td>\n",
       "      <td>Mayor o igual a 70 y menor a 75 años de edad</td>\n",
       "      <td>mayor a 1 y hasta 2 veces el salario mínimo</td>\n",
       "    </tr>\n",
       "    <tr>\n",
       "      <th>3</th>\n",
       "      <td>W2</td>\n",
       "      <td>6</td>\n",
       "      <td>0</td>\n",
       "      <td>2006-01-01</td>\n",
       "      <td>1</td>\n",
       "      <td>2006-01-01</td>\n",
       "      <td>SAN LUIS RÍO COLORADO</td>\n",
       "      <td>Agricultura</td>\n",
       "      <td>Agricultura</td>\n",
       "      <td>Con un puesto de trabajo</td>\n",
       "      <td>Hombre</td>\n",
       "      <td>Mayor o igual a 30 y menor a 35 años de edad</td>\n",
       "      <td>mayor a 1 y hasta 2 veces el salario mínimo</td>\n",
       "    </tr>\n",
       "    <tr>\n",
       "      <th>4</th>\n",
       "      <td>W2</td>\n",
       "      <td>5</td>\n",
       "      <td>0</td>\n",
       "      <td>2006-01-01</td>\n",
       "      <td>1</td>\n",
       "      <td>2006-01-01</td>\n",
       "      <td>SAN LUIS RÍO COLORADO</td>\n",
       "      <td>Agricultura</td>\n",
       "      <td>Agricultura</td>\n",
       "      <td>Con un puesto de trabajo</td>\n",
       "      <td>Hombre</td>\n",
       "      <td>Mayor o igual a 35 y menor a 40 años de edad</td>\n",
       "      <td>mayor a 1 y hasta 2 veces el salario mínimo</td>\n",
       "    </tr>\n",
       "  </tbody>\n",
       "</table>\n",
       "</div>"
      ],
      "text/plain": [
       "  rango_salarial  asegurados  no_trabajadores        año  mes       fecha  \\\n",
       "0             W2           6                0 2006-01-01    1  2006-01-01   \n",
       "1             W2           6                0 2006-01-01    1  2006-01-01   \n",
       "2             W2           3                0 2006-01-01    1  2006-01-01   \n",
       "3             W2           6                0 2006-01-01    1  2006-01-01   \n",
       "4             W2           5                0 2006-01-01    1  2006-01-01   \n",
       "\n",
       "               municipio sector_economico_2 sector_economico_4  \\\n",
       "0  SAN LUIS RÍO COLORADO        Agricultura        Agricultura   \n",
       "1  SAN LUIS RÍO COLORADO        Agricultura        Agricultura   \n",
       "2  SAN LUIS RÍO COLORADO        Agricultura        Agricultura   \n",
       "3  SAN LUIS RÍO COLORADO        Agricultura        Agricultura   \n",
       "4  SAN LUIS RÍO COLORADO        Agricultura        Agricultura   \n",
       "\n",
       "            tamaño_patronal    sexo  \\\n",
       "0  Con un puesto de trabajo  Hombre   \n",
       "1  Con un puesto de trabajo  Hombre   \n",
       "2  Con un puesto de trabajo  Hombre   \n",
       "3  Con un puesto de trabajo  Hombre   \n",
       "4  Con un puesto de trabajo  Hombre   \n",
       "\n",
       "                                     rango_edad  \\\n",
       "0  Mayor o igual a 55 y menor a 60 años de edad   \n",
       "1  Mayor o igual a 60 y menor a 65 años de edad   \n",
       "2  Mayor o igual a 70 y menor a 75 años de edad   \n",
       "3  Mayor o igual a 30 y menor a 35 años de edad   \n",
       "4  Mayor o igual a 35 y menor a 40 años de edad   \n",
       "\n",
       "                     rango_salarial_descripcion  \n",
       "0   mayor a 1 y hasta 2 veces el salario mínimo  \n",
       "1   mayor a 1 y hasta 2 veces el salario mínimo  \n",
       "2   mayor a 1 y hasta 2 veces el salario mínimo  \n",
       "3   mayor a 1 y hasta 2 veces el salario mínimo  \n",
       "4   mayor a 1 y hasta 2 veces el salario mínimo  "
      ]
     },
     "execution_count": 8,
     "metadata": {},
     "output_type": "execute_result"
    }
   ],
   "source": [
    "# Explorar el dataframe\n",
    "imss_df.head()"
   ]
  },
  {
   "cell_type": "code",
   "execution_count": 9,
   "metadata": {},
   "outputs": [
    {
     "data": {
      "text/plain": [
       "rango_salarial\n",
       "W2     571465\n",
       "W3     299911\n",
       "W4     188141\n",
       "W5     127326\n",
       "W6      87671\n",
       "W7      64509\n",
       "W8      48735\n",
       "W9      34964\n",
       "W10     26323\n",
       "W11     19930\n",
       "W12     15881\n",
       "W13     12673\n",
       "W14     11608\n",
       "W25     10113\n",
       "W16      9058\n",
       "W15      8030\n",
       "W18      5868\n",
       "W17      5249\n",
       "W1       4277\n",
       "W21      3997\n",
       "W19      3712\n",
       "W20      3562\n",
       "NaN      3531\n",
       "W24      3456\n",
       "W23      3415\n",
       "W22      2854\n",
       "Name: count, dtype: int64"
      ]
     },
     "execution_count": 9,
     "metadata": {},
     "output_type": "execute_result"
    }
   ],
   "source": [
    "# Conteo de valores de rango salarial\n",
    "conteo_por_categoria = imss_df['rango_salarial'].value_counts(dropna=False)\n",
    "conteo_por_categoria"
   ]
  },
  {
   "cell_type": "code",
   "execution_count": 10,
   "metadata": {},
   "outputs": [
    {
     "data": {
      "text/plain": [
       "3531"
      ]
     },
     "execution_count": 10,
     "metadata": {},
     "output_type": "execute_result"
    }
   ],
   "source": [
    "# Contar datos faltantes\n",
    "imss_df['rango_salarial'].isna().sum()"
   ]
  },
  {
   "cell_type": "code",
   "execution_count": 11,
   "metadata": {},
   "outputs": [
    {
     "data": {
      "image/png": "[encoded data removed]",
      "text/plain": [
       "<Figure size 1400x600 with 1 Axes>"
      ]
     },
     "metadata": {},
     "output_type": "display_data"
    }
   ],
   "source": [
    "# Visualizar la frecuencia de cada categoría\n",
    "# Ordenamos las categorías por el conteo de mayor a menor\n",
    "orden_categorias = conteo_por_categoria.index\n",
    "\n",
    "# Creamos el gráfico de barras con el orden especificado\n",
    "sns.set_theme()\n",
    "plt.figure(figsize=(14, 6))  # Ajustar el tamaño \n",
    "ax = sns.countplot(x='rango_salarial', data=imss_df, order=orden_categorias)\n",
    "plt.xticks(rotation=90)  # Rotar las etiquetas del eje x \n",
    "\n",
    "plt.show()"
   ]
  }
 ],
 "metadata": {
  "kernelspec": {
   "display_name": ".venv",
   "language": "python",
   "name": "python3"
  },
  "language_info": {
   "codemirror_mode": {
    "name": "ipython",
    "version": 3
   },
   "file_extension": ".py",
   "mimetype": "text/x-python",
   "name": "python",
   "nbconvert_exporter": "python",
   "pygments_lexer": "ipython3",
   "version": "3.10.13"
  }
 },
 "nbformat": 4,
 "nbformat_minor": 2
}
