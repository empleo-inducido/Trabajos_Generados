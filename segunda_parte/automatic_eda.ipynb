{
 "cells": [
  {
   "cell_type": "markdown",
   "metadata": {},
   "source": [
    "# EDA automático"
   ]
  },
  {
   "cell_type": "code",
   "execution_count": 1,
   "metadata": {},
   "outputs": [],
   "source": [
    "#!pip install sweetviz\n",
    "#!pip install seaborn"
   ]
  },
  {
   "cell_type": "code",
   "execution_count": 2,
   "metadata": {},
   "outputs": [
    {
     "name": "stderr",
     "output_type": "stream",
     "text": [
      "/Users/estephaniapivacalcaraz/Desktop/trabajos_generados - entrega_2/.venv/lib/python3.9/site-packages/tqdm/auto.py:21: TqdmWarning: IProgress not found. Please update jupyter and ipywidgets. See https://ipywidgets.readthedocs.io/en/stable/user_install.html\n",
      "  from .autonotebook import tqdm as notebook_tqdm\n"
     ]
    }
   ],
   "source": [
    "# Importar librerías necesarias\n",
    "import sweetviz as sv\n",
    "import pandas as pd\n",
    "import seaborn as sns\n",
    "import matplotlib.pyplot as plt\n",
    "import numpy as np"
   ]
  },
  {
   "cell_type": "markdown",
   "metadata": {},
   "source": [
    "## 1. Auto EDA de tidy_agricultura_ganadería_pesca"
   ]
  },
  {
   "cell_type": "code",
   "execution_count": 4,
   "metadata": {},
   "outputs": [],
   "source": [
    "# Cargar tus datos\n",
    "agp_df = pd.read_csv('../data/tidy_agricultura_ganaderia_pesca.csv', parse_dates=['ANO'])\n",
    "imss_df = pd.read_csv('../data/tidy_imss.csv', parse_dates=['año'])\n"
   ]
  },
  {
   "cell_type": "code",
   "execution_count": 72,
   "metadata": {},
   "outputs": [
    {
     "name": "stderr",
     "output_type": "stream",
     "text": [
      "Feature: ANO                                 |█         | [ 11%]   00:00 -> (00:00 left)/Users/estephaniapivacalcaraz/Desktop/trabajos_generados - entrega_2/.venv/lib/python3.9/site-packages/sweetviz/from_profiling_pandas.py:65: FutureWarning: is_categorical_dtype is deprecated and will be removed in a future version. Use isinstance(dtype, CategoricalDtype) instead\n",
      "  if pd.api.types.is_categorical_dtype(keys):\n",
      "Feature: SECTOR                              |██▏       | [ 22%]   00:00 -> (00:00 left)/Users/estephaniapivacalcaraz/Desktop/trabajos_generados - entrega_2/.venv/lib/python3.9/site-packages/sweetviz/from_profiling_pandas.py:65: FutureWarning: is_categorical_dtype is deprecated and will be removed in a future version. Use isinstance(dtype, CategoricalDtype) instead\n",
      "  if pd.api.types.is_categorical_dtype(keys):\n",
      "Feature: ESPECIE_CULTIVO                     |█████▌    | [ 56%]   00:01 -> (00:01 left)/Users/estephaniapivacalcaraz/Desktop/trabajos_generados - entrega_2/.venv/lib/python3.9/site-packages/sweetviz/from_profiling_pandas.py:65: FutureWarning: is_categorical_dtype is deprecated and will be removed in a future version. Use isinstance(dtype, CategoricalDtype) instead\n",
      "  if pd.api.types.is_categorical_dtype(keys):\n",
      "Feature: TIPO                                |██████▋   | [ 67%]   00:01 -> (00:00 left)/Users/estephaniapivacalcaraz/Desktop/trabajos_generados - entrega_2/.venv/lib/python3.9/site-packages/sweetviz/from_profiling_pandas.py:65: FutureWarning: is_categorical_dtype is deprecated and will be removed in a future version. Use isinstance(dtype, CategoricalDtype) instead\n",
      "  if pd.api.types.is_categorical_dtype(keys):\n",
      "Done! Use 'show' commands to display/save.   |██████████| [100%]   00:00 -> (00:00 left)\n"
     ]
    },
    {
     "name": "stdout",
     "output_type": "stream",
     "text": [
      "Report informe_eda_AGP.html was generated! NOTEBOOK/COLAB USERS: the web browser MAY not pop up, regardless, the report IS saved in your notebook/colab files.\n"
     ]
    }
   ],
   "source": [
    "# Crear el informe Sweetviz\n",
    "informe_eda_AGP = sv.analyze(agp_df)\n",
    "\n",
    "# Mostrar el informe en el navegador\n",
    "informe_eda_AGP.show_html('informe_eda_AGP.html')"
   ]
  },
  {
   "cell_type": "markdown",
   "metadata": {},
   "source": [
    "## 2. Auto EDA de tidy_imss"
   ]
  },
  {
   "cell_type": "code",
   "execution_count": 73,
   "metadata": {},
   "outputs": [
    {
     "name": "stderr",
     "output_type": "stream",
     "text": [
      "Feature: rango_salarial                      |▋         | [  7%]   00:02 -> (00:28 left)/Users/estephaniapivacalcaraz/Desktop/trabajos_generados - entrega_2/.venv/lib/python3.9/site-packages/sweetviz/from_profiling_pandas.py:65: FutureWarning: is_categorical_dtype is deprecated and will be removed in a future version. Use isinstance(dtype, CategoricalDtype) instead\n",
      "  if pd.api.types.is_categorical_dtype(keys):\n",
      "Feature: año                                 |██▋       | [ 27%]   00:03 -> (00:05 left)/Users/estephaniapivacalcaraz/Desktop/trabajos_generados - entrega_2/.venv/lib/python3.9/site-packages/sweetviz/from_profiling_pandas.py:65: FutureWarning: is_categorical_dtype is deprecated and will be removed in a future version. Use isinstance(dtype, CategoricalDtype) instead\n",
      "  if pd.api.types.is_categorical_dtype(keys):\n",
      "Feature: fecha                               |████      | [ 40%]   00:03 -> (00:04 left)/Users/estephaniapivacalcaraz/Desktop/trabajos_generados - entrega_2/.venv/lib/python3.9/site-packages/sweetviz/from_profiling_pandas.py:65: FutureWarning: is_categorical_dtype is deprecated and will be removed in a future version. Use isinstance(dtype, CategoricalDtype) instead\n",
      "  if pd.api.types.is_categorical_dtype(keys):\n",
      "Feature: municipio                           |████▋     | [ 47%]   00:04 -> (00:03 left)/Users/estephaniapivacalcaraz/Desktop/trabajos_generados - entrega_2/.venv/lib/python3.9/site-packages/sweetviz/from_profiling_pandas.py:65: FutureWarning: is_categorical_dtype is deprecated and will be removed in a future version. Use isinstance(dtype, CategoricalDtype) instead\n",
      "  if pd.api.types.is_categorical_dtype(keys):\n",
      "Feature: sector_economico_1                  |█████▎    | [ 53%]   00:04 -> (00:02 left)/Users/estephaniapivacalcaraz/Desktop/trabajos_generados - entrega_2/.venv/lib/python3.9/site-packages/sweetviz/from_profiling_pandas.py:65: FutureWarning: is_categorical_dtype is deprecated and will be removed in a future version. Use isinstance(dtype, CategoricalDtype) instead\n",
      "  if pd.api.types.is_categorical_dtype(keys):\n",
      "Feature: sector_economico_2                  |██████    | [ 60%]   00:04 -> (00:01 left)/Users/estephaniapivacalcaraz/Desktop/trabajos_generados - entrega_2/.venv/lib/python3.9/site-packages/sweetviz/from_profiling_pandas.py:65: FutureWarning: is_categorical_dtype is deprecated and will be removed in a future version. Use isinstance(dtype, CategoricalDtype) instead\n",
      "  if pd.api.types.is_categorical_dtype(keys):\n",
      "Feature: sector_economico_4                  |██████▋   | [ 67%]   00:04 -> (00:01 left)/Users/estephaniapivacalcaraz/Desktop/trabajos_generados - entrega_2/.venv/lib/python3.9/site-packages/sweetviz/from_profiling_pandas.py:65: FutureWarning: is_categorical_dtype is deprecated and will be removed in a future version. Use isinstance(dtype, CategoricalDtype) instead\n",
      "  if pd.api.types.is_categorical_dtype(keys):\n",
      "Feature: tamaño_patronal                     |███████▎  | [ 73%]   00:04 -> (00:01 left)/Users/estephaniapivacalcaraz/Desktop/trabajos_generados - entrega_2/.venv/lib/python3.9/site-packages/sweetviz/from_profiling_pandas.py:65: FutureWarning: is_categorical_dtype is deprecated and will be removed in a future version. Use isinstance(dtype, CategoricalDtype) instead\n",
      "  if pd.api.types.is_categorical_dtype(keys):\n",
      "Feature: sexo                                |████████  | [ 80%]   00:05 -> (00:00 left)/Users/estephaniapivacalcaraz/Desktop/trabajos_generados - entrega_2/.venv/lib/python3.9/site-packages/sweetviz/from_profiling_pandas.py:65: FutureWarning: is_categorical_dtype is deprecated and will be removed in a future version. Use isinstance(dtype, CategoricalDtype) instead\n",
      "  if pd.api.types.is_categorical_dtype(keys):\n",
      "Feature: rango_edad                          |████████▋ | [ 87%]   00:05 -> (00:00 left)/Users/estephaniapivacalcaraz/Desktop/trabajos_generados - entrega_2/.venv/lib/python3.9/site-packages/sweetviz/from_profiling_pandas.py:65: FutureWarning: is_categorical_dtype is deprecated and will be removed in a future version. Use isinstance(dtype, CategoricalDtype) instead\n",
      "  if pd.api.types.is_categorical_dtype(keys):\n",
      "Feature: rango_salarial_descripcion          |█████████▎| [ 93%]   00:05 -> (00:00 left)/Users/estephaniapivacalcaraz/Desktop/trabajos_generados - entrega_2/.venv/lib/python3.9/site-packages/sweetviz/from_profiling_pandas.py:65: FutureWarning: is_categorical_dtype is deprecated and will be removed in a future version. Use isinstance(dtype, CategoricalDtype) instead\n",
      "  if pd.api.types.is_categorical_dtype(keys):\n",
      "Done! Use 'show' commands to display/save.   |██████████| [100%]   00:00 -> (00:00 left)\n"
     ]
    },
    {
     "name": "stdout",
     "output_type": "stream",
     "text": [
      "Report informe_eda_IMSS.html was generated! NOTEBOOK/COLAB USERS: the web browser MAY not pop up, regardless, the report IS saved in your notebook/colab files.\n"
     ]
    }
   ],
   "source": [
    "# Crear el informe Sweetviz\n",
    "informe_eda_imss = sv.analyze(imss_df)\n",
    "\n",
    "# Mostrar el informe en el navegador\n",
    "informe_eda_imss.show_html('informe_eda_IMSS.html')"
   ]
  },
  {
   "cell_type": "markdown",
   "metadata": {},
   "source": [
    "## 3. Datos faltantes"
   ]
  },
  {
   "cell_type": "markdown",
   "metadata": {},
   "source": [
    "De los auto EDA podemos notar que: \n",
    "- Para el caso de la tabla de agricultura/ganadería/pesca no tenemos niungún dato faltante.\n",
    "- En la tabla de empleos generados del IMSS tenemos 660 datos faltantes (menos del 1% de los datos) en la columna de rango salarial.\n",
    "\n",
    "En esta sección exploraremos los datos faltantes de IMSS."
   ]
  },
  {
   "cell_type": "code",
   "execution_count": 83,
   "metadata": {},
   "outputs": [
    {
     "data": {
      "text/html": [
       "<div>\n",
       "<style scoped>\n",
       "    .dataframe tbody tr th:only-of-type {\n",
       "        vertical-align: middle;\n",
       "    }\n",
       "\n",
       "    .dataframe tbody tr th {\n",
       "        vertical-align: top;\n",
       "    }\n",
       "\n",
       "    .dataframe thead th {\n",
       "        text-align: right;\n",
       "    }\n",
       "</style>\n",
       "<table border=\"1\" class=\"dataframe\">\n",
       "  <thead>\n",
       "    <tr style=\"text-align: right;\">\n",
       "      <th></th>\n",
       "      <th>rango_salarial</th>\n",
       "      <th>asegurados</th>\n",
       "      <th>no_trabajadores</th>\n",
       "      <th>año</th>\n",
       "      <th>mes</th>\n",
       "      <th>fecha</th>\n",
       "      <th>municipio</th>\n",
       "      <th>sector_economico_1</th>\n",
       "      <th>sector_economico_2</th>\n",
       "      <th>sector_economico_4</th>\n",
       "      <th>tamaño_patronal</th>\n",
       "      <th>sexo</th>\n",
       "      <th>rango_edad</th>\n",
       "      <th>rango_salarial_descripcion</th>\n",
       "    </tr>\n",
       "  </thead>\n",
       "  <tbody>\n",
       "    <tr>\n",
       "      <th>0</th>\n",
       "      <td>W2</td>\n",
       "      <td>4</td>\n",
       "      <td>0</td>\n",
       "      <td>2018-01-01</td>\n",
       "      <td>1</td>\n",
       "      <td>2018-01-01</td>\n",
       "      <td>SAN LUIS RÍO COLORADO</td>\n",
       "      <td>Agricultura, ganadería, silvicultura, pesca y ...</td>\n",
       "      <td>Agricultura</td>\n",
       "      <td>Agricultura</td>\n",
       "      <td>Con un puesto de trabajo</td>\n",
       "      <td>Hombre</td>\n",
       "      <td>Mayor o igual a 55 y menor a 60 años de edad</td>\n",
       "      <td>mayor a 1 y hasta 2 veces el salario mínimo</td>\n",
       "    </tr>\n",
       "    <tr>\n",
       "      <th>1</th>\n",
       "      <td>W2</td>\n",
       "      <td>4</td>\n",
       "      <td>0</td>\n",
       "      <td>2018-01-01</td>\n",
       "      <td>1</td>\n",
       "      <td>2018-01-01</td>\n",
       "      <td>SAN LUIS RÍO COLORADO</td>\n",
       "      <td>Agricultura, ganadería, silvicultura, pesca y ...</td>\n",
       "      <td>Agricultura</td>\n",
       "      <td>Agricultura</td>\n",
       "      <td>Con un puesto de trabajo</td>\n",
       "      <td>Hombre</td>\n",
       "      <td>Mayor o igual a 60 y menor a 65 años de edad</td>\n",
       "      <td>mayor a 1 y hasta 2 veces el salario mínimo</td>\n",
       "    </tr>\n",
       "    <tr>\n",
       "      <th>2</th>\n",
       "      <td>W7</td>\n",
       "      <td>1</td>\n",
       "      <td>0</td>\n",
       "      <td>2018-01-01</td>\n",
       "      <td>1</td>\n",
       "      <td>2018-01-01</td>\n",
       "      <td>SAN LUIS RÍO COLORADO</td>\n",
       "      <td>Agricultura, ganadería, silvicultura, pesca y ...</td>\n",
       "      <td>Agricultura</td>\n",
       "      <td>Agricultura</td>\n",
       "      <td>Con un puesto de trabajo</td>\n",
       "      <td>Hombre</td>\n",
       "      <td>Mayor o igual a 60 y menor a 65 años de edad</td>\n",
       "      <td>mayor a 6 y hasta 7 veces el salario mínimo</td>\n",
       "    </tr>\n",
       "    <tr>\n",
       "      <th>3</th>\n",
       "      <td>W2</td>\n",
       "      <td>3</td>\n",
       "      <td>0</td>\n",
       "      <td>2018-01-01</td>\n",
       "      <td>1</td>\n",
       "      <td>2018-01-01</td>\n",
       "      <td>SAN LUIS RÍO COLORADO</td>\n",
       "      <td>Agricultura, ganadería, silvicultura, pesca y ...</td>\n",
       "      <td>Agricultura</td>\n",
       "      <td>Agricultura</td>\n",
       "      <td>Con un puesto de trabajo</td>\n",
       "      <td>Hombre</td>\n",
       "      <td>Mayor o igual a 65 y menor a 70 años de edad</td>\n",
       "      <td>mayor a 1 y hasta 2 veces el salario mínimo</td>\n",
       "    </tr>\n",
       "    <tr>\n",
       "      <th>4</th>\n",
       "      <td>W14</td>\n",
       "      <td>1</td>\n",
       "      <td>0</td>\n",
       "      <td>2018-01-01</td>\n",
       "      <td>1</td>\n",
       "      <td>2018-01-01</td>\n",
       "      <td>SAN LUIS RÍO COLORADO</td>\n",
       "      <td>Agricultura, ganadería, silvicultura, pesca y ...</td>\n",
       "      <td>Agricultura</td>\n",
       "      <td>Agricultura</td>\n",
       "      <td>Con un puesto de trabajo</td>\n",
       "      <td>Hombre</td>\n",
       "      <td>Mayor o igual a 70 y menor a 75 años de edad</td>\n",
       "      <td>mayor a 13 y hasta 14 veces el salario mínimo</td>\n",
       "    </tr>\n",
       "  </tbody>\n",
       "</table>\n",
       "</div>"
      ],
      "text/plain": [
       "  rango_salarial  asegurados  no_trabajadores        año  mes       fecha  \\\n",
       "0             W2           4                0 2018-01-01    1  2018-01-01   \n",
       "1             W2           4                0 2018-01-01    1  2018-01-01   \n",
       "2             W7           1                0 2018-01-01    1  2018-01-01   \n",
       "3             W2           3                0 2018-01-01    1  2018-01-01   \n",
       "4            W14           1                0 2018-01-01    1  2018-01-01   \n",
       "\n",
       "               municipio                                 sector_economico_1  \\\n",
       "0  SAN LUIS RÍO COLORADO  Agricultura, ganadería, silvicultura, pesca y ...   \n",
       "1  SAN LUIS RÍO COLORADO  Agricultura, ganadería, silvicultura, pesca y ...   \n",
       "2  SAN LUIS RÍO COLORADO  Agricultura, ganadería, silvicultura, pesca y ...   \n",
       "3  SAN LUIS RÍO COLORADO  Agricultura, ganadería, silvicultura, pesca y ...   \n",
       "4  SAN LUIS RÍO COLORADO  Agricultura, ganadería, silvicultura, pesca y ...   \n",
       "\n",
       "  sector_economico_2 sector_economico_4           tamaño_patronal    sexo  \\\n",
       "0        Agricultura        Agricultura  Con un puesto de trabajo  Hombre   \n",
       "1        Agricultura        Agricultura  Con un puesto de trabajo  Hombre   \n",
       "2        Agricultura        Agricultura  Con un puesto de trabajo  Hombre   \n",
       "3        Agricultura        Agricultura  Con un puesto de trabajo  Hombre   \n",
       "4        Agricultura        Agricultura  Con un puesto de trabajo  Hombre   \n",
       "\n",
       "                                     rango_edad  \\\n",
       "0  Mayor o igual a 55 y menor a 60 años de edad   \n",
       "1  Mayor o igual a 60 y menor a 65 años de edad   \n",
       "2  Mayor o igual a 60 y menor a 65 años de edad   \n",
       "3  Mayor o igual a 65 y menor a 70 años de edad   \n",
       "4  Mayor o igual a 70 y menor a 75 años de edad   \n",
       "\n",
       "                       rango_salarial_descripcion  \n",
       "0     mayor a 1 y hasta 2 veces el salario mínimo  \n",
       "1     mayor a 1 y hasta 2 veces el salario mínimo  \n",
       "2     mayor a 6 y hasta 7 veces el salario mínimo  \n",
       "3     mayor a 1 y hasta 2 veces el salario mínimo  \n",
       "4   mayor a 13 y hasta 14 veces el salario mínimo  "
      ]
     },
     "execution_count": 83,
     "metadata": {},
     "output_type": "execute_result"
    }
   ],
   "source": [
    "# Explorar el dataframe\n",
    "imss_df.head()"
   ]
  },
  {
   "cell_type": "code",
   "execution_count": 89,
   "metadata": {},
   "outputs": [
    {
     "data": {
      "text/plain": [
       "rango_salarial\n",
       "W2     249761\n",
       "W3     125460\n",
       "W4      77981\n",
       "W5      50095\n",
       "W6      32323\n",
       "W7      22077\n",
       "W8      16027\n",
       "W9      10937\n",
       "W10      8047\n",
       "W11      5795\n",
       "W12      5102\n",
       "W14      4759\n",
       "W13      4144\n",
       "W16      3977\n",
       "W18      2609\n",
       "W15      2285\n",
       "W21      1665\n",
       "W17      1359\n",
       "W23      1259\n",
       "W1        944\n",
       "W20       938\n",
       "W19       752\n",
       "W22       683\n",
       "NaN       660\n",
       "Name: count, dtype: int64"
      ]
     },
     "execution_count": 89,
     "metadata": {},
     "output_type": "execute_result"
    }
   ],
   "source": [
    "# Conteo de valores de rango salarial\n",
    "conteo_por_categoria = imss_df['rango_salarial'].value_counts(dropna=False)\n",
    "conteo_por_categoria"
   ]
  },
  {
   "cell_type": "code",
   "execution_count": 90,
   "metadata": {},
   "outputs": [
    {
     "data": {
      "text/plain": [
       "660"
      ]
     },
     "execution_count": 90,
     "metadata": {},
     "output_type": "execute_result"
    }
   ],
   "source": [
    "# Contar datos faltantes\n",
    "imss_df['rango_salarial'].isna().sum()"
   ]
  },
  {
   "cell_type": "code",
   "execution_count": 91,
   "metadata": {},
   "outputs": [
    {
     "data": {
      "image/png": "[encoded data removed]",
      "text/plain": [
       "<Figure size 1400x600 with 1 Axes>"
      ]
     },
     "metadata": {},
     "output_type": "display_data"
    }
   ],
   "source": [
    "# Visualizar la frecuencia de cada categoría\n",
    "# Ordenamos las categorías por el conteo de mayor a menor\n",
    "orden_categorias = conteo_por_categoria.index\n",
    "\n",
    "# Creamos el gráfico de barras con el orden especificado\n",
    "sns.set_theme()\n",
    "plt.figure(figsize=(14, 6))  # Ajustar el tamaño \n",
    "ax = sns.countplot(x='rango_salarial', data=imss_df, order=orden_categorias)\n",
    "plt.xticks(rotation=90)  # Rotar las etiquetas del eje x \n",
    "\n",
    "plt.show()"
   ]
  }
 ],
 "metadata": {
  "kernelspec": {
   "display_name": ".venv",
   "language": "python",
   "name": "python3"
  },
  "language_info": {
   "codemirror_mode": {
    "name": "ipython",
    "version": 3
   },
   "file_extension": ".py",
   "mimetype": "text/x-python",
   "name": "python",
   "nbconvert_exporter": "python",
   "pygments_lexer": "ipython3",
   "version": "3.9.6"
  }
 },
 "nbformat": 4,
 "nbformat_minor": 2
}
